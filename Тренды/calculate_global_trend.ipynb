{
 "cells": [
  {
   "cell_type": "code",
   "execution_count": 1,
   "metadata": {},
   "outputs": [],
   "source": [
    "import ee\n",
    "import geemap\n",
    "import datetime\n",
    "import numpy as np\n",
    "import pandas as pd\n",
    "from dateutil import tz"
   ]
  },
  {
   "cell_type": "code",
   "execution_count": null,
   "metadata": {},
   "outputs": [
    {
     "data": {
      "text/html": [
       "\n",
       "            <style>\n",
       "                .geemap-dark {\n",
       "                    --jp-widgets-color: white;\n",
       "                    --jp-widgets-label-color: white;\n",
       "                    --jp-ui-font-color1: white;\n",
       "                    --jp-layout-color2: #454545;\n",
       "                    background-color: #383838;\n",
       "                }\n",
       "\n",
       "                .geemap-dark .jupyter-button {\n",
       "                    --jp-layout-color3: #383838;\n",
       "                }\n",
       "\n",
       "                .geemap-colab {\n",
       "                    background-color: var(--colab-primary-surface-color, white);\n",
       "                }\n",
       "\n",
       "                .geemap-colab .jupyter-button {\n",
       "                    --jp-layout-color3: var(--colab-primary-surface-color, white);\n",
       "                }\n",
       "            </style>\n",
       "            "
      ],
      "text/plain": [
       "<IPython.core.display.HTML object>"
      ]
     },
     "metadata": {},
     "output_type": "display_data"
    },
    {
     "name": "stderr",
     "output_type": "stream",
     "text": [
      "(node:8778) [DEP0040] DeprecationWarning: The `punycode` module is deprecated. Please use a userland alternative instead.\n",
      "(Use `node --trace-deprecation ...` to show where the warning was created)\n"
     ]
    },
    {
     "name": "stdout",
     "output_type": "stream",
     "text": [
      "!!!!! On 11-07-2022 this code has been updated to run with landsat collection 2 data !!!!!\n",
      "!!!!! On 11-07-2022 this code has been updated to run with landsat collection 2 data !!!!!\n",
      "!!!!! On 11-07-2022 this code has been updated to run with landsat collection 2 data !!!!!\n",
      "!!!!! On 11-07-2022 this code has been updated to run with landsat collection 2 data !!!!!\n",
      "!!!!! On 11-07-2022 this code has been updated to run with landsat collection 2 data !!!!!\n"
     ]
    }
   ],
   "source": [
    "geemap.ee_initialize()\n",
    "oeel = geemap.requireJS()\n",
    "ee.Authenticate()\n",
    "ee.Initialize(project='ee-amazyar-test1')\n",
    "\n",
    "modis_date_start = ee.Date(\"2001-01-01\") # в 2001 начал предоставлять тепловую информацию Terra\n",
    "landsat_date_start = ee.Date(\"1986-03-16\") # с 1986 начал предоставлять тепловую информацию Landsat-5\n",
    "landsat_start_year = landsat_date_start.get(\"year\").getInfo()\n",
    "modis_start_year = modis_date_start.get(\"year\").getInfo()\n",
    "date_end = datetime.datetime.now()\n",
    "end_year = date_end.date().year\n",
    "openwater_month_start = 6 # июнь\n",
    "openwater_month_end = 11 # ноябрь\n",
    "\n",
    "baikal_shape = ee.FeatureCollection('projects/ee-amazyar-test/assets/baikal')"
   ]
  },
  {
   "cell_type": "markdown",
   "metadata": {},
   "source": [
    "# LANDSAT"
   ]
  },
  {
   "cell_type": "code",
   "execution_count": null,
   "metadata": {},
   "outputs": [
    {
     "data": {
      "text/html": [
       "\n",
       "            <style>\n",
       "                .geemap-dark {\n",
       "                    --jp-widgets-color: white;\n",
       "                    --jp-widgets-label-color: white;\n",
       "                    --jp-ui-font-color1: white;\n",
       "                    --jp-layout-color2: #454545;\n",
       "                    background-color: #383838;\n",
       "                }\n",
       "\n",
       "                .geemap-dark .jupyter-button {\n",
       "                    --jp-layout-color3: #383838;\n",
       "                }\n",
       "\n",
       "                .geemap-colab {\n",
       "                    background-color: var(--colab-primary-surface-color, white);\n",
       "                }\n",
       "\n",
       "                .geemap-colab .jupyter-button {\n",
       "                    --jp-layout-color3: var(--colab-primary-surface-color, white);\n",
       "                }\n",
       "            </style>\n",
       "            "
      ],
      "text/plain": [
       "<IPython.core.display.HTML object>"
      ]
     },
     "metadata": {},
     "output_type": "display_data"
    }
   ],
   "source": [
    "LandsatLST = geemap.requireJS(\"../baikal_vkr_init/Landsat_LST.js\")"
   ]
  },
  {
   "cell_type": "code",
   "execution_count": 4,
   "metadata": {},
   "outputs": [
    {
     "data": {
      "text/html": [
       "\n",
       "            <style>\n",
       "                .geemap-dark {\n",
       "                    --jp-widgets-color: white;\n",
       "                    --jp-widgets-label-color: white;\n",
       "                    --jp-ui-font-color1: white;\n",
       "                    --jp-layout-color2: #454545;\n",
       "                    background-color: #383838;\n",
       "                }\n",
       "\n",
       "                .geemap-dark .jupyter-button {\n",
       "                    --jp-layout-color3: #383838;\n",
       "                }\n",
       "\n",
       "                .geemap-colab {\n",
       "                    background-color: var(--colab-primary-surface-color, white);\n",
       "                }\n",
       "\n",
       "                .geemap-colab .jupyter-button {\n",
       "                    --jp-layout-color3: var(--colab-primary-surface-color, white);\n",
       "                }\n",
       "            </style>\n",
       "            "
      ],
      "text/plain": [
       "<IPython.core.display.HTML object>"
      ]
     },
     "metadata": {},
     "output_type": "display_data"
    }
   ],
   "source": [
    "use_ndvi = True\n",
    "\n",
    "def get_landsat_collection(satellite_name: str):\n",
    "   coll = LandsatLST.collection(satellite_name, landsat_date_start, date_end, baikal_shape, use_ndvi)#.filter(ee.Filter.lt('CLOUD_COVER', 30))\n",
    "   return coll.select(['LST'])"
   ]
  },
  {
   "cell_type": "code",
   "execution_count": 5,
   "metadata": {},
   "outputs": [
    {
     "data": {
      "text/html": [
       "\n",
       "            <style>\n",
       "                .geemap-dark {\n",
       "                    --jp-widgets-color: white;\n",
       "                    --jp-widgets-label-color: white;\n",
       "                    --jp-ui-font-color1: white;\n",
       "                    --jp-layout-color2: #454545;\n",
       "                    background-color: #383838;\n",
       "                }\n",
       "\n",
       "                .geemap-dark .jupyter-button {\n",
       "                    --jp-layout-color3: #383838;\n",
       "                }\n",
       "\n",
       "                .geemap-colab {\n",
       "                    background-color: var(--colab-primary-surface-color, white);\n",
       "                }\n",
       "\n",
       "                .geemap-colab .jupyter-button {\n",
       "                    --jp-layout-color3: var(--colab-primary-surface-color, white);\n",
       "                }\n",
       "            </style>\n",
       "            "
      ],
      "text/plain": [
       "<IPython.core.display.HTML object>"
      ]
     },
     "metadata": {},
     "output_type": "display_data"
    }
   ],
   "source": [
    "landsats_collection = ee.ImageCollection.merge(get_landsat_collection('L8'),get_landsat_collection('L9'))\n",
    "landsats_collection = ee.ImageCollection.merge(landsats_collection,get_landsat_collection('L7'))\n",
    "landsats_collection = ee.ImageCollection.merge(landsats_collection,get_landsat_collection('L5'))\n",
    "landsats_collection = ee.ImageCollection.merge(landsats_collection,get_landsat_collection('L5'))"
   ]
  },
  {
   "cell_type": "code",
   "execution_count": 6,
   "metadata": {},
   "outputs": [
    {
     "data": {
      "text/html": [
       "\n",
       "            <style>\n",
       "                .geemap-dark {\n",
       "                    --jp-widgets-color: white;\n",
       "                    --jp-widgets-label-color: white;\n",
       "                    --jp-ui-font-color1: white;\n",
       "                    --jp-layout-color2: #454545;\n",
       "                    background-color: #383838;\n",
       "                }\n",
       "\n",
       "                .geemap-dark .jupyter-button {\n",
       "                    --jp-layout-color3: #383838;\n",
       "                }\n",
       "\n",
       "                .geemap-colab {\n",
       "                    background-color: var(--colab-primary-surface-color, white);\n",
       "                }\n",
       "\n",
       "                .geemap-colab .jupyter-button {\n",
       "                    --jp-layout-color3: var(--colab-primary-surface-color, white);\n",
       "                }\n",
       "            </style>\n",
       "            "
      ],
      "text/plain": [
       "<IPython.core.display.HTML object>"
      ]
     },
     "metadata": {},
     "output_type": "display_data"
    }
   ],
   "source": [
    "def get_average_lst_landsat(landsat_collection: ee.ImageCollection, start_time, end_time):\n",
    "   temp = landsat_collection.filterDate(start_time, end_time).mean().reduceRegion(reducer=ee.Reducer.mean(), geometry=baikal_shape, scale=30, maxPixels=1000000000)\n",
    "   result_dict = temp.getInfo()\n",
    "   if(len(result_dict) == 0):\n",
    "      return None\n",
    "   return result_dict['LST']\n",
    "\n",
    "def add_lst(image, d):\n",
    "   temp_time = image.getString('DATE_ACQUIRED').cat(\" \").cat(image.getString('SCENE_CENTER_TIME')).getInfo()\n",
    "   time = pd.to_datetime(temp_time, format='%Y-%m-%d %H:%M:%S.%fZ')\n",
    "   mean = image.reduceRegion(reducer=ee.Reducer.mean(), geometry=baikal_shape, scale=30, maxPixels=1000000000).getInfo()['LST']\n",
    "   d[time] = mean\n",
    "   return d\n",
    "\n",
    "def get_average_lst_landsat(landsat_collection: ee.ImageCollection):\n",
    "   result = {}\n",
    "   coll_size = landsat_collection.size().getInfo()\n",
    "   if coll_size == 0:\n",
    "      return result\n",
    "   landsat_list = landsat_collection.toList(coll_size)\n",
    "   for i in range(coll_size):\n",
    "      image = ee.Image(landsat_list.get(i))\n",
    "      temp_time = image.getString('DATE_ACQUIRED').cat(\" \").cat(image.getString('SCENE_CENTER_TIME')).getInfo()\n",
    "      time = pd.to_datetime(temp_time, format='%Y-%m-%d %H:%M:%S.%fZ')\n",
    "      mean = image.reduceRegion(reducer=ee.Reducer.mean(), geometry=baikal_shape, scale=30, maxPixels=1000000000).getInfo()['LST']\n",
    "      result[time] = mean\n",
    "   return result"
   ]
  },
  {
   "cell_type": "code",
   "execution_count": null,
   "metadata": {},
   "outputs": [
    {
     "data": {
      "text/html": [
       "\n",
       "            <style>\n",
       "                .geemap-dark {\n",
       "                    --jp-widgets-color: white;\n",
       "                    --jp-widgets-label-color: white;\n",
       "                    --jp-ui-font-color1: white;\n",
       "                    --jp-layout-color2: #454545;\n",
       "                    background-color: #383838;\n",
       "                }\n",
       "\n",
       "                .geemap-dark .jupyter-button {\n",
       "                    --jp-layout-color3: #383838;\n",
       "                }\n",
       "\n",
       "                .geemap-colab {\n",
       "                    background-color: var(--colab-primary-surface-color, white);\n",
       "                }\n",
       "\n",
       "                .geemap-colab .jupyter-button {\n",
       "                    --jp-layout-color3: var(--colab-primary-surface-color, white);\n",
       "                }\n",
       "            </style>\n",
       "            "
      ],
      "text/plain": [
       "<IPython.core.display.HTML object>"
      ]
     },
     "metadata": {},
     "output_type": "display_data"
    },
    {
     "name": "stdout",
     "output_type": "stream",
     "text": [
      "1984 {}\n",
      "1985 {}\n",
      "1986 {Timestamp('1986-07-13 03:01:24.924031'): 16.27339768998559, Timestamp('1986-07-29 03:00:51.344056'): 16.573165869364228, Timestamp('1986-11-02 02:57:32.929000'): -13.227672344186969, Timestamp('1986-07-13 03:01:48.785013'): 12.091803148713247, Timestamp('1986-07-29 03:01:15.206081'): 15.148326739520522, Timestamp('1986-11-02 02:57:56.660081'): -18.596356014020028, Timestamp('1986-07-13 03:02:12.788081'): 7.4542387361959594, Timestamp('1986-07-29 03:01:39.212006'): 13.97481009402597, Timestamp('1986-11-02 02:58:20.821050'): -26.57226152621019, Timestamp('1986-11-18 02:57:43.266088'): -3.4592302068156173, Timestamp('1986-06-11 03:03:39.572019'): None, Timestamp('1986-07-13 03:02:36.506075'): None, Timestamp('1986-11-02 02:58:44.553038'): None, Timestamp('1986-11-18 02:58:07'): 2.5347998448313156, Timestamp('1986-06-02 03:08:55.313094'): -3.5995585078764716, Timestamp('1986-06-18 03:08:25.396050'): 6.847358187443933, Timestamp('1986-11-09 03:03:27.547094'): 0.30937971240183865, Timestamp('1986-06-02 03:09:19.171038'): -0.5565752948732023, Timestamp('1986-06-18 03:08:49.255038'): 2.6156504669638636, Timestamp('1986-11-09 03:03:51.423019'): -2.229586178007629, Timestamp('1986-06-18 03:09:13.257025'): 4.177805599950558, Timestamp('1986-11-09 03:04:15.441050'): 0.7690070096073587, Timestamp('1986-06-18 03:09:36.973031'): 7.274843632002761, Timestamp('1986-11-09 03:04:39.173094'): 2.5699043636144236, Timestamp('1986-11-25 03:04:09.901063'): 0.47438310284844043, Timestamp('1986-07-27 03:13:41.122031'): 10.994476261221505, Timestamp('1986-10-31 03:10:22.699063'): None, Timestamp('1986-11-16 03:09:45.756038'): -12.858406287744103, Timestamp('1986-06-09 03:15:41.152044'): None, Timestamp('1986-07-27 03:14:05.127031'): 13.916777285282565, Timestamp('1986-10-31 03:10:46.717025'): -7.904937742310696, Timestamp('1986-06-09 03:16:04.867050'): -0.163580782739512, Timestamp('1986-07-27 03:14:28.846050'): 13.00133318273807, Timestamp('1986-10-31 03:11:10.449000'): -12.16561142818517, Timestamp('1986-11-16 03:10:33.508013'): -5.45060148787239, Timestamp('1986-04-29 03:23:24.899000'): -1.5397001336750642, Timestamp('1986-05-31 03:22:32.065063'): 2.0580334116720014, Timestamp('1986-06-16 03:22:02.443013'): 5.4499889428164145, Timestamp('1986-07-18 03:20:58.664038'): 12.663749845634994, Timestamp('1986-08-03 03:20:24.636063'): 12.29559892737686, Timestamp('1986-10-22 03:17:40.517081'): None, Timestamp('1986-11-07 03:17:05.518075'): 3.9354982805085954, Timestamp('1986-11-23 03:16:28.234056'): -18.621886850289375}\n",
      "1987 {Timestamp('1987-09-18 03:05:29.994044'): None, Timestamp('1987-11-05 03:06:26.141094'): -4.686794896999162, Timestamp('1987-11-05 03:06:49.913063'): -6.236807808685767, Timestamp('1987-11-05 03:07:14.115000'): -8.311005904337014, Timestamp('1987-11-21 03:07:34.276019'): None, Timestamp('1987-02-13 03:05:28.337000'): -27.54194845941271, Timestamp('1987-09-25 03:11:49.937006'): 9.407315114776772, Timestamp('1987-02-13 03:05:52.077038'): -25.94110678889002, Timestamp('1987-03-17 03:07:05.507063'): None, Timestamp('1987-09-25 03:12:13.846006'): 9.229384806263992, Timestamp('1987-02-13 03:06:16.103081'): -23.57706044407412, Timestamp('1987-03-17 03:07:29.536006'): -11.268020558022181, Timestamp('1987-09-25 03:12:37.898025'): 9.37873750347676, Timestamp('1987-02-13 03:06:39.844031'): -21.956009866166738, Timestamp('1987-03-17 03:07:53.278038'): -12.559052574196516, Timestamp('1987-09-25 03:13:01.521000'): 9.627027131073445, Timestamp('1987-10-11 03:13:20.362025'): 4.588773558784484, Timestamp('1987-02-04 03:11:41.518044'): -13.530588978925058, Timestamp('1987-02-20 03:12:19.441069'): None, Timestamp('1987-04-09 03:14:04.717038'): -4.539291041603977, Timestamp('1987-10-02 03:18:33.208094'): None, Timestamp('1987-02-04 03:12:05.544025'): -13.973192114599925, Timestamp('1987-02-20 03:12:43.468044'): -20.048931007542148, Timestamp('1987-04-09 03:14:28.747094'): -5.358725609738251, Timestamp('1987-10-02 03:18:57.262031'): -3.6621898356175215, Timestamp('1987-11-19 03:19:53.731044'): -11.598809874255549, Timestamp('1987-02-04 03:12:29.284000'): -12.518609215881831, Timestamp('1987-02-20 03:13:07.209025'): None, Timestamp('1987-04-09 03:14:52.492050'): -5.762070732241982, Timestamp('1987-06-28 03:16:58.266025'): 2.3059326347073523, Timestamp('1987-10-02 03:19:21.029038'): 2.2282123763101054, Timestamp('1987-10-18 03:19:38.263006'): 2.052230389794686, Timestamp('1987-11-19 03:20:17.361050'): None, Timestamp('1987-02-11 03:18:33.055063'): -18.70279996894706, Timestamp('1987-03-31 03:20:21.254000'): -5.275542830187344, Timestamp('1987-09-23 03:24:56.922019'): 0.8125911445736622, Timestamp('1987-10-09 03:25:16.189019'): -18.49079920191336, Timestamp('1987-02-11 03:18:56.795081'): -22.5052194068006, Timestamp('1987-02-27 03:19:34.318000'): -8.035610648370026, Timestamp('1987-03-31 03:20:44.997044'): -5.048465362514538, Timestamp('1987-09-23 03:25:20.687088'): None, Timestamp('1987-10-09 03:25:39.814031'): None, Timestamp('1987-02-02 03:24:46.164094'): -14.38057945049292, Timestamp('1987-03-22 03:26:36.740088'): -21.510586765790634, Timestamp('1987-05-25 03:28:34.133000'): 1.99554741495954, Timestamp('1987-06-26 03:29:17.437094'): -1.9484985479628487, Timestamp('1987-07-12 03:29:36.241000'): 10.482010840406327}\n"
     ]
    },
    {
     "ename": "KeyboardInterrupt",
     "evalue": "",
     "output_type": "error",
     "traceback": [
      "\u001b[0;31m---------------------------------------------------------------------------\u001b[0m",
      "\u001b[0;31mKeyboardInterrupt\u001b[0m                         Traceback (most recent call last)",
      "Cell \u001b[0;32mIn[8], line 4\u001b[0m\n\u001b[1;32m      2\u001b[0m \u001b[38;5;28;01mfor\u001b[39;00m year \u001b[38;5;129;01min\u001b[39;00m \u001b[38;5;28mrange\u001b[39m(\u001b[38;5;241m1984\u001b[39m, \u001b[38;5;241m2025\u001b[39m):\n\u001b[1;32m      3\u001b[0m    year_coll \u001b[38;5;241m=\u001b[39m landsats_collection\u001b[38;5;241m.\u001b[39mfilterDate(ee\u001b[38;5;241m.\u001b[39mDate(\u001b[38;5;28mstr\u001b[39m(year)), ee\u001b[38;5;241m.\u001b[39mDate(\u001b[38;5;28mstr\u001b[39m(year\u001b[38;5;241m+\u001b[39m\u001b[38;5;241m1\u001b[39m)))\n\u001b[0;32m----> 4\u001b[0m    result \u001b[38;5;241m=\u001b[39m \u001b[43mget_average_lst_landsat\u001b[49m\u001b[43m(\u001b[49m\u001b[43myear_coll\u001b[49m\u001b[43m)\u001b[49m\n\u001b[1;32m      5\u001b[0m    \u001b[38;5;28mprint\u001b[39m(year, result)\n\u001b[1;32m      6\u001b[0m    all_years_landsat[year] \u001b[38;5;241m=\u001b[39m result\n",
      "Cell \u001b[0;32mIn[6], line 25\u001b[0m, in \u001b[0;36mget_average_lst_landsat\u001b[0;34m(landsat_collection)\u001b[0m\n\u001b[1;32m     23\u001b[0m    temp_time \u001b[38;5;241m=\u001b[39m image\u001b[38;5;241m.\u001b[39mgetString(\u001b[38;5;124m'\u001b[39m\u001b[38;5;124mDATE_ACQUIRED\u001b[39m\u001b[38;5;124m'\u001b[39m)\u001b[38;5;241m.\u001b[39mcat(\u001b[38;5;124m\"\u001b[39m\u001b[38;5;124m \u001b[39m\u001b[38;5;124m\"\u001b[39m)\u001b[38;5;241m.\u001b[39mcat(image\u001b[38;5;241m.\u001b[39mgetString(\u001b[38;5;124m'\u001b[39m\u001b[38;5;124mSCENE_CENTER_TIME\u001b[39m\u001b[38;5;124m'\u001b[39m))\u001b[38;5;241m.\u001b[39mgetInfo()\n\u001b[1;32m     24\u001b[0m    time \u001b[38;5;241m=\u001b[39m pd\u001b[38;5;241m.\u001b[39mto_datetime(temp_time, \u001b[38;5;28mformat\u001b[39m\u001b[38;5;241m=\u001b[39m\u001b[38;5;124m'\u001b[39m\u001b[38;5;124m%\u001b[39m\u001b[38;5;124mY-\u001b[39m\u001b[38;5;124m%\u001b[39m\u001b[38;5;124mm-\u001b[39m\u001b[38;5;132;01m%d\u001b[39;00m\u001b[38;5;124m \u001b[39m\u001b[38;5;124m%\u001b[39m\u001b[38;5;124mH:\u001b[39m\u001b[38;5;124m%\u001b[39m\u001b[38;5;124mM:\u001b[39m\u001b[38;5;124m%\u001b[39m\u001b[38;5;124mS.\u001b[39m\u001b[38;5;132;01m%f\u001b[39;00m\u001b[38;5;124mZ\u001b[39m\u001b[38;5;124m'\u001b[39m)\n\u001b[0;32m---> 25\u001b[0m    mean \u001b[38;5;241m=\u001b[39m \u001b[43mimage\u001b[49m\u001b[38;5;241;43m.\u001b[39;49m\u001b[43mreduceRegion\u001b[49m\u001b[43m(\u001b[49m\u001b[43mreducer\u001b[49m\u001b[38;5;241;43m=\u001b[39;49m\u001b[43mee\u001b[49m\u001b[38;5;241;43m.\u001b[39;49m\u001b[43mReducer\u001b[49m\u001b[38;5;241;43m.\u001b[39;49m\u001b[43mmean\u001b[49m\u001b[43m(\u001b[49m\u001b[43m)\u001b[49m\u001b[43m,\u001b[49m\u001b[43m \u001b[49m\u001b[43mgeometry\u001b[49m\u001b[38;5;241;43m=\u001b[39;49m\u001b[43mbaikal_shape\u001b[49m\u001b[43m,\u001b[49m\u001b[43m \u001b[49m\u001b[43mscale\u001b[49m\u001b[38;5;241;43m=\u001b[39;49m\u001b[38;5;241;43m30\u001b[39;49m\u001b[43m,\u001b[49m\u001b[43m \u001b[49m\u001b[43mmaxPixels\u001b[49m\u001b[38;5;241;43m=\u001b[39;49m\u001b[38;5;241;43m1000000000\u001b[39;49m\u001b[43m)\u001b[49m\u001b[38;5;241;43m.\u001b[39;49m\u001b[43mgetInfo\u001b[49m\u001b[43m(\u001b[49m\u001b[43m)\u001b[49m[\u001b[38;5;124m'\u001b[39m\u001b[38;5;124mLST\u001b[39m\u001b[38;5;124m'\u001b[39m]\n\u001b[1;32m     26\u001b[0m    result[time] \u001b[38;5;241m=\u001b[39m mean\n\u001b[1;32m     27\u001b[0m \u001b[38;5;28;01mreturn\u001b[39;00m result\n",
      "File \u001b[0;32m~/.local/lib/python3.13/site-packages/ee/computedobject.py:107\u001b[0m, in \u001b[0;36mComputedObject.getInfo\u001b[0;34m(self)\u001b[0m\n\u001b[1;32m    101\u001b[0m \u001b[38;5;28;01mdef\u001b[39;00m \u001b[38;5;21mgetInfo\u001b[39m(\u001b[38;5;28mself\u001b[39m) \u001b[38;5;241m-\u001b[39m\u001b[38;5;241m>\u001b[39m Optional[Any]:\n\u001b[1;32m    102\u001b[0m \u001b[38;5;250m  \u001b[39m\u001b[38;5;124;03m\"\"\"Fetch and return information about this object.\u001b[39;00m\n\u001b[1;32m    103\u001b[0m \n\u001b[1;32m    104\u001b[0m \u001b[38;5;124;03m  Returns:\u001b[39;00m\n\u001b[1;32m    105\u001b[0m \u001b[38;5;124;03m    The object can evaluate to anything.\u001b[39;00m\n\u001b[1;32m    106\u001b[0m \u001b[38;5;124;03m  \"\"\"\u001b[39;00m\n\u001b[0;32m--> 107\u001b[0m   \u001b[38;5;28;01mreturn\u001b[39;00m \u001b[43mdata\u001b[49m\u001b[38;5;241;43m.\u001b[39;49m\u001b[43mcomputeValue\u001b[49m\u001b[43m(\u001b[49m\u001b[38;5;28;43mself\u001b[39;49m\u001b[43m)\u001b[49m\n",
      "File \u001b[0;32m~/.local/lib/python3.13/site-packages/ee/data.py:1126\u001b[0m, in \u001b[0;36mcomputeValue\u001b[0;34m(obj)\u001b[0m\n\u001b[1;32m   1123\u001b[0m body \u001b[38;5;241m=\u001b[39m {\u001b[38;5;124m'\u001b[39m\u001b[38;5;124mexpression\u001b[39m\u001b[38;5;124m'\u001b[39m: serializer\u001b[38;5;241m.\u001b[39mencode(obj, for_cloud_api\u001b[38;5;241m=\u001b[39m\u001b[38;5;28;01mTrue\u001b[39;00m)}\n\u001b[1;32m   1124\u001b[0m _maybe_populate_workload_tag(body)\n\u001b[0;32m-> 1126\u001b[0m \u001b[38;5;28;01mreturn\u001b[39;00m \u001b[43m_execute_cloud_call\u001b[49m\u001b[43m(\u001b[49m\n\u001b[1;32m   1127\u001b[0m \u001b[43m    \u001b[49m\u001b[43m_get_cloud_projects\u001b[49m\u001b[43m(\u001b[49m\u001b[43m)\u001b[49m\n\u001b[1;32m   1128\u001b[0m \u001b[43m    \u001b[49m\u001b[38;5;241;43m.\u001b[39;49m\u001b[43mvalue\u001b[49m\u001b[43m(\u001b[49m\u001b[43m)\u001b[49m\n\u001b[1;32m   1129\u001b[0m \u001b[43m    \u001b[49m\u001b[38;5;241;43m.\u001b[39;49m\u001b[43mcompute\u001b[49m\u001b[43m(\u001b[49m\u001b[43mbody\u001b[49m\u001b[38;5;241;43m=\u001b[39;49m\u001b[43mbody\u001b[49m\u001b[43m,\u001b[49m\u001b[43m \u001b[49m\u001b[43mproject\u001b[49m\u001b[38;5;241;43m=\u001b[39;49m\u001b[43m_get_projects_path\u001b[49m\u001b[43m(\u001b[49m\u001b[43m)\u001b[49m\u001b[43m,\u001b[49m\u001b[43m \u001b[49m\u001b[43mprettyPrint\u001b[49m\u001b[38;5;241;43m=\u001b[39;49m\u001b[38;5;28;43;01mFalse\u001b[39;49;00m\u001b[43m)\u001b[49m\n\u001b[1;32m   1130\u001b[0m \u001b[43m\u001b[49m\u001b[43m)\u001b[49m[\u001b[38;5;124m'\u001b[39m\u001b[38;5;124mresult\u001b[39m\u001b[38;5;124m'\u001b[39m]\n",
      "File \u001b[0;32m~/.local/lib/python3.13/site-packages/ee/data.py:406\u001b[0m, in \u001b[0;36m_execute_cloud_call\u001b[0;34m(call, num_retries)\u001b[0m\n\u001b[1;32m    404\u001b[0m num_retries \u001b[38;5;241m=\u001b[39m _max_retries \u001b[38;5;28;01mif\u001b[39;00m num_retries \u001b[38;5;129;01mis\u001b[39;00m \u001b[38;5;28;01mNone\u001b[39;00m \u001b[38;5;28;01melse\u001b[39;00m num_retries\n\u001b[1;32m    405\u001b[0m \u001b[38;5;28;01mtry\u001b[39;00m:\n\u001b[0;32m--> 406\u001b[0m   \u001b[38;5;28;01mreturn\u001b[39;00m \u001b[43mcall\u001b[49m\u001b[38;5;241;43m.\u001b[39;49m\u001b[43mexecute\u001b[49m\u001b[43m(\u001b[49m\u001b[43mnum_retries\u001b[49m\u001b[38;5;241;43m=\u001b[39;49m\u001b[43mnum_retries\u001b[49m\u001b[43m)\u001b[49m\n\u001b[1;32m    407\u001b[0m \u001b[38;5;28;01mexcept\u001b[39;00m googleapiclient\u001b[38;5;241m.\u001b[39merrors\u001b[38;5;241m.\u001b[39mHttpError \u001b[38;5;28;01mas\u001b[39;00m e:\n\u001b[1;32m    408\u001b[0m   \u001b[38;5;28;01mraise\u001b[39;00m _translate_cloud_exception(e)\n",
      "File \u001b[0;32m~/.local/lib/python3.13/site-packages/googleapiclient/_helpers.py:130\u001b[0m, in \u001b[0;36mpositional.<locals>.positional_decorator.<locals>.positional_wrapper\u001b[0;34m(*args, **kwargs)\u001b[0m\n\u001b[1;32m    128\u001b[0m     \u001b[38;5;28;01melif\u001b[39;00m positional_parameters_enforcement \u001b[38;5;241m==\u001b[39m POSITIONAL_WARNING:\n\u001b[1;32m    129\u001b[0m         logger\u001b[38;5;241m.\u001b[39mwarning(message)\n\u001b[0;32m--> 130\u001b[0m \u001b[38;5;28;01mreturn\u001b[39;00m \u001b[43mwrapped\u001b[49m\u001b[43m(\u001b[49m\u001b[38;5;241;43m*\u001b[39;49m\u001b[43margs\u001b[49m\u001b[43m,\u001b[49m\u001b[43m \u001b[49m\u001b[38;5;241;43m*\u001b[39;49m\u001b[38;5;241;43m*\u001b[39;49m\u001b[43mkwargs\u001b[49m\u001b[43m)\u001b[49m\n",
      "File \u001b[0;32m~/.local/lib/python3.13/site-packages/googleapiclient/http.py:923\u001b[0m, in \u001b[0;36mHttpRequest.execute\u001b[0;34m(self, http, num_retries)\u001b[0m\n\u001b[1;32m    920\u001b[0m     \u001b[38;5;28mself\u001b[39m\u001b[38;5;241m.\u001b[39mheaders[\u001b[38;5;124m\"\u001b[39m\u001b[38;5;124mcontent-length\u001b[39m\u001b[38;5;124m\"\u001b[39m] \u001b[38;5;241m=\u001b[39m \u001b[38;5;28mstr\u001b[39m(\u001b[38;5;28mlen\u001b[39m(\u001b[38;5;28mself\u001b[39m\u001b[38;5;241m.\u001b[39mbody))\n\u001b[1;32m    922\u001b[0m \u001b[38;5;66;03m# Handle retries for server-side errors.\u001b[39;00m\n\u001b[0;32m--> 923\u001b[0m resp, content \u001b[38;5;241m=\u001b[39m \u001b[43m_retry_request\u001b[49m\u001b[43m(\u001b[49m\n\u001b[1;32m    924\u001b[0m \u001b[43m    \u001b[49m\u001b[43mhttp\u001b[49m\u001b[43m,\u001b[49m\n\u001b[1;32m    925\u001b[0m \u001b[43m    \u001b[49m\u001b[43mnum_retries\u001b[49m\u001b[43m,\u001b[49m\n\u001b[1;32m    926\u001b[0m \u001b[43m    \u001b[49m\u001b[38;5;124;43m\"\u001b[39;49m\u001b[38;5;124;43mrequest\u001b[39;49m\u001b[38;5;124;43m\"\u001b[39;49m\u001b[43m,\u001b[49m\n\u001b[1;32m    927\u001b[0m \u001b[43m    \u001b[49m\u001b[38;5;28;43mself\u001b[39;49m\u001b[38;5;241;43m.\u001b[39;49m\u001b[43m_sleep\u001b[49m\u001b[43m,\u001b[49m\n\u001b[1;32m    928\u001b[0m \u001b[43m    \u001b[49m\u001b[38;5;28;43mself\u001b[39;49m\u001b[38;5;241;43m.\u001b[39;49m\u001b[43m_rand\u001b[49m\u001b[43m,\u001b[49m\n\u001b[1;32m    929\u001b[0m \u001b[43m    \u001b[49m\u001b[38;5;28;43mstr\u001b[39;49m\u001b[43m(\u001b[49m\u001b[38;5;28;43mself\u001b[39;49m\u001b[38;5;241;43m.\u001b[39;49m\u001b[43muri\u001b[49m\u001b[43m)\u001b[49m\u001b[43m,\u001b[49m\n\u001b[1;32m    930\u001b[0m \u001b[43m    \u001b[49m\u001b[43mmethod\u001b[49m\u001b[38;5;241;43m=\u001b[39;49m\u001b[38;5;28;43mstr\u001b[39;49m\u001b[43m(\u001b[49m\u001b[38;5;28;43mself\u001b[39;49m\u001b[38;5;241;43m.\u001b[39;49m\u001b[43mmethod\u001b[49m\u001b[43m)\u001b[49m\u001b[43m,\u001b[49m\n\u001b[1;32m    931\u001b[0m \u001b[43m    \u001b[49m\u001b[43mbody\u001b[49m\u001b[38;5;241;43m=\u001b[39;49m\u001b[38;5;28;43mself\u001b[39;49m\u001b[38;5;241;43m.\u001b[39;49m\u001b[43mbody\u001b[49m\u001b[43m,\u001b[49m\n\u001b[1;32m    932\u001b[0m \u001b[43m    \u001b[49m\u001b[43mheaders\u001b[49m\u001b[38;5;241;43m=\u001b[39;49m\u001b[38;5;28;43mself\u001b[39;49m\u001b[38;5;241;43m.\u001b[39;49m\u001b[43mheaders\u001b[49m\u001b[43m,\u001b[49m\n\u001b[1;32m    933\u001b[0m \u001b[43m\u001b[49m\u001b[43m)\u001b[49m\n\u001b[1;32m    935\u001b[0m \u001b[38;5;28;01mfor\u001b[39;00m callback \u001b[38;5;129;01min\u001b[39;00m \u001b[38;5;28mself\u001b[39m\u001b[38;5;241m.\u001b[39mresponse_callbacks:\n\u001b[1;32m    936\u001b[0m     callback(resp)\n",
      "File \u001b[0;32m~/.local/lib/python3.13/site-packages/googleapiclient/http.py:191\u001b[0m, in \u001b[0;36m_retry_request\u001b[0;34m(http, num_retries, req_type, sleep, rand, uri, method, *args, **kwargs)\u001b[0m\n\u001b[1;32m    189\u001b[0m \u001b[38;5;28;01mtry\u001b[39;00m:\n\u001b[1;32m    190\u001b[0m     exception \u001b[38;5;241m=\u001b[39m \u001b[38;5;28;01mNone\u001b[39;00m\n\u001b[0;32m--> 191\u001b[0m     resp, content \u001b[38;5;241m=\u001b[39m \u001b[43mhttp\u001b[49m\u001b[38;5;241;43m.\u001b[39;49m\u001b[43mrequest\u001b[49m\u001b[43m(\u001b[49m\u001b[43muri\u001b[49m\u001b[43m,\u001b[49m\u001b[43m \u001b[49m\u001b[43mmethod\u001b[49m\u001b[43m,\u001b[49m\u001b[43m \u001b[49m\u001b[38;5;241;43m*\u001b[39;49m\u001b[43margs\u001b[49m\u001b[43m,\u001b[49m\u001b[43m \u001b[49m\u001b[38;5;241;43m*\u001b[39;49m\u001b[38;5;241;43m*\u001b[39;49m\u001b[43mkwargs\u001b[49m\u001b[43m)\u001b[49m\n\u001b[1;32m    192\u001b[0m \u001b[38;5;66;03m# Retry on SSL errors and socket timeout errors.\u001b[39;00m\n\u001b[1;32m    193\u001b[0m \u001b[38;5;28;01mexcept\u001b[39;00m _ssl_SSLError \u001b[38;5;28;01mas\u001b[39;00m ssl_error:\n",
      "File \u001b[0;32m~/.local/lib/python3.13/site-packages/google_auth_httplib2.py:218\u001b[0m, in \u001b[0;36mAuthorizedHttp.request\u001b[0;34m(self, uri, method, body, headers, redirections, connection_type, **kwargs)\u001b[0m\n\u001b[1;32m    215\u001b[0m     body_stream_position \u001b[38;5;241m=\u001b[39m body\u001b[38;5;241m.\u001b[39mtell()\n\u001b[1;32m    217\u001b[0m \u001b[38;5;66;03m# Make the request.\u001b[39;00m\n\u001b[0;32m--> 218\u001b[0m response, content \u001b[38;5;241m=\u001b[39m \u001b[38;5;28;43mself\u001b[39;49m\u001b[38;5;241;43m.\u001b[39;49m\u001b[43mhttp\u001b[49m\u001b[38;5;241;43m.\u001b[39;49m\u001b[43mrequest\u001b[49m\u001b[43m(\u001b[49m\n\u001b[1;32m    219\u001b[0m \u001b[43m    \u001b[49m\u001b[43muri\u001b[49m\u001b[43m,\u001b[49m\n\u001b[1;32m    220\u001b[0m \u001b[43m    \u001b[49m\u001b[43mmethod\u001b[49m\u001b[43m,\u001b[49m\n\u001b[1;32m    221\u001b[0m \u001b[43m    \u001b[49m\u001b[43mbody\u001b[49m\u001b[38;5;241;43m=\u001b[39;49m\u001b[43mbody\u001b[49m\u001b[43m,\u001b[49m\n\u001b[1;32m    222\u001b[0m \u001b[43m    \u001b[49m\u001b[43mheaders\u001b[49m\u001b[38;5;241;43m=\u001b[39;49m\u001b[43mrequest_headers\u001b[49m\u001b[43m,\u001b[49m\n\u001b[1;32m    223\u001b[0m \u001b[43m    \u001b[49m\u001b[43mredirections\u001b[49m\u001b[38;5;241;43m=\u001b[39;49m\u001b[43mredirections\u001b[49m\u001b[43m,\u001b[49m\n\u001b[1;32m    224\u001b[0m \u001b[43m    \u001b[49m\u001b[43mconnection_type\u001b[49m\u001b[38;5;241;43m=\u001b[39;49m\u001b[43mconnection_type\u001b[49m\u001b[43m,\u001b[49m\n\u001b[1;32m    225\u001b[0m \u001b[43m    \u001b[49m\u001b[38;5;241;43m*\u001b[39;49m\u001b[38;5;241;43m*\u001b[39;49m\u001b[43mkwargs\u001b[49m\n\u001b[1;32m    226\u001b[0m \u001b[43m\u001b[49m\u001b[43m)\u001b[49m\n\u001b[1;32m    228\u001b[0m \u001b[38;5;66;03m# If the response indicated that the credentials needed to be\u001b[39;00m\n\u001b[1;32m    229\u001b[0m \u001b[38;5;66;03m# refreshed, then refresh the credentials and re-attempt the\u001b[39;00m\n\u001b[1;32m    230\u001b[0m \u001b[38;5;66;03m# request.\u001b[39;00m\n\u001b[1;32m    231\u001b[0m \u001b[38;5;66;03m# A stored token may expire between the time it is retrieved and\u001b[39;00m\n\u001b[1;32m    232\u001b[0m \u001b[38;5;66;03m# the time the request is made, so we may need to try twice.\u001b[39;00m\n\u001b[1;32m    233\u001b[0m \u001b[38;5;28;01mif\u001b[39;00m (\n\u001b[1;32m    234\u001b[0m     response\u001b[38;5;241m.\u001b[39mstatus \u001b[38;5;129;01min\u001b[39;00m \u001b[38;5;28mself\u001b[39m\u001b[38;5;241m.\u001b[39m_refresh_status_codes\n\u001b[1;32m    235\u001b[0m     \u001b[38;5;129;01mand\u001b[39;00m _credential_refresh_attempt \u001b[38;5;241m<\u001b[39m \u001b[38;5;28mself\u001b[39m\u001b[38;5;241m.\u001b[39m_max_refresh_attempts\n\u001b[1;32m    236\u001b[0m ):\n",
      "File \u001b[0;32m~/.local/lib/python3.13/site-packages/ee/_cloud_api_utils.py:70\u001b[0m, in \u001b[0;36m_Http.request\u001b[0;34m(***failed resolving arguments***)\u001b[0m\n\u001b[1;32m     63\u001b[0m \u001b[38;5;28;01mdel\u001b[39;00m redirections  \u001b[38;5;66;03m# Ignored\u001b[39;00m\n\u001b[1;32m     65\u001b[0m \u001b[38;5;28;01mtry\u001b[39;00m:\n\u001b[1;32m     66\u001b[0m   \u001b[38;5;66;03m# googleapiclient is expecting an httplib2 object, and doesn't include\u001b[39;00m\n\u001b[1;32m     67\u001b[0m   \u001b[38;5;66;03m# requests error in the list of transient errors. Therefore, transient\u001b[39;00m\n\u001b[1;32m     68\u001b[0m   \u001b[38;5;66;03m# requests errors should be converted to kinds that googleapiclient\u001b[39;00m\n\u001b[1;32m     69\u001b[0m   \u001b[38;5;66;03m# consider transient.\u001b[39;00m\n\u001b[0;32m---> 70\u001b[0m   response \u001b[38;5;241m=\u001b[39m \u001b[38;5;28;43mself\u001b[39;49m\u001b[38;5;241;43m.\u001b[39;49m\u001b[43m_session\u001b[49m\u001b[38;5;241;43m.\u001b[39;49m\u001b[43mrequest\u001b[49m\u001b[43m(\u001b[49m\n\u001b[1;32m     71\u001b[0m \u001b[43m      \u001b[49m\u001b[43mmethod\u001b[49m\u001b[43m,\u001b[49m\u001b[43m \u001b[49m\u001b[43muri\u001b[49m\u001b[43m,\u001b[49m\u001b[43m \u001b[49m\u001b[43mdata\u001b[49m\u001b[38;5;241;43m=\u001b[39;49m\u001b[43mbody\u001b[49m\u001b[43m,\u001b[49m\u001b[43m \u001b[49m\u001b[43mheaders\u001b[49m\u001b[38;5;241;43m=\u001b[39;49m\u001b[43mheaders\u001b[49m\u001b[43m,\u001b[49m\u001b[43m \u001b[49m\u001b[43mtimeout\u001b[49m\u001b[38;5;241;43m=\u001b[39;49m\u001b[38;5;28;43mself\u001b[39;49m\u001b[38;5;241;43m.\u001b[39;49m\u001b[43m_timeout\u001b[49m\n\u001b[1;32m     72\u001b[0m \u001b[43m  \u001b[49m\u001b[43m)\u001b[49m\n\u001b[1;32m     73\u001b[0m \u001b[38;5;28;01mexcept\u001b[39;00m requests\u001b[38;5;241m.\u001b[39mexceptions\u001b[38;5;241m.\u001b[39mConnectionError \u001b[38;5;28;01mas\u001b[39;00m connection_error:\n\u001b[1;32m     74\u001b[0m   \u001b[38;5;28;01mraise\u001b[39;00m \u001b[38;5;167;01mConnectionError\u001b[39;00m(connection_error) \u001b[38;5;28;01mfrom\u001b[39;00m \u001b[38;5;21;01mconnection_error\u001b[39;00m\n",
      "File \u001b[0;32m/usr/lib/python3.13/site-packages/requests/sessions.py:589\u001b[0m, in \u001b[0;36mSession.request\u001b[0;34m(self, method, url, params, data, headers, cookies, files, auth, timeout, allow_redirects, proxies, hooks, stream, verify, cert, json)\u001b[0m\n\u001b[1;32m    584\u001b[0m send_kwargs \u001b[38;5;241m=\u001b[39m {\n\u001b[1;32m    585\u001b[0m     \u001b[38;5;124m\"\u001b[39m\u001b[38;5;124mtimeout\u001b[39m\u001b[38;5;124m\"\u001b[39m: timeout,\n\u001b[1;32m    586\u001b[0m     \u001b[38;5;124m\"\u001b[39m\u001b[38;5;124mallow_redirects\u001b[39m\u001b[38;5;124m\"\u001b[39m: allow_redirects,\n\u001b[1;32m    587\u001b[0m }\n\u001b[1;32m    588\u001b[0m send_kwargs\u001b[38;5;241m.\u001b[39mupdate(settings)\n\u001b[0;32m--> 589\u001b[0m resp \u001b[38;5;241m=\u001b[39m \u001b[38;5;28;43mself\u001b[39;49m\u001b[38;5;241;43m.\u001b[39;49m\u001b[43msend\u001b[49m\u001b[43m(\u001b[49m\u001b[43mprep\u001b[49m\u001b[43m,\u001b[49m\u001b[43m \u001b[49m\u001b[38;5;241;43m*\u001b[39;49m\u001b[38;5;241;43m*\u001b[39;49m\u001b[43msend_kwargs\u001b[49m\u001b[43m)\u001b[49m\n\u001b[1;32m    591\u001b[0m \u001b[38;5;28;01mreturn\u001b[39;00m resp\n",
      "File \u001b[0;32m/usr/lib/python3.13/site-packages/requests/sessions.py:703\u001b[0m, in \u001b[0;36mSession.send\u001b[0;34m(self, request, **kwargs)\u001b[0m\n\u001b[1;32m    700\u001b[0m start \u001b[38;5;241m=\u001b[39m preferred_clock()\n\u001b[1;32m    702\u001b[0m \u001b[38;5;66;03m# Send the request\u001b[39;00m\n\u001b[0;32m--> 703\u001b[0m r \u001b[38;5;241m=\u001b[39m \u001b[43madapter\u001b[49m\u001b[38;5;241;43m.\u001b[39;49m\u001b[43msend\u001b[49m\u001b[43m(\u001b[49m\u001b[43mrequest\u001b[49m\u001b[43m,\u001b[49m\u001b[43m \u001b[49m\u001b[38;5;241;43m*\u001b[39;49m\u001b[38;5;241;43m*\u001b[39;49m\u001b[43mkwargs\u001b[49m\u001b[43m)\u001b[49m\n\u001b[1;32m    705\u001b[0m \u001b[38;5;66;03m# Total elapsed time of the request (approximately)\u001b[39;00m\n\u001b[1;32m    706\u001b[0m elapsed \u001b[38;5;241m=\u001b[39m preferred_clock() \u001b[38;5;241m-\u001b[39m start\n",
      "File \u001b[0;32m/usr/lib/python3.13/site-packages/requests/adapters.py:668\u001b[0m, in \u001b[0;36mHTTPAdapter.send\u001b[0;34m(self, request, stream, timeout, verify, cert, proxies)\u001b[0m\n\u001b[1;32m    665\u001b[0m     timeout \u001b[38;5;241m=\u001b[39m TimeoutSauce(connect\u001b[38;5;241m=\u001b[39mtimeout, read\u001b[38;5;241m=\u001b[39mtimeout)\n\u001b[1;32m    667\u001b[0m \u001b[38;5;28;01mtry\u001b[39;00m:\n\u001b[0;32m--> 668\u001b[0m     resp \u001b[38;5;241m=\u001b[39m \u001b[43mconn\u001b[49m\u001b[38;5;241;43m.\u001b[39;49m\u001b[43murlopen\u001b[49m\u001b[43m(\u001b[49m\n\u001b[1;32m    669\u001b[0m \u001b[43m        \u001b[49m\u001b[43mmethod\u001b[49m\u001b[38;5;241;43m=\u001b[39;49m\u001b[43mrequest\u001b[49m\u001b[38;5;241;43m.\u001b[39;49m\u001b[43mmethod\u001b[49m\u001b[43m,\u001b[49m\n\u001b[1;32m    670\u001b[0m \u001b[43m        \u001b[49m\u001b[43murl\u001b[49m\u001b[38;5;241;43m=\u001b[39;49m\u001b[43murl\u001b[49m\u001b[43m,\u001b[49m\n\u001b[1;32m    671\u001b[0m \u001b[43m        \u001b[49m\u001b[43mbody\u001b[49m\u001b[38;5;241;43m=\u001b[39;49m\u001b[43mrequest\u001b[49m\u001b[38;5;241;43m.\u001b[39;49m\u001b[43mbody\u001b[49m\u001b[43m,\u001b[49m\n\u001b[1;32m    672\u001b[0m \u001b[43m        \u001b[49m\u001b[43mheaders\u001b[49m\u001b[38;5;241;43m=\u001b[39;49m\u001b[43mrequest\u001b[49m\u001b[38;5;241;43m.\u001b[39;49m\u001b[43mheaders\u001b[49m\u001b[43m,\u001b[49m\n\u001b[1;32m    673\u001b[0m \u001b[43m        \u001b[49m\u001b[43mredirect\u001b[49m\u001b[38;5;241;43m=\u001b[39;49m\u001b[38;5;28;43;01mFalse\u001b[39;49;00m\u001b[43m,\u001b[49m\n\u001b[1;32m    674\u001b[0m \u001b[43m        \u001b[49m\u001b[43massert_same_host\u001b[49m\u001b[38;5;241;43m=\u001b[39;49m\u001b[38;5;28;43;01mFalse\u001b[39;49;00m\u001b[43m,\u001b[49m\n\u001b[1;32m    675\u001b[0m \u001b[43m        \u001b[49m\u001b[43mpreload_content\u001b[49m\u001b[38;5;241;43m=\u001b[39;49m\u001b[38;5;28;43;01mFalse\u001b[39;49;00m\u001b[43m,\u001b[49m\n\u001b[1;32m    676\u001b[0m \u001b[43m        \u001b[49m\u001b[43mdecode_content\u001b[49m\u001b[38;5;241;43m=\u001b[39;49m\u001b[38;5;28;43;01mFalse\u001b[39;49;00m\u001b[43m,\u001b[49m\n\u001b[1;32m    677\u001b[0m \u001b[43m        \u001b[49m\u001b[43mretries\u001b[49m\u001b[38;5;241;43m=\u001b[39;49m\u001b[38;5;28;43mself\u001b[39;49m\u001b[38;5;241;43m.\u001b[39;49m\u001b[43mmax_retries\u001b[49m\u001b[43m,\u001b[49m\n\u001b[1;32m    678\u001b[0m \u001b[43m        \u001b[49m\u001b[43mtimeout\u001b[49m\u001b[38;5;241;43m=\u001b[39;49m\u001b[43mtimeout\u001b[49m\u001b[43m,\u001b[49m\n\u001b[1;32m    679\u001b[0m \u001b[43m        \u001b[49m\u001b[43mchunked\u001b[49m\u001b[38;5;241;43m=\u001b[39;49m\u001b[43mchunked\u001b[49m\u001b[43m,\u001b[49m\n\u001b[1;32m    680\u001b[0m \u001b[43m    \u001b[49m\u001b[43m)\u001b[49m\n\u001b[1;32m    682\u001b[0m \u001b[38;5;28;01mexcept\u001b[39;00m (ProtocolError, \u001b[38;5;167;01mOSError\u001b[39;00m) \u001b[38;5;28;01mas\u001b[39;00m err:\n\u001b[1;32m    683\u001b[0m     \u001b[38;5;28;01mraise\u001b[39;00m \u001b[38;5;167;01mConnectionError\u001b[39;00m(err, request\u001b[38;5;241m=\u001b[39mrequest)\n",
      "File \u001b[0;32m/usr/lib/python3.13/site-packages/urllib3/connectionpool.py:716\u001b[0m, in \u001b[0;36mHTTPConnectionPool.urlopen\u001b[0;34m(self, method, url, body, headers, retries, redirect, assert_same_host, timeout, pool_timeout, release_conn, chunked, body_pos, **response_kw)\u001b[0m\n\u001b[1;32m    713\u001b[0m     \u001b[38;5;28mself\u001b[39m\u001b[38;5;241m.\u001b[39m_prepare_proxy(conn)\n\u001b[1;32m    715\u001b[0m \u001b[38;5;66;03m# Make the request on the httplib connection object.\u001b[39;00m\n\u001b[0;32m--> 716\u001b[0m httplib_response \u001b[38;5;241m=\u001b[39m \u001b[38;5;28;43mself\u001b[39;49m\u001b[38;5;241;43m.\u001b[39;49m\u001b[43m_make_request\u001b[49m\u001b[43m(\u001b[49m\n\u001b[1;32m    717\u001b[0m \u001b[43m    \u001b[49m\u001b[43mconn\u001b[49m\u001b[43m,\u001b[49m\n\u001b[1;32m    718\u001b[0m \u001b[43m    \u001b[49m\u001b[43mmethod\u001b[49m\u001b[43m,\u001b[49m\n\u001b[1;32m    719\u001b[0m \u001b[43m    \u001b[49m\u001b[43murl\u001b[49m\u001b[43m,\u001b[49m\n\u001b[1;32m    720\u001b[0m \u001b[43m    \u001b[49m\u001b[43mtimeout\u001b[49m\u001b[38;5;241;43m=\u001b[39;49m\u001b[43mtimeout_obj\u001b[49m\u001b[43m,\u001b[49m\n\u001b[1;32m    721\u001b[0m \u001b[43m    \u001b[49m\u001b[43mbody\u001b[49m\u001b[38;5;241;43m=\u001b[39;49m\u001b[43mbody\u001b[49m\u001b[43m,\u001b[49m\n\u001b[1;32m    722\u001b[0m \u001b[43m    \u001b[49m\u001b[43mheaders\u001b[49m\u001b[38;5;241;43m=\u001b[39;49m\u001b[43mheaders\u001b[49m\u001b[43m,\u001b[49m\n\u001b[1;32m    723\u001b[0m \u001b[43m    \u001b[49m\u001b[43mchunked\u001b[49m\u001b[38;5;241;43m=\u001b[39;49m\u001b[43mchunked\u001b[49m\u001b[43m,\u001b[49m\n\u001b[1;32m    724\u001b[0m \u001b[43m\u001b[49m\u001b[43m)\u001b[49m\n\u001b[1;32m    726\u001b[0m \u001b[38;5;66;03m# If we're going to release the connection in ``finally:``, then\u001b[39;00m\n\u001b[1;32m    727\u001b[0m \u001b[38;5;66;03m# the response doesn't need to know about the connection. Otherwise\u001b[39;00m\n\u001b[1;32m    728\u001b[0m \u001b[38;5;66;03m# it will also try to release it and we'll have a double-release\u001b[39;00m\n\u001b[1;32m    729\u001b[0m \u001b[38;5;66;03m# mess.\u001b[39;00m\n\u001b[1;32m    730\u001b[0m response_conn \u001b[38;5;241m=\u001b[39m conn \u001b[38;5;28;01mif\u001b[39;00m \u001b[38;5;129;01mnot\u001b[39;00m release_conn \u001b[38;5;28;01melse\u001b[39;00m \u001b[38;5;28;01mNone\u001b[39;00m\n",
      "File \u001b[0;32m/usr/lib/python3.13/site-packages/urllib3/connectionpool.py:468\u001b[0m, in \u001b[0;36mHTTPConnectionPool._make_request\u001b[0;34m(self, conn, method, url, timeout, chunked, **httplib_request_kw)\u001b[0m\n\u001b[1;32m    463\u001b[0m             httplib_response \u001b[38;5;241m=\u001b[39m conn\u001b[38;5;241m.\u001b[39mgetresponse()\n\u001b[1;32m    464\u001b[0m         \u001b[38;5;28;01mexcept\u001b[39;00m \u001b[38;5;167;01mBaseException\u001b[39;00m \u001b[38;5;28;01mas\u001b[39;00m e:\n\u001b[1;32m    465\u001b[0m             \u001b[38;5;66;03m# Remove the TypeError from the exception chain in\u001b[39;00m\n\u001b[1;32m    466\u001b[0m             \u001b[38;5;66;03m# Python 3 (including for exceptions like SystemExit).\u001b[39;00m\n\u001b[1;32m    467\u001b[0m             \u001b[38;5;66;03m# Otherwise it looks like a bug in the code.\u001b[39;00m\n\u001b[0;32m--> 468\u001b[0m             \u001b[43msix\u001b[49m\u001b[38;5;241;43m.\u001b[39;49m\u001b[43mraise_from\u001b[49m\u001b[43m(\u001b[49m\u001b[43me\u001b[49m\u001b[43m,\u001b[49m\u001b[43m \u001b[49m\u001b[38;5;28;43;01mNone\u001b[39;49;00m\u001b[43m)\u001b[49m\n\u001b[1;32m    469\u001b[0m \u001b[38;5;28;01mexcept\u001b[39;00m (SocketTimeout, BaseSSLError, SocketError) \u001b[38;5;28;01mas\u001b[39;00m e:\n\u001b[1;32m    470\u001b[0m     \u001b[38;5;28mself\u001b[39m\u001b[38;5;241m.\u001b[39m_raise_timeout(err\u001b[38;5;241m=\u001b[39me, url\u001b[38;5;241m=\u001b[39murl, timeout_value\u001b[38;5;241m=\u001b[39mread_timeout)\n",
      "File \u001b[0;32m<string>:3\u001b[0m, in \u001b[0;36mraise_from\u001b[0;34m(value, from_value)\u001b[0m\n",
      "File \u001b[0;32m/usr/lib/python3.13/site-packages/urllib3/connectionpool.py:463\u001b[0m, in \u001b[0;36mHTTPConnectionPool._make_request\u001b[0;34m(self, conn, method, url, timeout, chunked, **httplib_request_kw)\u001b[0m\n\u001b[1;32m    460\u001b[0m \u001b[38;5;28;01mexcept\u001b[39;00m \u001b[38;5;167;01mTypeError\u001b[39;00m:\n\u001b[1;32m    461\u001b[0m     \u001b[38;5;66;03m# Python 3\u001b[39;00m\n\u001b[1;32m    462\u001b[0m     \u001b[38;5;28;01mtry\u001b[39;00m:\n\u001b[0;32m--> 463\u001b[0m         httplib_response \u001b[38;5;241m=\u001b[39m \u001b[43mconn\u001b[49m\u001b[38;5;241;43m.\u001b[39;49m\u001b[43mgetresponse\u001b[49m\u001b[43m(\u001b[49m\u001b[43m)\u001b[49m\n\u001b[1;32m    464\u001b[0m     \u001b[38;5;28;01mexcept\u001b[39;00m \u001b[38;5;167;01mBaseException\u001b[39;00m \u001b[38;5;28;01mas\u001b[39;00m e:\n\u001b[1;32m    465\u001b[0m         \u001b[38;5;66;03m# Remove the TypeError from the exception chain in\u001b[39;00m\n\u001b[1;32m    466\u001b[0m         \u001b[38;5;66;03m# Python 3 (including for exceptions like SystemExit).\u001b[39;00m\n\u001b[1;32m    467\u001b[0m         \u001b[38;5;66;03m# Otherwise it looks like a bug in the code.\u001b[39;00m\n\u001b[1;32m    468\u001b[0m         six\u001b[38;5;241m.\u001b[39mraise_from(e, \u001b[38;5;28;01mNone\u001b[39;00m)\n",
      "File \u001b[0;32m/usr/lib64/python3.13/http/client.py:1430\u001b[0m, in \u001b[0;36mHTTPConnection.getresponse\u001b[0;34m(self)\u001b[0m\n\u001b[1;32m   1428\u001b[0m \u001b[38;5;28;01mtry\u001b[39;00m:\n\u001b[1;32m   1429\u001b[0m     \u001b[38;5;28;01mtry\u001b[39;00m:\n\u001b[0;32m-> 1430\u001b[0m         \u001b[43mresponse\u001b[49m\u001b[38;5;241;43m.\u001b[39;49m\u001b[43mbegin\u001b[49m\u001b[43m(\u001b[49m\u001b[43m)\u001b[49m\n\u001b[1;32m   1431\u001b[0m     \u001b[38;5;28;01mexcept\u001b[39;00m \u001b[38;5;167;01mConnectionError\u001b[39;00m:\n\u001b[1;32m   1432\u001b[0m         \u001b[38;5;28mself\u001b[39m\u001b[38;5;241m.\u001b[39mclose()\n",
      "File \u001b[0;32m/usr/lib64/python3.13/http/client.py:331\u001b[0m, in \u001b[0;36mHTTPResponse.begin\u001b[0;34m(self)\u001b[0m\n\u001b[1;32m    329\u001b[0m \u001b[38;5;66;03m# read until we get a non-100 response\u001b[39;00m\n\u001b[1;32m    330\u001b[0m \u001b[38;5;28;01mwhile\u001b[39;00m \u001b[38;5;28;01mTrue\u001b[39;00m:\n\u001b[0;32m--> 331\u001b[0m     version, status, reason \u001b[38;5;241m=\u001b[39m \u001b[38;5;28;43mself\u001b[39;49m\u001b[38;5;241;43m.\u001b[39;49m\u001b[43m_read_status\u001b[49m\u001b[43m(\u001b[49m\u001b[43m)\u001b[49m\n\u001b[1;32m    332\u001b[0m     \u001b[38;5;28;01mif\u001b[39;00m status \u001b[38;5;241m!=\u001b[39m CONTINUE:\n\u001b[1;32m    333\u001b[0m         \u001b[38;5;28;01mbreak\u001b[39;00m\n",
      "File \u001b[0;32m/usr/lib64/python3.13/http/client.py:292\u001b[0m, in \u001b[0;36mHTTPResponse._read_status\u001b[0;34m(self)\u001b[0m\n\u001b[1;32m    291\u001b[0m \u001b[38;5;28;01mdef\u001b[39;00m \u001b[38;5;21m_read_status\u001b[39m(\u001b[38;5;28mself\u001b[39m):\n\u001b[0;32m--> 292\u001b[0m     line \u001b[38;5;241m=\u001b[39m \u001b[38;5;28mstr\u001b[39m(\u001b[38;5;28;43mself\u001b[39;49m\u001b[38;5;241;43m.\u001b[39;49m\u001b[43mfp\u001b[49m\u001b[38;5;241;43m.\u001b[39;49m\u001b[43mreadline\u001b[49m\u001b[43m(\u001b[49m\u001b[43m_MAXLINE\u001b[49m\u001b[43m \u001b[49m\u001b[38;5;241;43m+\u001b[39;49m\u001b[43m \u001b[49m\u001b[38;5;241;43m1\u001b[39;49m\u001b[43m)\u001b[49m, \u001b[38;5;124m\"\u001b[39m\u001b[38;5;124miso-8859-1\u001b[39m\u001b[38;5;124m\"\u001b[39m)\n\u001b[1;32m    293\u001b[0m     \u001b[38;5;28;01mif\u001b[39;00m \u001b[38;5;28mlen\u001b[39m(line) \u001b[38;5;241m>\u001b[39m _MAXLINE:\n\u001b[1;32m    294\u001b[0m         \u001b[38;5;28;01mraise\u001b[39;00m LineTooLong(\u001b[38;5;124m\"\u001b[39m\u001b[38;5;124mstatus line\u001b[39m\u001b[38;5;124m\"\u001b[39m)\n",
      "File \u001b[0;32m/usr/lib64/python3.13/socket.py:719\u001b[0m, in \u001b[0;36mSocketIO.readinto\u001b[0;34m(self, b)\u001b[0m\n\u001b[1;32m    717\u001b[0m     \u001b[38;5;28;01mraise\u001b[39;00m \u001b[38;5;167;01mOSError\u001b[39;00m(\u001b[38;5;124m\"\u001b[39m\u001b[38;5;124mcannot read from timed out object\u001b[39m\u001b[38;5;124m\"\u001b[39m)\n\u001b[1;32m    718\u001b[0m \u001b[38;5;28;01mtry\u001b[39;00m:\n\u001b[0;32m--> 719\u001b[0m     \u001b[38;5;28;01mreturn\u001b[39;00m \u001b[38;5;28;43mself\u001b[39;49m\u001b[38;5;241;43m.\u001b[39;49m\u001b[43m_sock\u001b[49m\u001b[38;5;241;43m.\u001b[39;49m\u001b[43mrecv_into\u001b[49m\u001b[43m(\u001b[49m\u001b[43mb\u001b[49m\u001b[43m)\u001b[49m\n\u001b[1;32m    720\u001b[0m \u001b[38;5;28;01mexcept\u001b[39;00m timeout:\n\u001b[1;32m    721\u001b[0m     \u001b[38;5;28mself\u001b[39m\u001b[38;5;241m.\u001b[39m_timeout_occurred \u001b[38;5;241m=\u001b[39m \u001b[38;5;28;01mTrue\u001b[39;00m\n",
      "File \u001b[0;32m/usr/lib64/python3.13/ssl.py:1304\u001b[0m, in \u001b[0;36mSSLSocket.recv_into\u001b[0;34m(self, buffer, nbytes, flags)\u001b[0m\n\u001b[1;32m   1300\u001b[0m     \u001b[38;5;28;01mif\u001b[39;00m flags \u001b[38;5;241m!=\u001b[39m \u001b[38;5;241m0\u001b[39m:\n\u001b[1;32m   1301\u001b[0m         \u001b[38;5;28;01mraise\u001b[39;00m \u001b[38;5;167;01mValueError\u001b[39;00m(\n\u001b[1;32m   1302\u001b[0m           \u001b[38;5;124m\"\u001b[39m\u001b[38;5;124mnon-zero flags not allowed in calls to recv_into() on \u001b[39m\u001b[38;5;132;01m%s\u001b[39;00m\u001b[38;5;124m\"\u001b[39m \u001b[38;5;241m%\u001b[39m\n\u001b[1;32m   1303\u001b[0m           \u001b[38;5;28mself\u001b[39m\u001b[38;5;241m.\u001b[39m\u001b[38;5;18m__class__\u001b[39m)\n\u001b[0;32m-> 1304\u001b[0m     \u001b[38;5;28;01mreturn\u001b[39;00m \u001b[38;5;28;43mself\u001b[39;49m\u001b[38;5;241;43m.\u001b[39;49m\u001b[43mread\u001b[49m\u001b[43m(\u001b[49m\u001b[43mnbytes\u001b[49m\u001b[43m,\u001b[49m\u001b[43m \u001b[49m\u001b[43mbuffer\u001b[49m\u001b[43m)\u001b[49m\n\u001b[1;32m   1305\u001b[0m \u001b[38;5;28;01melse\u001b[39;00m:\n\u001b[1;32m   1306\u001b[0m     \u001b[38;5;28;01mreturn\u001b[39;00m \u001b[38;5;28msuper\u001b[39m()\u001b[38;5;241m.\u001b[39mrecv_into(buffer, nbytes, flags)\n",
      "File \u001b[0;32m/usr/lib64/python3.13/ssl.py:1138\u001b[0m, in \u001b[0;36mSSLSocket.read\u001b[0;34m(self, len, buffer)\u001b[0m\n\u001b[1;32m   1136\u001b[0m \u001b[38;5;28;01mtry\u001b[39;00m:\n\u001b[1;32m   1137\u001b[0m     \u001b[38;5;28;01mif\u001b[39;00m buffer \u001b[38;5;129;01mis\u001b[39;00m \u001b[38;5;129;01mnot\u001b[39;00m \u001b[38;5;28;01mNone\u001b[39;00m:\n\u001b[0;32m-> 1138\u001b[0m         \u001b[38;5;28;01mreturn\u001b[39;00m \u001b[38;5;28;43mself\u001b[39;49m\u001b[38;5;241;43m.\u001b[39;49m\u001b[43m_sslobj\u001b[49m\u001b[38;5;241;43m.\u001b[39;49m\u001b[43mread\u001b[49m\u001b[43m(\u001b[49m\u001b[38;5;28;43mlen\u001b[39;49m\u001b[43m,\u001b[49m\u001b[43m \u001b[49m\u001b[43mbuffer\u001b[49m\u001b[43m)\u001b[49m\n\u001b[1;32m   1139\u001b[0m     \u001b[38;5;28;01melse\u001b[39;00m:\n\u001b[1;32m   1140\u001b[0m         \u001b[38;5;28;01mreturn\u001b[39;00m \u001b[38;5;28mself\u001b[39m\u001b[38;5;241m.\u001b[39m_sslobj\u001b[38;5;241m.\u001b[39mread(\u001b[38;5;28mlen\u001b[39m)\n",
      "\u001b[0;31mKeyboardInterrupt\u001b[0m: "
     ]
    }
   ],
   "source": [
    "all_years_landsat = {}\n",
    "for year in range(1988, 2025):\n",
    "   year_coll = landsats_collection.filterDate(ee.Date(str(year)), ee.Date(str(year+1)))\n",
    "   result = get_average_lst_landsat(year_coll)\n",
    "   print(year, result)\n",
    "   all_years_landsat[year] = result\n",
    "   \n",
    "all_years_landsat"
   ]
  },
  {
   "cell_type": "code",
   "execution_count": null,
   "metadata": {},
   "outputs": [],
   "source": [
    "\n",
    "1986 {Timestamp('1986-07-13 03:01:24.924031'): 16.27339768998559, Timestamp('1986-07-29 03:00:51.344056'): 16.573165869364228, Timestamp('1986-11-02 02:57:32.929000'): -13.227672344186969, Timestamp('1986-07-13 03:01:48.785013'): 12.091803148713247, Timestamp('1986-07-29 03:01:15.206081'): 15.148326739520522, Timestamp('1986-11-02 02:57:56.660081'): -18.596356014020028, Timestamp('1986-07-13 03:02:12.788081'): 7.4542387361959594, Timestamp('1986-07-29 03:01:39.212006'): 13.97481009402597, Timestamp('1986-11-02 02:58:20.821050'): -26.57226152621019, Timestamp('1986-11-18 02:57:43.266088'): -3.4592302068156173, Timestamp('1986-06-11 03:03:39.572019'): None, Timestamp('1986-07-13 03:02:36.506075'): None, Timestamp('1986-11-02 02:58:44.553038'): None, Timestamp('1986-11-18 02:58:07'): 2.5347998448313156, Timestamp('1986-06-02 03:08:55.313094'): -3.5995585078764716, Timestamp('1986-06-18 03:08:25.396050'): 6.847358187443933, Timestamp('1986-11-09 03:03:27.547094'): 0.30937971240183865, Timestamp('1986-06-02 03:09:19.171038'): -0.5565752948732023, Timestamp('1986-06-18 03:08:49.255038'): 2.6156504669638636, Timestamp('1986-11-09 03:03:51.423019'): -2.229586178007629, Timestamp('1986-06-18 03:09:13.257025'): 4.177805599950558, Timestamp('1986-11-09 03:04:15.441050'): 0.7690070096073587, Timestamp('1986-06-18 03:09:36.973031'): 7.274843632002761, Timestamp('1986-11-09 03:04:39.173094'): 2.5699043636144236, Timestamp('1986-11-25 03:04:09.901063'): 0.47438310284844043, Timestamp('1986-07-27 03:13:41.122031'): 10.994476261221505, Timestamp('1986-10-31 03:10:22.699063'): None, Timestamp('1986-11-16 03:09:45.756038'): -12.858406287744103, Timestamp('1986-06-09 03:15:41.152044'): None, Timestamp('1986-07-27 03:14:05.127031'): 13.916777285282565, Timestamp('1986-10-31 03:10:46.717025'): -7.904937742310696, Timestamp('1986-06-09 03:16:04.867050'): -0.163580782739512, Timestamp('1986-07-27 03:14:28.846050'): 13.00133318273807, Timestamp('1986-10-31 03:11:10.449000'): -12.16561142818517, Timestamp('1986-11-16 03:10:33.508013'): -5.45060148787239, Timestamp('1986-04-29 03:23:24.899000'): -1.5397001336750642, Timestamp('1986-05-31 03:22:32.065063'): 2.0580334116720014, Timestamp('1986-06-16 03:22:02.443013'): 5.4499889428164145, Timestamp('1986-07-18 03:20:58.664038'): 12.663749845634994, Timestamp('1986-08-03 03:20:24.636063'): 12.29559892737686, Timestamp('1986-10-22 03:17:40.517081'): None, Timestamp('1986-11-07 03:17:05.518075'): 3.9354982805085954, Timestamp('1986-11-23 03:16:28.234056'): -18.621886850289375}\n",
    "1987 {Timestamp('1987-09-18 03:05:29.994044'): None, Timestamp('1987-11-05 03:06:26.141094'): -4.686794896999162, Timestamp('1987-11-05 03:06:49.913063'): -6.236807808685767, Timestamp('1987-11-05 03:07:14.115000'): -8.311005904337014, Timestamp('1987-11-21 03:07:34.276019'): None, Timestamp('1987-02-13 03:05:28.337000'): -27.54194845941271, Timestamp('1987-09-25 03:11:49.937006'): 9.407315114776772, Timestamp('1987-02-13 03:05:52.077038'): -25.94110678889002, Timestamp('1987-03-17 03:07:05.507063'): None, Timestamp('1987-09-25 03:12:13.846006'): 9.229384806263992, Timestamp('1987-02-13 03:06:16.103081'): -23.57706044407412, Timestamp('1987-03-17 03:07:29.536006'): -11.268020558022181, Timestamp('1987-09-25 03:12:37.898025'): 9.37873750347676, Timestamp('1987-02-13 03:06:39.844031'): -21.956009866166738, Timestamp('1987-03-17 03:07:53.278038'): -12.559052574196516, Timestamp('1987-09-25 03:13:01.521000'): 9.627027131073445, Timestamp('1987-10-11 03:13:20.362025'): 4.588773558784484, Timestamp('1987-02-04 03:11:41.518044'): -13.530588978925058, Timestamp('1987-02-20 03:12:19.441069'): None, Timestamp('1987-04-09 03:14:04.717038'): -4.539291041603977, Timestamp('1987-10-02 03:18:33.208094'): None, Timestamp('1987-02-04 03:12:05.544025'): -13.973192114599925, Timestamp('1987-02-20 03:12:43.468044'): -20.048931007542148, Timestamp('1987-04-09 03:14:28.747094'): -5.358725609738251, Timestamp('1987-10-02 03:18:57.262031'): -3.6621898356175215, Timestamp('1987-11-19 03:19:53.731044'): -11.598809874255549, Timestamp('1987-02-04 03:12:29.284000'): -12.518609215881831, Timestamp('1987-02-20 03:13:07.209025'): None, Timestamp('1987-04-09 03:14:52.492050'): -5.762070732241982, Timestamp('1987-06-28 03:16:58.266025'): 2.3059326347073523, Timestamp('1987-10-02 03:19:21.029038'): 2.2282123763101054, Timestamp('1987-10-18 03:19:38.263006'): 2.052230389794686, Timestamp('1987-11-19 03:20:17.361050'): None, Timestamp('1987-02-11 03:18:33.055063'): -18.70279996894706, Timestamp('1987-03-31 03:20:21.254000'): -5.275542830187344, Timestamp('1987-09-23 03:24:56.922019'): 0.8125911445736622, Timestamp('1987-10-09 03:25:16.189019'): -18.49079920191336, Timestamp('1987-02-11 03:18:56.795081'): -22.5052194068006, Timestamp('1987-02-27 03:19:34.318000'): -8.035610648370026, Timestamp('1987-03-31 03:20:44.997044'): -5.048465362514538, Timestamp('1987-09-23 03:25:20.687088'): None, Timestamp('1987-10-09 03:25:39.814031'): None, Timestamp('1987-02-02 03:24:46.164094'): -14.38057945049292, Timestamp('1987-03-22 03:26:36.740088'): -21.510586765790634, Timestamp('1987-05-25 03:28:34.133000'): 1.99554741495954, Timestamp('1987-06-26 03:29:17.437094'): -1.9484985479628487, Timestamp('1987-07-12 03:29:36.241000'): 10.482010840406327}"
   ]
  },
  {
   "cell_type": "code",
   "execution_count": 52,
   "metadata": {},
   "outputs": [
    {
     "data": {
      "text/html": [
       "\n",
       "            <style>\n",
       "                .geemap-dark {\n",
       "                    --jp-widgets-color: white;\n",
       "                    --jp-widgets-label-color: white;\n",
       "                    --jp-ui-font-color1: white;\n",
       "                    --jp-layout-color2: #454545;\n",
       "                    background-color: #383838;\n",
       "                }\n",
       "\n",
       "                .geemap-dark .jupyter-button {\n",
       "                    --jp-layout-color3: #383838;\n",
       "                }\n",
       "\n",
       "                .geemap-colab {\n",
       "                    background-color: var(--colab-primary-surface-color, white);\n",
       "                }\n",
       "\n",
       "                .geemap-colab .jupyter-button {\n",
       "                    --jp-layout-color3: var(--colab-primary-surface-color, white);\n",
       "                }\n",
       "            </style>\n",
       "            "
      ],
      "text/plain": [
       "<IPython.core.display.HTML object>"
      ]
     },
     "metadata": {},
     "output_type": "display_data"
    },
    {
     "data": {
      "text/plain": [
       "{Timestamp('2013-04-01 03:36:33.783319'): -14.321932489351575}"
      ]
     },
     "execution_count": 52,
     "metadata": {},
     "output_type": "execute_result"
    }
   ],
   "source": [
    "all_landsat"
   ]
  },
  {
   "cell_type": "code",
   "execution_count": 13,
   "metadata": {},
   "outputs": [
    {
     "data": {
      "text/html": [
       "\n",
       "            <style>\n",
       "                .geemap-dark {\n",
       "                    --jp-widgets-color: white;\n",
       "                    --jp-widgets-label-color: white;\n",
       "                    --jp-ui-font-color1: white;\n",
       "                    --jp-layout-color2: #454545;\n",
       "                    background-color: #383838;\n",
       "                }\n",
       "\n",
       "                .geemap-dark .jupyter-button {\n",
       "                    --jp-layout-color3: #383838;\n",
       "                }\n",
       "\n",
       "                .geemap-colab {\n",
       "                    background-color: var(--colab-primary-surface-color, white);\n",
       "                }\n",
       "\n",
       "                .geemap-colab .jupyter-button {\n",
       "                    --jp-layout-color3: var(--colab-primary-surface-color, white);\n",
       "                }\n",
       "            </style>\n",
       "            "
      ],
      "text/plain": [
       "<IPython.core.display.HTML object>"
      ]
     },
     "metadata": {},
     "output_type": "display_data"
    },
    {
     "data": {
      "text/plain": [
       "{1996: 7.615046916830711,\n",
       " 1997: 6.4652446881016505,\n",
       " 1998: 8.29735257295523,\n",
       " 1999: 7.466276454270664,\n",
       " 2000: 8.444648433179971,\n",
       " 2001: 6.8573912127145835,\n",
       " 2002: 11.29452174088983,\n",
       " 2003: 8.133507938438473,\n",
       " 2004: 7.756460249341295,\n",
       " 2005: 8.815491983317168,\n",
       " 2006: 6.796633766422254,\n",
       " 2007: 9.983745663150753,\n",
       " 2008: 8.444456981800055,\n",
       " 2009: 7.979558202903978,\n",
       " 2010: 7.409646087737466,\n",
       " 2011: 7.802575171575934,\n",
       " 2012: 8.998809616805136,\n",
       " 2013: 9.029895691880107,\n",
       " 2014: 10.268777774431134,\n",
       " 2015: 10.722652392625395,\n",
       " 2016: 10.075703142279956,\n",
       " 2017: 9.112241223415538,\n",
       " 2018: 9.1208041147658,\n",
       " 2019: 9.838905106835822,\n",
       " 2020: 10.8137280883284,\n",
       " 2021: 8.059809265577483,\n",
       " 2022: 8.255228706723798,\n",
       " 2023: 9.533078486705547,\n",
       " 2024: 9.525957321098034}"
      ]
     },
     "execution_count": 13,
     "metadata": {},
     "output_type": "execute_result"
    }
   ],
   "source": [
    "lst_landsat = {}\n",
    "\n",
    "for year in range(landsat_start_year, end_year):\n",
    "   lst_landsat[year] = {}\n",
    "   for month in range(openwater_month_start, openwater_month_end):\n",
    "      start_date = ee.Date(f\"{year}-{month}-1\")\n",
    "      end_date = ee.Date(f\"{year}-{(month+1)}-1\")\n",
    "      \n",
    "      result = get_average_lst_landsat(landsats_collection, start_date, end_date)\n",
    "      if(result is None):\n",
    "         continue\n",
    "      lst_landsat[year][month] = result\n",
    "   \n",
    "   lst_landsat[year] = np.mean(list(lst_landsat[year].values()))\n",
    "   if lst_landsat[year] is None:\n",
    "      del lst_landsat[year]\n",
    "\n",
    "lst_landsat"
   ]
  },
  {
   "cell_type": "code",
   "execution_count": null,
   "metadata": {},
   "outputs": [
    {
     "data": {
      "text/html": [
       "\n",
       "            <style>\n",
       "                .geemap-dark {\n",
       "                    --jp-widgets-color: white;\n",
       "                    --jp-widgets-label-color: white;\n",
       "                    --jp-ui-font-color1: white;\n",
       "                    --jp-layout-color2: #454545;\n",
       "                    background-color: #383838;\n",
       "                }\n",
       "\n",
       "                .geemap-dark .jupyter-button {\n",
       "                    --jp-layout-color3: #383838;\n",
       "                }\n",
       "\n",
       "                .geemap-colab {\n",
       "                    background-color: var(--colab-primary-surface-color, white);\n",
       "                }\n",
       "\n",
       "                .geemap-colab .jupyter-button {\n",
       "                    --jp-layout-color3: var(--colab-primary-surface-color, white);\n",
       "                }\n",
       "            </style>\n",
       "            "
      ],
      "text/plain": [
       "<IPython.core.display.HTML object>"
      ]
     },
     "metadata": {},
     "output_type": "display_data"
    }
   ],
   "source": [
    "del lst_landsat[1983]\n",
    "del lst_landsat[1984]\n",
    "del lst_landsat[1985]"
   ]
  },
  {
   "cell_type": "code",
   "execution_count": null,
   "metadata": {},
   "outputs": [
    {
     "data": {
      "text/html": [
       "\n",
       "            <style>\n",
       "                .geemap-dark {\n",
       "                    --jp-widgets-color: white;\n",
       "                    --jp-widgets-label-color: white;\n",
       "                    --jp-ui-font-color1: white;\n",
       "                    --jp-layout-color2: #454545;\n",
       "                    background-color: #383838;\n",
       "                }\n",
       "\n",
       "                .geemap-dark .jupyter-button {\n",
       "                    --jp-layout-color3: #383838;\n",
       "                }\n",
       "\n",
       "                .geemap-colab {\n",
       "                    background-color: var(--colab-primary-surface-color, white);\n",
       "                }\n",
       "\n",
       "                .geemap-colab .jupyter-button {\n",
       "                    --jp-layout-color3: var(--colab-primary-surface-color, white);\n",
       "                }\n",
       "            </style>\n",
       "            "
      ],
      "text/plain": [
       "<IPython.core.display.HTML object>"
      ]
     },
     "metadata": {},
     "output_type": "display_data"
    }
   ],
   "source": [
    "lst_landsat_s = { 1996: 7.615046916830711,\n",
    " 1997: 6.4652446881016505,\n",
    " 1998: 8.29735257295523,\n",
    " 1999: 7.466276454270664,\n",
    " 2000: 8.444648433179971,\n",
    " 2001: 6.8573912127145835,\n",
    " 2002: 11.29452174088983,\n",
    " 2003: 8.133507938438473,\n",
    " 2004: 7.756460249341295,\n",
    " 2005: 8.815491983317168,\n",
    " 2006: 6.796633766422254,\n",
    " 2007: 9.983745663150753,\n",
    " 2008: 8.444456981800055,\n",
    " 2009: 7.979558202903978,\n",
    " 2010: 7.409646087737466,\n",
    " 2011: 7.802575171575934,\n",
    " 2012: 8.998809616805136,\n",
    " 2013: 9.029895691880107,\n",
    " 2014: 10.268777774431134,\n",
    " 2015: 10.722652392625395,\n",
    " 2016: 10.075703142279956,\n",
    " 2017: 9.112241223415538,\n",
    " 2018: 9.1208041147658,\n",
    " 2019: 9.838905106835822,\n",
    " 2020: 10.8137280883284,\n",
    " 2021: 8.059809265577483,\n",
    " 2022: 8.255228706723798,\n",
    " 2023: 9.533078486705547,\n",
    " 2024: 9.525957321098034}"
   ]
  },
  {
   "cell_type": "markdown",
   "metadata": {},
   "source": [
    "# MODIS"
   ]
  },
  {
   "cell_type": "code",
   "execution_count": 7,
   "metadata": {},
   "outputs": [
    {
     "data": {
      "text/html": [
       "\n",
       "            <style>\n",
       "                .geemap-dark {\n",
       "                    --jp-widgets-color: white;\n",
       "                    --jp-widgets-label-color: white;\n",
       "                    --jp-ui-font-color1: white;\n",
       "                    --jp-layout-color2: #454545;\n",
       "                    background-color: #383838;\n",
       "                }\n",
       "\n",
       "                .geemap-dark .jupyter-button {\n",
       "                    --jp-layout-color3: #383838;\n",
       "                }\n",
       "\n",
       "                .geemap-colab {\n",
       "                    background-color: var(--colab-primary-surface-color, white);\n",
       "                }\n",
       "\n",
       "                .geemap-colab .jupyter-button {\n",
       "                    --jp-layout-color3: var(--colab-primary-surface-color, white);\n",
       "                }\n",
       "            </style>\n",
       "            "
      ],
      "text/plain": [
       "<IPython.core.display.HTML object>"
      ]
     },
     "metadata": {},
     "output_type": "display_data"
    }
   ],
   "source": [
    "def M11_scale_to_celsius(modis_image: ee.image):\n",
    "   scaled_lsts = modis_image.select(['LST_Day_1km', 'LST_Night_1km']).multiply(0.02).subtract(273.15).rename(['LST_Day', 'LST_Night'])\n",
    "   return modis_image.addBands(srcImg=scaled_lsts)\n",
    "\n",
    "def M21_scale_to_celsius(modis_image: ee.Image):\n",
    "   scaled_lsts = modis_image.select(['LST_Day', 'LST_Night']).subtract(273.15)\n",
    "   return modis_image.addBands(srcImg=scaled_lsts, overwrite=True)\n",
    "\n",
    "m11_terra = ee.ImageCollection('MODIS/061/MOD11A2').map(lambda img: M11_scale_to_celsius(img))\n",
    "m21_terra = ee.ImageCollection('MODIS/061/MOD21C2').map(lambda img: M21_scale_to_celsius(img))\n",
    "m11_aqua = ee.ImageCollection('MODIS/061/MYD11A2').map(lambda img: M11_scale_to_celsius(img))\n",
    "m21_aqua = ee.ImageCollection('MODIS/061/MYD21C2').map(lambda img: M21_scale_to_celsius(img))\n",
    "\n",
    "m11_coll = m11_terra.merge(m11_aqua)\n",
    "m21_coll = m21_terra.merge(m21_aqua)"
   ]
  },
  {
   "cell_type": "code",
   "execution_count": 8,
   "metadata": {},
   "outputs": [
    {
     "data": {
      "text/html": [
       "\n",
       "            <style>\n",
       "                .geemap-dark {\n",
       "                    --jp-widgets-color: white;\n",
       "                    --jp-widgets-label-color: white;\n",
       "                    --jp-ui-font-color1: white;\n",
       "                    --jp-layout-color2: #454545;\n",
       "                    background-color: #383838;\n",
       "                }\n",
       "\n",
       "                .geemap-dark .jupyter-button {\n",
       "                    --jp-layout-color3: #383838;\n",
       "                }\n",
       "\n",
       "                .geemap-colab {\n",
       "                    background-color: var(--colab-primary-surface-color, white);\n",
       "                }\n",
       "\n",
       "                .geemap-colab .jupyter-button {\n",
       "                    --jp-layout-color3: var(--colab-primary-surface-color, white);\n",
       "                }\n",
       "            </style>\n",
       "            "
      ],
      "text/plain": [
       "<IPython.core.display.HTML object>"
      ]
     },
     "metadata": {},
     "output_type": "display_data"
    }
   ],
   "source": [
    "def get_average_lst_modis(modis_coll: ee.ImageCollection, start_time, end_time):\n",
    "   if(modis_coll.size() == 0):\n",
    "      return None\n",
    "   mean_temp = modis_coll.filterDate(start_time, end_time).mean()\n",
    "   day_night_temp = mean_temp.expression(\"(b('LST_Day') + b('LST_Night')) / 2\").rename('LST')\n",
    "   temp = day_night_temp.reduceRegion(reducer=ee.Reducer.mean(), geometry=baikal_shape, scale=30, maxPixels=1000000000)\n",
    "   result_dict = temp.getInfo()\n",
    "   if(len(result_dict) == 0):\n",
    "      return None\n",
    "   return temp.getInfo()['LST']"
   ]
  },
  {
   "cell_type": "code",
   "execution_count": 9,
   "metadata": {},
   "outputs": [
    {
     "data": {
      "text/html": [
       "\n",
       "            <style>\n",
       "                .geemap-dark {\n",
       "                    --jp-widgets-color: white;\n",
       "                    --jp-widgets-label-color: white;\n",
       "                    --jp-ui-font-color1: white;\n",
       "                    --jp-layout-color2: #454545;\n",
       "                    background-color: #383838;\n",
       "                }\n",
       "\n",
       "                .geemap-dark .jupyter-button {\n",
       "                    --jp-layout-color3: #383838;\n",
       "                }\n",
       "\n",
       "                .geemap-colab {\n",
       "                    background-color: var(--colab-primary-surface-color, white);\n",
       "                }\n",
       "\n",
       "                .geemap-colab .jupyter-button {\n",
       "                    --jp-layout-color3: var(--colab-primary-surface-color, white);\n",
       "                }\n",
       "            </style>\n",
       "            "
      ],
      "text/plain": [
       "<IPython.core.display.HTML object>"
      ]
     },
     "metadata": {},
     "output_type": "display_data"
    },
    {
     "name": "stdout",
     "output_type": "stream",
     "text": [
      "{2001: 8.518391334434845, 2002: 10.562313431334651, 2003: 7.857616372707389, 2004: 7.395629688897221, 2005: 9.14143065926696, 2006: 7.007350175325124, 2007: 9.94451399113264, 2008: 8.258408651177756, 2009: 8.258186946255545, 2010: 7.098301657039377, 2011: 8.083154459303568, 2012: 9.068294740221727, 2013: 8.22769966377824, 2014: 10.313111054749466, 2015: 10.214666106018871, 2016: 10.278019374073171, 2017: 9.111631967910679, 2018: 9.083092106624825, 2019: 9.750912104506595, 2020: 10.673629396456128, 2021: 8.178589646995642, 2022: 8.422860681650373, 2023: 10.092309299156067, 2024: 9.718802938390988} {2001: 6.523447096502005, 2002: 11.087026927344537, 2003: 8.227190985636412, 2004: 7.918499190633716, 2005: 9.834607190557838, 2006: 7.375761008911375, 2007: 10.603713281690437, 2008: 8.734014051703918, 2009: 8.932528225671893, 2010: 7.71452877253441, 2011: 8.775993993759588, 2012: 9.776709236956195, 2013: 8.83295322142326, 2014: 10.90875064506874, 2015: 11.124346848601931, 2016: 11.072499313254557, 2017: 9.697003172751204, 2018: 9.721762029880114, 2019: 10.577461115660952, 2020: 11.42118506104802, 2021: 8.943680470222272, 2022: 9.072915370205486, 2023: 11.284890175973027, 2024: 10.757315581774394}\n"
     ]
    }
   ],
   "source": [
    "lst_m21 = {}\n",
    "lst_m11 = {}\n",
    "\n",
    "for year in range(modis_start_year, end_year):\n",
    "   start_date = ee.Date(f\"{year}-{openwater_month_start}-1\")\n",
    "   end_date = ee.Date(f\"{year}-{openwater_month_end}-1\")\n",
    "   \n",
    "   result_m11 = get_average_lst_modis(m11_coll, start_date, end_date)\n",
    "   # print(f\"Complete M11 in {start_date} -- {end_date}\")\n",
    "   result_m21 = get_average_lst_modis(m21_coll, start_date, end_date)\n",
    "   # print(f\"Complete M21 in {start_date} -- {end_date}\")\n",
    "   if(result_m11 is not None):\n",
    "      lst_m11[year] = result_m11\n",
    "   if(result_m21 is not None):\n",
    "      lst_m21[year] = result_m21\n",
    "\n",
    "print(lst_m11, lst_m21)"
   ]
  },
  {
   "cell_type": "code",
   "execution_count": 10,
   "metadata": {},
   "outputs": [
    {
     "data": {
      "text/html": [
       "\n",
       "            <style>\n",
       "                .geemap-dark {\n",
       "                    --jp-widgets-color: white;\n",
       "                    --jp-widgets-label-color: white;\n",
       "                    --jp-ui-font-color1: white;\n",
       "                    --jp-layout-color2: #454545;\n",
       "                    background-color: #383838;\n",
       "                }\n",
       "\n",
       "                .geemap-dark .jupyter-button {\n",
       "                    --jp-layout-color3: #383838;\n",
       "                }\n",
       "\n",
       "                .geemap-colab {\n",
       "                    background-color: var(--colab-primary-surface-color, white);\n",
       "                }\n",
       "\n",
       "                .geemap-colab .jupyter-button {\n",
       "                    --jp-layout-color3: var(--colab-primary-surface-color, white);\n",
       "                }\n",
       "            </style>\n",
       "            "
      ],
      "text/plain": [
       "<IPython.core.display.HTML object>"
      ]
     },
     "metadata": {},
     "output_type": "display_data"
    },
    {
     "data": {
      "text/plain": [
       "{2001: 8.518391334434845,\n",
       " 2002: 10.562313431334651,\n",
       " 2003: 7.857616372707389,\n",
       " 2004: 7.395629688897221,\n",
       " 2005: 9.14143065926696,\n",
       " 2006: 7.007350175325124,\n",
       " 2007: 9.94451399113264,\n",
       " 2008: 8.258408651177756,\n",
       " 2009: 8.258186946255545,\n",
       " 2010: 7.098301657039377,\n",
       " 2011: 8.083154459303568,\n",
       " 2012: 9.068294740221727,\n",
       " 2013: 8.22769966377824,\n",
       " 2014: 10.313111054749466,\n",
       " 2015: 10.214666106018871,\n",
       " 2016: 10.278019374073171,\n",
       " 2017: 9.111631967910679,\n",
       " 2018: 9.083092106624825,\n",
       " 2019: 9.750912104506595,\n",
       " 2020: 10.673629396456128,\n",
       " 2021: 8.178589646995642,\n",
       " 2022: 8.422860681650373,\n",
       " 2023: 10.092309299156067,\n",
       " 2024: 9.718802938390988}"
      ]
     },
     "execution_count": 10,
     "metadata": {},
     "output_type": "execute_result"
    }
   ],
   "source": [
    "lst_m11"
   ]
  },
  {
   "cell_type": "code",
   "execution_count": 11,
   "metadata": {},
   "outputs": [
    {
     "data": {
      "text/html": [
       "\n",
       "            <style>\n",
       "                .geemap-dark {\n",
       "                    --jp-widgets-color: white;\n",
       "                    --jp-widgets-label-color: white;\n",
       "                    --jp-ui-font-color1: white;\n",
       "                    --jp-layout-color2: #454545;\n",
       "                    background-color: #383838;\n",
       "                }\n",
       "\n",
       "                .geemap-dark .jupyter-button {\n",
       "                    --jp-layout-color3: #383838;\n",
       "                }\n",
       "\n",
       "                .geemap-colab {\n",
       "                    background-color: var(--colab-primary-surface-color, white);\n",
       "                }\n",
       "\n",
       "                .geemap-colab .jupyter-button {\n",
       "                    --jp-layout-color3: var(--colab-primary-surface-color, white);\n",
       "                }\n",
       "            </style>\n",
       "            "
      ],
      "text/plain": [
       "<IPython.core.display.HTML object>"
      ]
     },
     "metadata": {},
     "output_type": "display_data"
    },
    {
     "data": {
      "text/plain": [
       "{2001: 6.523447096502005,\n",
       " 2002: 11.087026927344537,\n",
       " 2003: 8.227190985636412,\n",
       " 2004: 7.918499190633716,\n",
       " 2005: 9.834607190557838,\n",
       " 2006: 7.375761008911375,\n",
       " 2007: 10.603713281690437,\n",
       " 2008: 8.734014051703918,\n",
       " 2009: 8.932528225671893,\n",
       " 2010: 7.71452877253441,\n",
       " 2011: 8.775993993759588,\n",
       " 2012: 9.776709236956195,\n",
       " 2013: 8.83295322142326,\n",
       " 2014: 10.90875064506874,\n",
       " 2015: 11.124346848601931,\n",
       " 2016: 11.072499313254557,\n",
       " 2017: 9.697003172751204,\n",
       " 2018: 9.721762029880114,\n",
       " 2019: 10.577461115660952,\n",
       " 2020: 11.42118506104802,\n",
       " 2021: 8.943680470222272,\n",
       " 2022: 9.072915370205486,\n",
       " 2023: 11.284890175973027,\n",
       " 2024: 10.757315581774394}"
      ]
     },
     "execution_count": 11,
     "metadata": {},
     "output_type": "execute_result"
    }
   ],
   "source": [
    "lst_m21"
   ]
  },
  {
   "cell_type": "code",
   "execution_count": null,
   "metadata": {},
   "outputs": [
    {
     "data": {
      "text/html": [
       "\n",
       "            <style>\n",
       "                .geemap-dark {\n",
       "                    --jp-widgets-color: white;\n",
       "                    --jp-widgets-label-color: white;\n",
       "                    --jp-ui-font-color1: white;\n",
       "                    --jp-layout-color2: #454545;\n",
       "                    background-color: #383838;\n",
       "                }\n",
       "\n",
       "                .geemap-dark .jupyter-button {\n",
       "                    --jp-layout-color3: #383838;\n",
       "                }\n",
       "\n",
       "                .geemap-colab {\n",
       "                    background-color: var(--colab-primary-surface-color, white);\n",
       "                }\n",
       "\n",
       "                .geemap-colab .jupyter-button {\n",
       "                    --jp-layout-color3: var(--colab-primary-surface-color, white);\n",
       "                }\n",
       "            </style>\n",
       "            "
      ],
      "text/plain": [
       "<IPython.core.display.HTML object>"
      ]
     },
     "metadata": {},
     "output_type": "display_data"
    }
   ],
   "source": [
    "lst_m11_s = {2001: 8.518391334434845,\n",
    " 2002: 10.562313431334651,\n",
    " 2003: 7.857616372707389,\n",
    " 2004: 7.395629688897221,\n",
    " 2005: 9.14143065926696,\n",
    " 2006: 7.007350175325124,\n",
    " 2007: 9.94451399113264,\n",
    " 2008: 8.258408651177756,\n",
    " 2009: 8.258186946255545,\n",
    " 2010: 7.098301657039377,\n",
    " 2011: 8.083154459303568,\n",
    " 2012: 9.068294740221727,\n",
    " 2013: 8.22769966377824,\n",
    " 2014: 10.313111054749466,\n",
    " 2015: 10.214666106018871,\n",
    " 2016: 10.278019374073171,\n",
    " 2017: 9.111631967910679,\n",
    " 2018: 9.083092106624825,\n",
    " 2019: 9.750912104506595,\n",
    " 2020: 10.673629396456128,\n",
    " 2021: 8.178589646995642,\n",
    " 2022: 8.422860681650373,\n",
    " 2023: 10.092309299156067,\n",
    " 2024: 9.718802938390988}\n",
    "\n",
    "lst_m21_s = {2001: 6.523447096502005,\n",
    " 2002: 11.087026927344537,\n",
    " 2003: 8.227190985636412,\n",
    " 2004: 7.918499190633716,\n",
    " 2005: 9.834607190557838,\n",
    " 2006: 7.375761008911375,\n",
    " 2007: 10.603713281690437,\n",
    " 2008: 8.734014051703918,\n",
    " 2009: 8.932528225671893,\n",
    " 2010: 7.71452877253441,\n",
    " 2011: 8.775993993759588,\n",
    " 2012: 9.776709236956195,\n",
    " 2013: 8.83295322142326,\n",
    " 2014: 10.90875064506874,\n",
    " 2015: 11.124346848601931,\n",
    " 2016: 11.072499313254557,\n",
    " 2017: 9.697003172751204,\n",
    " 2018: 9.721762029880114,\n",
    " 2019: 10.577461115660952,\n",
    " 2020: 11.42118506104802,\n",
    " 2021: 8.943680470222272,\n",
    " 2022: 9.072915370205486,\n",
    " 2023: 11.284890175973027,\n",
    " 2024: 10.757315581774394}"
   ]
  },
  {
   "cell_type": "markdown",
   "metadata": {},
   "source": [
    "# ERA5"
   ]
  },
  {
   "cell_type": "code",
   "execution_count": 15,
   "metadata": {},
   "outputs": [
    {
     "data": {
      "text/html": [
       "\n",
       "            <style>\n",
       "                .geemap-dark {\n",
       "                    --jp-widgets-color: white;\n",
       "                    --jp-widgets-label-color: white;\n",
       "                    --jp-ui-font-color1: white;\n",
       "                    --jp-layout-color2: #454545;\n",
       "                    background-color: #383838;\n",
       "                }\n",
       "\n",
       "                .geemap-dark .jupyter-button {\n",
       "                    --jp-layout-color3: #383838;\n",
       "                }\n",
       "\n",
       "                .geemap-colab {\n",
       "                    background-color: var(--colab-primary-surface-color, white);\n",
       "                }\n",
       "\n",
       "                .geemap-colab .jupyter-button {\n",
       "                    --jp-layout-color3: var(--colab-primary-surface-color, white);\n",
       "                }\n",
       "            </style>\n",
       "            "
      ],
      "text/plain": [
       "<IPython.core.display.HTML object>"
      ]
     },
     "metadata": {},
     "output_type": "display_data"
    }
   ],
   "source": [
    "def ERA5_scale_to_celsius(era5_image: ee.Image):\n",
    "   scaled_lsts = era5_image.select([\"mean_2m_air_temperature\"]).subtract(273.15).rename([\"LST\"])\n",
    "   return era5_image.addBands(srcImg=scaled_lsts, overwrite=True)\n",
    "\n",
    "era5_coll = ee.ImageCollection(\"ECMWF/ERA5/MONTHLY\").map(lambda img: ERA5_scale_to_celsius(img))"
   ]
  },
  {
   "cell_type": "code",
   "execution_count": 16,
   "metadata": {},
   "outputs": [
    {
     "data": {
      "text/html": [
       "\n",
       "            <style>\n",
       "                .geemap-dark {\n",
       "                    --jp-widgets-color: white;\n",
       "                    --jp-widgets-label-color: white;\n",
       "                    --jp-ui-font-color1: white;\n",
       "                    --jp-layout-color2: #454545;\n",
       "                    background-color: #383838;\n",
       "                }\n",
       "\n",
       "                .geemap-dark .jupyter-button {\n",
       "                    --jp-layout-color3: #383838;\n",
       "                }\n",
       "\n",
       "                .geemap-colab {\n",
       "                    background-color: var(--colab-primary-surface-color, white);\n",
       "                }\n",
       "\n",
       "                .geemap-colab .jupyter-button {\n",
       "                    --jp-layout-color3: var(--colab-primary-surface-color, white);\n",
       "                }\n",
       "            </style>\n",
       "            "
      ],
      "text/plain": [
       "<IPython.core.display.HTML object>"
      ]
     },
     "metadata": {},
     "output_type": "display_data"
    }
   ],
   "source": [
    "def get_average_lst_era5(era5_coll: ee.ImageCollection, start_time, end_time):\n",
    "   if(era5_coll.size() == 0):\n",
    "      return None\n",
    "   mean_temp = era5_coll.filterDate(start_time, end_time).mean()\n",
    "   temp = mean_temp.reduceRegion(reducer=ee.Reducer.mean(), geometry=baikal_shape, scale=30, maxPixels=1000000000)\n",
    "   result_dict = temp.getInfo()\n",
    "   if(len(result_dict) == 0):\n",
    "      return None\n",
    "   return temp.getInfo()['LST']"
   ]
  },
  {
   "cell_type": "code",
   "execution_count": 17,
   "metadata": {},
   "outputs": [
    {
     "data": {
      "text/html": [
       "\n",
       "            <style>\n",
       "                .geemap-dark {\n",
       "                    --jp-widgets-color: white;\n",
       "                    --jp-widgets-label-color: white;\n",
       "                    --jp-ui-font-color1: white;\n",
       "                    --jp-layout-color2: #454545;\n",
       "                    background-color: #383838;\n",
       "                }\n",
       "\n",
       "                .geemap-dark .jupyter-button {\n",
       "                    --jp-layout-color3: #383838;\n",
       "                }\n",
       "\n",
       "                .geemap-colab {\n",
       "                    background-color: var(--colab-primary-surface-color, white);\n",
       "                }\n",
       "\n",
       "                .geemap-colab .jupyter-button {\n",
       "                    --jp-layout-color3: var(--colab-primary-surface-color, white);\n",
       "                }\n",
       "            </style>\n",
       "            "
      ],
      "text/plain": [
       "<IPython.core.display.HTML object>"
      ]
     },
     "metadata": {},
     "output_type": "display_data"
    },
    {
     "data": {
      "text/plain": [
       "{1996: 9.450155880882175,\n",
       " 1997: 10.306804804710536,\n",
       " 1998: 10.124025263851733,\n",
       " 1999: 9.953970489104826,\n",
       " 2000: 10.897080923980255,\n",
       " 2001: 11.237577393579986,\n",
       " 2002: 11.02499017361202,\n",
       " 2003: 10.489261758126426,\n",
       " 2004: 10.945637833437745,\n",
       " 2005: 11.244417451457139,\n",
       " 2006: 10.083577737021876,\n",
       " 2007: 11.765040295289413,\n",
       " 2008: 11.061690752218151,\n",
       " 2009: 10.35989784117505,\n",
       " 2010: 10.440376515999297,\n",
       " 2011: 11.403798160090886,\n",
       " 2012: 10.77953644155891,\n",
       " 2013: 9.971784275350128,\n",
       " 2014: 11.108825121667898,\n",
       " 2015: 12.168882374570854,\n",
       " 2016: 11.078814723490853,\n",
       " 2017: 10.931184669283283,\n",
       " 2018: 11.564613195835445,\n",
       " 2019: 11.313782876770295,\n",
       " 2020: 10.744542470002987}"
      ]
     },
     "execution_count": 17,
     "metadata": {},
     "output_type": "execute_result"
    }
   ],
   "source": [
    "lst_era5 = {}\n",
    "\n",
    "for year in range(landsat_start_year, end_year):\n",
    "   start_date = ee.Date(f\"{year}-{openwater_month_start}-1\")\n",
    "   end_date = ee.Date(f\"{year}-{openwater_month_end}-1\")\n",
    "   \n",
    "   result = get_average_lst_era5(era5_coll, start_date, end_date)\n",
    "   if(result is not None):\n",
    "      lst_era5[year] = result\n",
    "      \n",
    "lst_era5"
   ]
  },
  {
   "cell_type": "code",
   "execution_count": null,
   "metadata": {},
   "outputs": [],
   "source": [
    "lst_era5_s = { 1996: 9.450155880882175,\n",
    " 1997: 10.306804804710536,\n",
    " 1998: 10.124025263851733,\n",
    " 1999: 9.953970489104826,\n",
    " 2000: 10.897080923980255,\n",
    " 2001: 11.237577393579986,\n",
    " 2002: 11.02499017361202,\n",
    " 2003: 10.489261758126426,\n",
    " 2004: 10.945637833437745,\n",
    " 2005: 11.244417451457139,\n",
    " 2006: 10.083577737021876,\n",
    " 2007: 11.765040295289413,\n",
    " 2008: 11.061690752218151,\n",
    " 2009: 10.35989784117505,\n",
    " 2010: 10.440376515999297,\n",
    " 2011: 11.403798160090886,\n",
    " 2012: 10.77953644155891,\n",
    " 2013: 9.971784275350128,\n",
    " 2014: 11.108825121667898,\n",
    " 2015: 12.168882374570854,\n",
    " 2016: 11.078814723490853,\n",
    " 2017: 10.931184669283283,\n",
    " 2018: 11.564613195835445,\n",
    " 2019: 11.313782876770295,\n",
    " 2020: 10.744542470002987 }"
   ]
  }
 ],
 "metadata": {
  "kernelspec": {
   "display_name": "Python 3",
   "language": "python",
   "name": "python3"
  },
  "language_info": {
   "codemirror_mode": {
    "name": "ipython",
    "version": 3
   },
   "file_extension": ".py",
   "mimetype": "text/x-python",
   "name": "python",
   "nbconvert_exporter": "python",
   "pygments_lexer": "ipython3",
   "version": "3.13.2"
  }
 },
 "nbformat": 4,
 "nbformat_minor": 2
}

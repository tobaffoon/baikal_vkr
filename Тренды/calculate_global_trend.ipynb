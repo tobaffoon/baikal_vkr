{
 "cells": [
  {
   "cell_type": "code",
   "execution_count": 1,
   "metadata": {},
   "outputs": [],
   "source": [
    "import ee\n",
    "import geemap\n",
    "import datetime\n",
    "import numpy as np\n",
    "import pandas as pd"
   ]
  },
  {
   "cell_type": "code",
   "execution_count": 2,
   "metadata": {},
   "outputs": [
    {
     "data": {
      "text/html": [
       "\n",
       "            <style>\n",
       "                .geemap-dark {\n",
       "                    --jp-widgets-color: white;\n",
       "                    --jp-widgets-label-color: white;\n",
       "                    --jp-ui-font-color1: white;\n",
       "                    --jp-layout-color2: #454545;\n",
       "                    background-color: #383838;\n",
       "                }\n",
       "\n",
       "                .geemap-dark .jupyter-button {\n",
       "                    --jp-layout-color3: #383838;\n",
       "                }\n",
       "\n",
       "                .geemap-colab {\n",
       "                    background-color: var(--colab-primary-surface-color, white);\n",
       "                }\n",
       "\n",
       "                .geemap-colab .jupyter-button {\n",
       "                    --jp-layout-color3: var(--colab-primary-surface-color, white);\n",
       "                }\n",
       "            </style>\n",
       "            "
      ],
      "text/plain": [
       "<IPython.core.display.HTML object>"
      ]
     },
     "metadata": {},
     "output_type": "display_data"
    },
    {
     "name": "stderr",
     "output_type": "stream",
     "text": [
      "(node:25893) [DEP0040] DeprecationWarning: The `punycode` module is deprecated. Please use a userland alternative instead.\n",
      "(Use `node --trace-deprecation ...` to show where the warning was created)\n"
     ]
    },
    {
     "name": "stdout",
     "output_type": "stream",
     "text": [
      "!!!!! On 11-07-2022 this code has been updated to run with landsat collection 2 data !!!!!\n",
      "!!!!! On 11-07-2022 this code has been updated to run with landsat collection 2 data !!!!!\n",
      "!!!!! On 11-07-2022 this code has been updated to run with landsat collection 2 data !!!!!\n",
      "!!!!! On 11-07-2022 this code has been updated to run with landsat collection 2 data !!!!!\n"
     ]
    }
   ],
   "source": [
    "geemap.ee_initialize()\n",
    "oeel = geemap.requireJS()\n",
    "ee.Authenticate()\n",
    "ee.Initialize(project='ee-amazyar-test1')\n",
    "\n",
    "landsat_start_year = 1990 # с 1990 тепловая информация Landsat-5 без колебаний\n",
    "modis_date_start = ee.Date(\"2001-01-01\") # в 2001 начал предоставлять тепловую информацию Terra\n",
    "landsat_date_start = ee.Date(f\"{landsat_start_year}-03-16\")\n",
    "modis_start_year = modis_date_start.get(\"year\").getInfo()\n",
    "date_end = datetime.datetime.now()\n",
    "end_year = date_end.date().year\n",
    "openwater_month_start = 6 # июнь\n",
    "openwater_month_end = 10 # октябрь\n",
    "\n",
    "baikal_shape = ee.FeatureCollection('projects/ee-amazyar-test/assets/baikal')"
   ]
  },
  {
   "cell_type": "markdown",
   "metadata": {},
   "source": [
    "# LANDSAT"
   ]
  },
  {
   "cell_type": "code",
   "execution_count": 6,
   "metadata": {},
   "outputs": [
    {
     "data": {
      "text/html": [
       "\n",
       "            <style>\n",
       "                .geemap-dark {\n",
       "                    --jp-widgets-color: white;\n",
       "                    --jp-widgets-label-color: white;\n",
       "                    --jp-ui-font-color1: white;\n",
       "                    --jp-layout-color2: #454545;\n",
       "                    background-color: #383838;\n",
       "                }\n",
       "\n",
       "                .geemap-dark .jupyter-button {\n",
       "                    --jp-layout-color3: #383838;\n",
       "                }\n",
       "\n",
       "                .geemap-colab {\n",
       "                    background-color: var(--colab-primary-surface-color, white);\n",
       "                }\n",
       "\n",
       "                .geemap-colab .jupyter-button {\n",
       "                    --jp-layout-color3: var(--colab-primary-surface-color, white);\n",
       "                }\n",
       "            </style>\n",
       "            "
      ],
      "text/plain": [
       "<IPython.core.display.HTML object>"
      ]
     },
     "metadata": {},
     "output_type": "display_data"
    }
   ],
   "source": [
    "LandsatLST = geemap.requireJS(\"../baikal_vkr_init/Landsat_LST.js\")"
   ]
  },
  {
   "cell_type": "code",
   "execution_count": 4,
   "metadata": {},
   "outputs": [
    {
     "data": {
      "text/html": [
       "\n",
       "            <style>\n",
       "                .geemap-dark {\n",
       "                    --jp-widgets-color: white;\n",
       "                    --jp-widgets-label-color: white;\n",
       "                    --jp-ui-font-color1: white;\n",
       "                    --jp-layout-color2: #454545;\n",
       "                    background-color: #383838;\n",
       "                }\n",
       "\n",
       "                .geemap-dark .jupyter-button {\n",
       "                    --jp-layout-color3: #383838;\n",
       "                }\n",
       "\n",
       "                .geemap-colab {\n",
       "                    background-color: var(--colab-primary-surface-color, white);\n",
       "                }\n",
       "\n",
       "                .geemap-colab .jupyter-button {\n",
       "                    --jp-layout-color3: var(--colab-primary-surface-color, white);\n",
       "                }\n",
       "            </style>\n",
       "            "
      ],
      "text/plain": [
       "<IPython.core.display.HTML object>"
      ]
     },
     "metadata": {},
     "output_type": "display_data"
    }
   ],
   "source": [
    "use_ndvi = False\n",
    "\n",
    "def get_landsat_collection(satellite_name: str):\n",
    "   coll = LandsatLST.collection(satellite_name, landsat_date_start, date_end, baikal_shape, use_ndvi)\n",
    "   return coll.select(['LST'])"
   ]
  },
  {
   "cell_type": "code",
   "execution_count": 7,
   "metadata": {},
   "outputs": [
    {
     "data": {
      "text/html": [
       "\n",
       "            <style>\n",
       "                .geemap-dark {\n",
       "                    --jp-widgets-color: white;\n",
       "                    --jp-widgets-label-color: white;\n",
       "                    --jp-ui-font-color1: white;\n",
       "                    --jp-layout-color2: #454545;\n",
       "                    background-color: #383838;\n",
       "                }\n",
       "\n",
       "                .geemap-dark .jupyter-button {\n",
       "                    --jp-layout-color3: #383838;\n",
       "                }\n",
       "\n",
       "                .geemap-colab {\n",
       "                    background-color: var(--colab-primary-surface-color, white);\n",
       "                }\n",
       "\n",
       "                .geemap-colab .jupyter-button {\n",
       "                    --jp-layout-color3: var(--colab-primary-surface-color, white);\n",
       "                }\n",
       "            </style>\n",
       "            "
      ],
      "text/plain": [
       "<IPython.core.display.HTML object>"
      ]
     },
     "metadata": {},
     "output_type": "display_data"
    }
   ],
   "source": [
    "landsats_collection = ee.ImageCollection.merge(get_landsat_collection('L8'),get_landsat_collection('L9'))\n",
    "landsats_collection = ee.ImageCollection.merge(landsats_collection,get_landsat_collection('L7'))\n",
    "landsats_collection = ee.ImageCollection.merge(landsats_collection,get_landsat_collection('L5'))"
   ]
  },
  {
   "cell_type": "code",
   "execution_count": null,
   "metadata": {},
   "outputs": [
    {
     "data": {
      "text/html": [
       "\n",
       "            <style>\n",
       "                .geemap-dark {\n",
       "                    --jp-widgets-color: white;\n",
       "                    --jp-widgets-label-color: white;\n",
       "                    --jp-ui-font-color1: white;\n",
       "                    --jp-layout-color2: #454545;\n",
       "                    background-color: #383838;\n",
       "                }\n",
       "\n",
       "                .geemap-dark .jupyter-button {\n",
       "                    --jp-layout-color3: #383838;\n",
       "                }\n",
       "\n",
       "                .geemap-colab {\n",
       "                    background-color: var(--colab-primary-surface-color, white);\n",
       "                }\n",
       "\n",
       "                .geemap-colab .jupyter-button {\n",
       "                    --jp-layout-color3: var(--colab-primary-surface-color, white);\n",
       "                }\n",
       "            </style>\n",
       "            "
      ],
      "text/plain": [
       "<IPython.core.display.HTML object>"
      ]
     },
     "metadata": {},
     "output_type": "display_data"
    }
   ],
   "source": [
    "def get_average_lst_landsat(landsat_collection: ee.ImageCollection, start_time, end_time):\n",
    "   temp = landsat_collection.filterDate(start_time, end_time).mean().reduceRegion(reducer=ee.Reducer.mean(), geometry=baikal_shape, maxPixels=1000000000)\n",
    "   result_dict = temp.getInfo()\n",
    "   if(len(result_dict) == 0):\n",
    "      return None\n",
    "   return result_dict['LST']"
   ]
  },
  {
   "cell_type": "code",
   "execution_count": 7,
   "metadata": {},
   "outputs": [
    {
     "data": {
      "text/html": [
       "\n",
       "            <style>\n",
       "                .geemap-dark {\n",
       "                    --jp-widgets-color: white;\n",
       "                    --jp-widgets-label-color: white;\n",
       "                    --jp-ui-font-color1: white;\n",
       "                    --jp-layout-color2: #454545;\n",
       "                    background-color: #383838;\n",
       "                }\n",
       "\n",
       "                .geemap-dark .jupyter-button {\n",
       "                    --jp-layout-color3: #383838;\n",
       "                }\n",
       "\n",
       "                .geemap-colab {\n",
       "                    background-color: var(--colab-primary-surface-color, white);\n",
       "                }\n",
       "\n",
       "                .geemap-colab .jupyter-button {\n",
       "                    --jp-layout-color3: var(--colab-primary-surface-color, white);\n",
       "                }\n",
       "            </style>\n",
       "            "
      ],
      "text/plain": [
       "<IPython.core.display.HTML object>"
      ]
     },
     "metadata": {},
     "output_type": "display_data"
    },
    {
     "data": {
      "text/plain": [
       "{1990: 9.94151105813071,\n",
       " 1991: 8.670243772634592,\n",
       " 1992: -2.0105041979387375,\n",
       " 1993: 7.956542834155669,\n",
       " 1994: 9.34452038501193,\n",
       " 1995: 8.04470759348891,\n",
       " 1996: 7.082734448761985,\n",
       " 1997: 8.935313905816676,\n",
       " 1998: 9.281472002444602,\n",
       " 1999: 7.613358335015398,\n",
       " 2000: 9.067563007508321,\n",
       " 2001: 6.577084616749362,\n",
       " 2002: 12.944188352610443,\n",
       " 2003: 7.712404849028003,\n",
       " 2004: 7.702411146961344,\n",
       " 2005: 9.258553590605247,\n",
       " 2006: 7.586450930492356,\n",
       " 2007: 10.296707394361517,\n",
       " 2008: 8.111687043729976,\n",
       " 2009: 8.053128114881378,\n",
       " 2010: 7.317162556263412,\n",
       " 2011: 8.040792549218494,\n",
       " 2012: 10.04538712944025,\n",
       " 2013: 10.489422570326163,\n",
       " 2014: 12.669070935022372,\n",
       " 2015: 12.110493647292312,\n",
       " 2016: 10.845184720867204,\n",
       " 2017: 10.18566067643681,\n",
       " 2018: 10.015904896912351,\n",
       " 2019: 10.529639238809038,\n",
       " 2020: 12.717650167983859,\n",
       " 2021: 8.898396186200852,\n",
       " 2022: 8.728638766197365,\n",
       " 2023: 9.901500828971503,\n",
       " 2024: 10.490878109042882}"
      ]
     },
     "execution_count": 7,
     "metadata": {},
     "output_type": "execute_result"
    }
   ],
   "source": [
    "lst_landsat = {}\n",
    "\n",
    "for year in range(landsat_start_year, end_year):\n",
    "   lst_landsat[year] = {}\n",
    "   for month in range(openwater_month_start, openwater_month_end):\n",
    "      start_date = ee.Date(f\"{year}-{month}-1\")\n",
    "      end_date = ee.Date(f\"{year}-{(month+1)}-1\")\n",
    "      \n",
    "      result = get_average_lst_landsat(landsats_collection, start_date, end_date)\n",
    "      if(result is None):\n",
    "         continue\n",
    "      lst_landsat[year][month] = result\n",
    "   \n",
    "   lst_landsat[year] = np.mean(list(lst_landsat[year].values()))\n",
    "   if lst_landsat[year] is None:\n",
    "      del lst_landsat[year]\n",
    "\n",
    "lst_landsat"
   ]
  },
  {
   "cell_type": "markdown",
   "metadata": {},
   "source": [
    "# L2SP"
   ]
  },
  {
   "cell_type": "code",
   "execution_count": 35,
   "metadata": {},
   "outputs": [
    {
     "data": {
      "text/html": [
       "\n",
       "            <style>\n",
       "                .geemap-dark {\n",
       "                    --jp-widgets-color: white;\n",
       "                    --jp-widgets-label-color: white;\n",
       "                    --jp-ui-font-color1: white;\n",
       "                    --jp-layout-color2: #454545;\n",
       "                    background-color: #383838;\n",
       "                }\n",
       "\n",
       "                .geemap-dark .jupyter-button {\n",
       "                    --jp-layout-color3: #383838;\n",
       "                }\n",
       "\n",
       "                .geemap-colab {\n",
       "                    background-color: var(--colab-primary-surface-color, white);\n",
       "                }\n",
       "\n",
       "                .geemap-colab .jupyter-button {\n",
       "                    --jp-layout-color3: var(--colab-primary-surface-color, white);\n",
       "                }\n",
       "            </style>\n",
       "            "
      ],
      "text/plain": [
       "<IPython.core.display.HTML object>"
      ]
     },
     "metadata": {},
     "output_type": "display_data"
    }
   ],
   "source": [
    "def Cloudmask(image: ee.Image):\n",
    "   qa = image.select('QA_PIXEL')\n",
    "   mask = qa.bitwiseAnd(1 << 3).Or(qa.bitwiseAnd(1 << 4))\n",
    "   return image.updateMask(mask.Not())\n",
    "\n",
    "def L57_scale_to_celsius(image: ee.image):\n",
    "   scaled_lst = image.select(['ST_B6']).multiply(0.00341802).subtract(124.15).rename(['LST'])\n",
    "   return image.addBands(srcImg=scaled_lst)\n",
    "\n",
    "def L89_scale_to_celsius(image: ee.image):\n",
    "   scaled_lst = image.select(['ST_B10']).multiply(0.00341802).subtract(124.15).rename(['LST'])\n",
    "   return image.addBands(srcImg=scaled_lst)\n",
    "\n",
    "def get_l2sp_list(satellite_name: str):\n",
    "   match satellite_name:\n",
    "      case 'Landsat 5 Tier 1':\n",
    "         coll = ee.ImageCollection(\"LANDSAT/LT05/C02/T1_L2\").map(lambda img: L57_scale_to_celsius(img))\n",
    "      case 'Landsat 7 Tier 1':\n",
    "         coll = ee.ImageCollection(\"LANDSAT/LE07/C02/T1_L2\").map(lambda img: L57_scale_to_celsius(img))\n",
    "      case 'Landsat 8 Tier 1':\n",
    "         coll = ee.ImageCollection('LANDSAT/LC08/C02/T1_L2').map(lambda img: L89_scale_to_celsius(img))\n",
    "      case 'Landsat 9 Tier 1':\n",
    "         coll = ee.ImageCollection('LANDSAT/LC09/C02/T1_L2').map(lambda img: L89_scale_to_celsius(img))\n",
    "      case 'Landsat 5 Tier 2':\n",
    "         coll = ee.ImageCollection(\"LANDSAT/LT05/C02/T2_L2\").map(lambda img: L57_scale_to_celsius(img))\n",
    "      case 'Landsat 7 Tier 2':\n",
    "         coll = ee.ImageCollection(\"LANDSAT/LE07/C02/T2_L2\").map(lambda img: L57_scale_to_celsius(img))\n",
    "      case 'Landsat 8 Tier 2':\n",
    "         coll = ee.ImageCollection('LANDSAT/LC08/C02/T2_L2').map(lambda img: L89_scale_to_celsius(img))\n",
    "      case 'Landsat 9 Tier 2':\n",
    "         coll = ee.ImageCollection('LANDSAT/LC09/C02/T2_L2').map(lambda img: L89_scale_to_celsius(img))\n",
    "\n",
    "   coll = coll.filter(\n",
    "            ee.Filter.date(landsat_date_start, date_end)\n",
    "         ).filterBounds(\n",
    "            baikal_shape\n",
    "         ).filter(\n",
    "            \"PROCESSING_LEVEL == 'L2SP'\"\n",
    "         ).map(Cloudmask)\n",
    "   return coll.select(['LST'])"
   ]
  },
  {
   "cell_type": "code",
   "execution_count": 36,
   "metadata": {},
   "outputs": [
    {
     "data": {
      "text/html": [
       "\n",
       "            <style>\n",
       "                .geemap-dark {\n",
       "                    --jp-widgets-color: white;\n",
       "                    --jp-widgets-label-color: white;\n",
       "                    --jp-ui-font-color1: white;\n",
       "                    --jp-layout-color2: #454545;\n",
       "                    background-color: #383838;\n",
       "                }\n",
       "\n",
       "                .geemap-dark .jupyter-button {\n",
       "                    --jp-layout-color3: #383838;\n",
       "                }\n",
       "\n",
       "                .geemap-colab {\n",
       "                    background-color: var(--colab-primary-surface-color, white);\n",
       "                }\n",
       "\n",
       "                .geemap-colab .jupyter-button {\n",
       "                    --jp-layout-color3: var(--colab-primary-surface-color, white);\n",
       "                }\n",
       "            </style>\n",
       "            "
      ],
      "text/plain": [
       "<IPython.core.display.HTML object>"
      ]
     },
     "metadata": {},
     "output_type": "display_data"
    }
   ],
   "source": [
    "l2sp_collection = ee.ImageCollection.merge(get_l2sp_list('Landsat 5 Tier 1'), get_l2sp_list('Landsat 7 Tier 1'))\n",
    "l2sp_collection = ee.ImageCollection.merge(l2sp_collection,get_l2sp_list('Landsat 8 Tier 1'))\n",
    "l2sp_collection = ee.ImageCollection.merge(l2sp_collection,get_l2sp_list('Landsat 9 Tier 1'))\n",
    "l2sp_collection = ee.ImageCollection.merge(l2sp_collection,get_l2sp_list('Landsat 5 Tier 2'))\n",
    "l2sp_collection = ee.ImageCollection.merge(l2sp_collection,get_l2sp_list('Landsat 7 Tier 2'))\n",
    "l2sp_collection = ee.ImageCollection.merge(l2sp_collection,get_l2sp_list('Landsat 8 Tier 2'))\n",
    "l2sp_collection = ee.ImageCollection.merge(l2sp_collection,get_l2sp_list('Landsat 9 Tier 2'))"
   ]
  },
  {
   "cell_type": "code",
   "execution_count": 30,
   "metadata": {},
   "outputs": [
    {
     "data": {
      "text/html": [
       "\n",
       "            <style>\n",
       "                .geemap-dark {\n",
       "                    --jp-widgets-color: white;\n",
       "                    --jp-widgets-label-color: white;\n",
       "                    --jp-ui-font-color1: white;\n",
       "                    --jp-layout-color2: #454545;\n",
       "                    background-color: #383838;\n",
       "                }\n",
       "\n",
       "                .geemap-dark .jupyter-button {\n",
       "                    --jp-layout-color3: #383838;\n",
       "                }\n",
       "\n",
       "                .geemap-colab {\n",
       "                    background-color: var(--colab-primary-surface-color, white);\n",
       "                }\n",
       "\n",
       "                .geemap-colab .jupyter-button {\n",
       "                    --jp-layout-color3: var(--colab-primary-surface-color, white);\n",
       "                }\n",
       "            </style>\n",
       "            "
      ],
      "text/plain": [
       "<IPython.core.display.HTML object>"
      ]
     },
     "metadata": {},
     "output_type": "display_data"
    }
   ],
   "source": [
    "def get_average_lst_l2sp(landsat_collection: ee.ImageCollection, start_time, end_time):\n",
    "   temp = landsat_collection.filterDate(start_time, end_time).mean().reduceRegion(reducer=ee.Reducer.mean(), geometry=baikal_shape, maxPixels=1000000000)\n",
    "   result_dict = temp.getInfo()\n",
    "   if(len(result_dict) == 0):\n",
    "      return None\n",
    "   return result_dict['LST']"
   ]
  },
  {
   "cell_type": "code",
   "execution_count": 37,
   "metadata": {},
   "outputs": [
    {
     "data": {
      "text/html": [
       "\n",
       "            <style>\n",
       "                .geemap-dark {\n",
       "                    --jp-widgets-color: white;\n",
       "                    --jp-widgets-label-color: white;\n",
       "                    --jp-ui-font-color1: white;\n",
       "                    --jp-layout-color2: #454545;\n",
       "                    background-color: #383838;\n",
       "                }\n",
       "\n",
       "                .geemap-dark .jupyter-button {\n",
       "                    --jp-layout-color3: #383838;\n",
       "                }\n",
       "\n",
       "                .geemap-colab {\n",
       "                    background-color: var(--colab-primary-surface-color, white);\n",
       "                }\n",
       "\n",
       "                .geemap-colab .jupyter-button {\n",
       "                    --jp-layout-color3: var(--colab-primary-surface-color, white);\n",
       "                }\n",
       "            </style>\n",
       "            "
      ],
      "text/plain": [
       "<IPython.core.display.HTML object>"
      ]
     },
     "metadata": {},
     "output_type": "display_data"
    },
    {
     "data": {
      "text/plain": [
       "{1990: 11.52196755603775,\n",
       " 1991: 12.404069463328623,\n",
       " 1992: 1.6301826964997548,\n",
       " 1993: 13.145985911690591,\n",
       " 1994: 11.971119403324407,\n",
       " 1995: 10.789324301379168,\n",
       " 1996: 12.42958903567926,\n",
       " 1997: 8.995261763169525,\n",
       " 1998: 12.081733235457616,\n",
       " 1999: 11.962635338329502,\n",
       " 2000: 11.939753007159085,\n",
       " 2001: 11.166436577670936,\n",
       " 2002: 15.15550877409544,\n",
       " 2003: 13.099789776063934,\n",
       " 2004: 11.685261355746018,\n",
       " 2005: 12.529072145691176,\n",
       " 2006: 10.524219489258215,\n",
       " 2007: 13.672654217178705,\n",
       " 2008: 12.181358547635265,\n",
       " 2009: 12.120598095672781,\n",
       " 2010: 11.21029555890743,\n",
       " 2011: 11.709370510099847,\n",
       " 2012: 12.379641500319076,\n",
       " 2013: 13.983231084379739,\n",
       " 2014: 15.852608257964782,\n",
       " 2015: 15.412599409461055,\n",
       " 2016: 15.150619009534738,\n",
       " 2017: 13.94550969702493,\n",
       " 2018: 13.409365645594294,\n",
       " 2019: 14.425735607219298,\n",
       " 2020: 15.001575481166673,\n",
       " 2021: 13.19294392786191,\n",
       " 2022: 12.117687221027202,\n",
       " 2023: 12.34562721541754,\n",
       " 2024: 9.63801515295418}"
      ]
     },
     "execution_count": 37,
     "metadata": {},
     "output_type": "execute_result"
    }
   ],
   "source": [
    "lst_l2sp = {}\n",
    "\n",
    "for year in range(landsat_start_year, end_year):\n",
    "   lst_l2sp[year] = {}\n",
    "   for month in range(openwater_month_start, openwater_month_end):\n",
    "      start_date = ee.Date(f\"{year}-{month}-1\")\n",
    "      end_date = ee.Date(f\"{year}-{(month+1)}-1\")\n",
    "      \n",
    "      result = get_average_lst_l2sp(l2sp_collection, start_date, end_date)\n",
    "      if(result is None):\n",
    "         continue\n",
    "      lst_l2sp[year][month] = result\n",
    "   \n",
    "   lst_l2sp[year] = np.mean(list(lst_l2sp[year].values()))\n",
    "   if lst_l2sp[year] is None:\n",
    "      del lst_l2sp[year]\n",
    "\n",
    "lst_l2sp"
   ]
  },
  {
   "cell_type": "markdown",
   "metadata": {},
   "source": [
    "## То же, но по предподсчитанным значениям. \n",
    "НЕКОРРЕКТНО"
   ]
  },
  {
   "cell_type": "code",
   "execution_count": 8,
   "metadata": {},
   "outputs": [
    {
     "data": {
      "text/html": [
       "\n",
       "            <style>\n",
       "                .geemap-dark {\n",
       "                    --jp-widgets-color: white;\n",
       "                    --jp-widgets-label-color: white;\n",
       "                    --jp-ui-font-color1: white;\n",
       "                    --jp-layout-color2: #454545;\n",
       "                    background-color: #383838;\n",
       "                }\n",
       "\n",
       "                .geemap-dark .jupyter-button {\n",
       "                    --jp-layout-color3: #383838;\n",
       "                }\n",
       "\n",
       "                .geemap-colab {\n",
       "                    background-color: var(--colab-primary-surface-color, white);\n",
       "                }\n",
       "\n",
       "                .geemap-colab .jupyter-button {\n",
       "                    --jp-layout-color3: var(--colab-primary-surface-color, white);\n",
       "                }\n",
       "            </style>\n",
       "            "
      ],
      "text/plain": [
       "<IPython.core.display.HTML object>"
      ]
     },
     "metadata": {},
     "output_type": "display_data"
    }
   ],
   "source": [
    "def add_timezone(df: pd.DataFrame) -> pd.DataFrame:\n",
    "   format = \"%Y-%m-%d %H:%M:%S.%f\"\n",
    "   df[\"Date\"] = df[\"Date\"].apply(lambda dt: pd.to_datetime(dt, format=format))"
   ]
  },
  {
   "cell_type": "code",
   "execution_count": 10,
   "metadata": {},
   "outputs": [
    {
     "data": {
      "text/html": [
       "\n",
       "            <style>\n",
       "                .geemap-dark {\n",
       "                    --jp-widgets-color: white;\n",
       "                    --jp-widgets-label-color: white;\n",
       "                    --jp-ui-font-color1: white;\n",
       "                    --jp-layout-color2: #454545;\n",
       "                    background-color: #383838;\n",
       "                }\n",
       "\n",
       "                .geemap-dark .jupyter-button {\n",
       "                    --jp-layout-color3: #383838;\n",
       "                }\n",
       "\n",
       "                .geemap-colab {\n",
       "                    background-color: var(--colab-primary-surface-color, white);\n",
       "                }\n",
       "\n",
       "                .geemap-colab .jupyter-button {\n",
       "                    --jp-layout-color3: var(--colab-primary-surface-color, white);\n",
       "                }\n",
       "            </style>\n",
       "            "
      ],
      "text/plain": [
       "<IPython.core.display.HTML object>"
      ]
     },
     "metadata": {},
     "output_type": "display_data"
    },
    {
     "data": {
      "text/html": [
       "<div>\n",
       "<style scoped>\n",
       "    .dataframe tbody tr th:only-of-type {\n",
       "        vertical-align: middle;\n",
       "    }\n",
       "\n",
       "    .dataframe tbody tr th {\n",
       "        vertical-align: top;\n",
       "    }\n",
       "\n",
       "    .dataframe thead th {\n",
       "        text-align: right;\n",
       "    }\n",
       "</style>\n",
       "<table border=\"1\" class=\"dataframe\">\n",
       "  <thead>\n",
       "    <tr style=\"text-align: right;\">\n",
       "      <th></th>\n",
       "      <th>Date</th>\n",
       "      <th>Image T</th>\n",
       "    </tr>\n",
       "  </thead>\n",
       "  <tbody>\n",
       "    <tr>\n",
       "      <th>0</th>\n",
       "      <td>1986-04-29 03:23:24.899000000</td>\n",
       "      <td>-1.539700</td>\n",
       "    </tr>\n",
       "    <tr>\n",
       "      <th>1</th>\n",
       "      <td>1986-05-31 03:22:32.065063000</td>\n",
       "      <td>2.058033</td>\n",
       "    </tr>\n",
       "    <tr>\n",
       "      <th>2</th>\n",
       "      <td>1986-06-02 03:08:55.313094000</td>\n",
       "      <td>-3.599559</td>\n",
       "    </tr>\n",
       "    <tr>\n",
       "      <th>3</th>\n",
       "      <td>1986-06-02 03:09:19.171038000</td>\n",
       "      <td>-0.556575</td>\n",
       "    </tr>\n",
       "    <tr>\n",
       "      <th>4</th>\n",
       "      <td>1986-06-09 03:16:04.867050000</td>\n",
       "      <td>-0.163581</td>\n",
       "    </tr>\n",
       "    <tr>\n",
       "      <th>...</th>\n",
       "      <td>...</td>\n",
       "      <td>...</td>\n",
       "    </tr>\n",
       "    <tr>\n",
       "      <th>10012</th>\n",
       "      <td>2025-04-19 03:38:04.276009000</td>\n",
       "      <td>-8.837142</td>\n",
       "    </tr>\n",
       "    <tr>\n",
       "      <th>10013</th>\n",
       "      <td>2025-04-19 03:38:28.158577000</td>\n",
       "      <td>-8.964933</td>\n",
       "    </tr>\n",
       "    <tr>\n",
       "      <th>10014</th>\n",
       "      <td>2025-04-19 03:38:52.032674000</td>\n",
       "      <td>-9.826516</td>\n",
       "    </tr>\n",
       "    <tr>\n",
       "      <th>10015</th>\n",
       "      <td>2025-04-19 03:39:15.906770000</td>\n",
       "      <td>-2.215253</td>\n",
       "    </tr>\n",
       "    <tr>\n",
       "      <th>10016</th>\n",
       "      <td>2025-04-23 04:04:15.212662900</td>\n",
       "      <td>0.522273</td>\n",
       "    </tr>\n",
       "  </tbody>\n",
       "</table>\n",
       "<p>10017 rows × 2 columns</p>\n",
       "</div>"
      ],
      "text/plain": [
       "                               Date   Image T\n",
       "0     1986-04-29 03:23:24.899000000 -1.539700\n",
       "1     1986-05-31 03:22:32.065063000  2.058033\n",
       "2     1986-06-02 03:08:55.313094000 -3.599559\n",
       "3     1986-06-02 03:09:19.171038000 -0.556575\n",
       "4     1986-06-09 03:16:04.867050000 -0.163581\n",
       "...                             ...       ...\n",
       "10012 2025-04-19 03:38:04.276009000 -8.837142\n",
       "10013 2025-04-19 03:38:28.158577000 -8.964933\n",
       "10014 2025-04-19 03:38:52.032674000 -9.826516\n",
       "10015 2025-04-19 03:39:15.906770000 -2.215253\n",
       "10016 2025-04-23 04:04:15.212662900  0.522273\n",
       "\n",
       "[10017 rows x 2 columns]"
      ]
     },
     "execution_count": 10,
     "metadata": {},
     "output_type": "execute_result"
    }
   ],
   "source": [
    "all_years_landsat_df = pd.read_csv('../Валидация/Данные_валидации/landsat_baikal_lst.csv')\n",
    "add_timezone(all_years_landsat_df)\n",
    "all_years_landsat_df"
   ]
  },
  {
   "cell_type": "code",
   "execution_count": 11,
   "metadata": {},
   "outputs": [
    {
     "data": {
      "text/html": [
       "\n",
       "            <style>\n",
       "                .geemap-dark {\n",
       "                    --jp-widgets-color: white;\n",
       "                    --jp-widgets-label-color: white;\n",
       "                    --jp-ui-font-color1: white;\n",
       "                    --jp-layout-color2: #454545;\n",
       "                    background-color: #383838;\n",
       "                }\n",
       "\n",
       "                .geemap-dark .jupyter-button {\n",
       "                    --jp-layout-color3: #383838;\n",
       "                }\n",
       "\n",
       "                .geemap-colab {\n",
       "                    background-color: var(--colab-primary-surface-color, white);\n",
       "                }\n",
       "\n",
       "                .geemap-colab .jupyter-button {\n",
       "                    --jp-layout-color3: var(--colab-primary-surface-color, white);\n",
       "                }\n",
       "            </style>\n",
       "            "
      ],
      "text/plain": [
       "<IPython.core.display.HTML object>"
      ]
     },
     "metadata": {},
     "output_type": "display_data"
    }
   ],
   "source": [
    "def get_average_lst_landsat_local(landsat_df, start_date, end_date):\n",
    "   in_bounds_entries = landsat_df[(start_date <= landsat_df[\"Date\"]) & (landsat_df[\"Date\"] <= end_date)]\n",
    "   return in_bounds_entries[\"Image T\"].mean()"
   ]
  },
  {
   "cell_type": "code",
   "execution_count": 17,
   "metadata": {},
   "outputs": [
    {
     "data": {
      "text/html": [
       "\n",
       "            <style>\n",
       "                .geemap-dark {\n",
       "                    --jp-widgets-color: white;\n",
       "                    --jp-widgets-label-color: white;\n",
       "                    --jp-ui-font-color1: white;\n",
       "                    --jp-layout-color2: #454545;\n",
       "                    background-color: #383838;\n",
       "                }\n",
       "\n",
       "                .geemap-dark .jupyter-button {\n",
       "                    --jp-layout-color3: #383838;\n",
       "                }\n",
       "\n",
       "                .geemap-colab {\n",
       "                    background-color: var(--colab-primary-surface-color, white);\n",
       "                }\n",
       "\n",
       "                .geemap-colab .jupyter-button {\n",
       "                    --jp-layout-color3: var(--colab-primary-surface-color, white);\n",
       "                }\n",
       "            </style>\n",
       "            "
      ],
      "text/plain": [
       "<IPython.core.display.HTML object>"
      ]
     },
     "metadata": {},
     "output_type": "display_data"
    },
    {
     "data": {
      "text/plain": [
       "{1986: 8.759663685460412,\n",
       " 1987: 2.7700559934364506,\n",
       " 1988: 3.40586823059557,\n",
       " 1989: 7.997293070931044,\n",
       " 1990: 7.856037313254132,\n",
       " 1991: 7.3680161728764,\n",
       " 1992: 3.3140336063937172,\n",
       " 1993: 7.15149218132415,\n",
       " 1994: 7.119435288776228,\n",
       " 1995: 5.607646267554436,\n",
       " 1996: 6.120807928038543,\n",
       " 1997: 5.365743478094312,\n",
       " 1998: 7.2645621714384125,\n",
       " 1999: 6.442740172669513,\n",
       " 2000: 7.456334950729774,\n",
       " 2001: 7.056328889681249,\n",
       " 2002: 9.955916605597425,\n",
       " 2003: 7.975299702742071,\n",
       " 2004: 6.637760675388121,\n",
       " 2005: 7.597102759071141,\n",
       " 2006: 6.014261846680311,\n",
       " 2007: 9.493502600364673,\n",
       " 2008: 7.0564371466133675,\n",
       " 2009: 7.513282902079464,\n",
       " 2010: 6.969347278839847,\n",
       " 2011: 7.196237246273308,\n",
       " 2012: 9.224797200496177,\n",
       " 2013: 7.9906726291247745,\n",
       " 2014: 9.232270771124375,\n",
       " 2015: 9.417395202941613,\n",
       " 2016: 8.558806286942847,\n",
       " 2017: 7.591164193617533,\n",
       " 2018: 7.988809488128339,\n",
       " 2019: 9.066400822576428,\n",
       " 2020: 9.120943260191137,\n",
       " 2021: 7.928572549612589,\n",
       " 2022: 7.384870612306152,\n",
       " 2023: 8.745032440903028,\n",
       " 2024: 10.042533092338392}"
      ]
     },
     "execution_count": 17,
     "metadata": {},
     "output_type": "execute_result"
    }
   ],
   "source": [
    "lst_landsat_local = {}\n",
    "for year in range(landsat_start_year, end_year):\n",
    "      start_date = datetime.datetime(year=year, month=openwater_month_start, day=1)\n",
    "      end_date = datetime.datetime(year=year, month=openwater_month_end, day=31)\n",
    "      \n",
    "      result = get_average_lst_landsat_local(all_years_landsat_df, start_date, end_date)\n",
    "      lst_landsat_local[year] = result\n",
    "\n",
    "lst_landsat_local"
   ]
  },
  {
   "cell_type": "code",
   "execution_count": null,
   "metadata": {},
   "outputs": [
    {
     "data": {
      "text/html": [
       "\n",
       "            <style>\n",
       "                .geemap-dark {\n",
       "                    --jp-widgets-color: white;\n",
       "                    --jp-widgets-label-color: white;\n",
       "                    --jp-ui-font-color1: white;\n",
       "                    --jp-layout-color2: #454545;\n",
       "                    background-color: #383838;\n",
       "                }\n",
       "\n",
       "                .geemap-dark .jupyter-button {\n",
       "                    --jp-layout-color3: #383838;\n",
       "                }\n",
       "\n",
       "                .geemap-colab {\n",
       "                    background-color: var(--colab-primary-surface-color, white);\n",
       "                }\n",
       "\n",
       "                .geemap-colab .jupyter-button {\n",
       "                    --jp-layout-color3: var(--colab-primary-surface-color, white);\n",
       "                }\n",
       "            </style>\n",
       "            "
      ],
      "text/plain": [
       "<IPython.core.display.HTML object>"
      ]
     },
     "metadata": {},
     "output_type": "display_data"
    }
   ],
   "source": [
    "lst_landsat_s = { 1990: 9.879765511679397,\n",
    " 1991: 8.954173718890887,\n",
    " 1992: 4.1181207001714135,\n",
    " 1993: 10.058721180744957,\n",
    " 1994: 9.22601766201506,\n",
    " 1995: 7.868444791330705,\n",
    " 1996: 7.615046916830711,\n",
    " 1997: 6.4652446881016505,\n",
    " 1998: 8.29735257295523,\n",
    " 1999: 7.466276454270664,\n",
    " 2000: 8.444648433179971,\n",
    " 2001: 6.8573912127145835,\n",
    " 2002: 11.29452174088983,\n",
    " 2003: 8.133507938438473,\n",
    " 2004: 7.756460249341295,\n",
    " 2005: 8.815491983317168,\n",
    " 2006: 6.796633766422254,\n",
    " 2007: 9.983745663150753,\n",
    " 2008: 8.444456981800055,\n",
    " 2009: 7.979558202903978,\n",
    " 2010: 7.409646087737466,\n",
    " 2011: 7.802575171575934,\n",
    " 2012: 8.998809616805136,\n",
    " 2013: 9.029895691880107,\n",
    " 2014: 10.268777774431134,\n",
    " 2015: 10.722652392625395,\n",
    " 2016: 10.075703142279956,\n",
    " 2017: 9.112241223415538,\n",
    " 2018: 9.1208041147658,\n",
    " 2019: 9.838905106835822,\n",
    " 2020: 10.8137280883284,\n",
    " 2021: 8.059809265577483,\n",
    " 2022: 8.255228706723798,\n",
    " 2023: 9.533078486705547,\n",
    " 2024: 9.525957321098034}\n",
    "\n",
    "l2sp_s = {1990: 11.52196755603775,\n",
    " 1991: 12.404069463328623,\n",
    " 1992: 8.643606859163437,\n",
    " 1993: 13.145985911690591,\n",
    " 1994: 14.048962140952437,\n",
    " 1995: 11.345508528558398,\n",
    " 1996: 12.42958903567926,\n",
    " 1997: 9.152201421399248,\n",
    " 1998: 12.081733235457616,\n",
    " 1999: 11.956025640427717,\n",
    " 2000: 11.939753007159085,\n",
    " 2001: 11.193228361224506,\n",
    " 2002: 15.15550877409544,\n",
    " 2003: 13.090796408017157,\n",
    " 2004: 11.685261355746018,\n",
    " 2005: 12.529072145691176,\n",
    " 2006: 10.091901503963571,\n",
    " 2007: 13.684239171630615,\n",
    " 2008: 12.181358547635265,\n",
    " 2009: 12.122458028117567,\n",
    " 2010: 12.00415215393862,\n",
    " 2011: 11.709370510099847,\n",
    " 2012: 12.36608233705122,\n",
    " 2013: 13.983231084379739,\n",
    " 2014: 15.859958972899399,\n",
    " 2015: 15.412309450445182,\n",
    " 2016: 15.89598328372118,\n",
    " 2017: 13.94550969702493,\n",
    " 2018: 13.484296553193952,\n",
    " 2019: 14.425735607219298,\n",
    " 2020: 15.001575481166673,\n",
    " 2021: 13.234289244416829,\n",
    " 2022: 12.146844465354125,\n",
    " 2023: 12.782916476456382,\n",
    " 2024: 9.947395378278914}\n",
    "\n",
    "l2sp_with_tier2_s = {1990: 11.52196755603775,\n",
    " 1991: 12.404069463328623,\n",
    " 1992: 1.6301826964997548,\n",
    " 1993: 13.145985911690591,\n",
    " 1994: 11.971119403324407,\n",
    " 1995: 10.789324301379168,\n",
    " 1996: 12.42958903567926,\n",
    " 1997: 8.995261763169525,\n",
    " 1998: 12.081733235457616,\n",
    " 1999: 11.962635338329502,\n",
    " 2000: 11.939753007159085,\n",
    " 2001: 11.166436577670936,\n",
    " 2002: 15.15550877409544,\n",
    " 2003: 13.099789776063934,\n",
    " 2004: 11.685261355746018,\n",
    " 2005: 12.529072145691176,\n",
    " 2006: 10.524219489258215,\n",
    " 2007: 13.672654217178705,\n",
    " 2008: 12.181358547635265,\n",
    " 2009: 12.120598095672781,\n",
    " 2010: 11.21029555890743,\n",
    " 2011: 11.709370510099847,\n",
    " 2012: 12.379641500319076,\n",
    " 2013: 13.983231084379739,\n",
    " 2014: 15.852608257964782,\n",
    " 2015: 15.412599409461055,\n",
    " 2016: 15.150619009534738,\n",
    " 2017: 13.94550969702493,\n",
    " 2018: 13.409365645594294,\n",
    " 2019: 14.425735607219298,\n",
    " 2020: 15.001575481166673,\n",
    " 2021: 13.19294392786191,\n",
    " 2022: 12.117687221027202,\n",
    " 2023: 12.34562721541754,\n",
    " 2024: 9.63801515295418}"
   ]
  },
  {
   "cell_type": "markdown",
   "metadata": {},
   "source": [
    "# MODIS"
   ]
  },
  {
   "cell_type": "code",
   "execution_count": null,
   "metadata": {},
   "outputs": [
    {
     "data": {
      "text/html": [
       "\n",
       "            <style>\n",
       "                .geemap-dark {\n",
       "                    --jp-widgets-color: white;\n",
       "                    --jp-widgets-label-color: white;\n",
       "                    --jp-ui-font-color1: white;\n",
       "                    --jp-layout-color2: #454545;\n",
       "                    background-color: #383838;\n",
       "                }\n",
       "\n",
       "                .geemap-dark .jupyter-button {\n",
       "                    --jp-layout-color3: #383838;\n",
       "                }\n",
       "\n",
       "                .geemap-colab {\n",
       "                    background-color: var(--colab-primary-surface-color, white);\n",
       "                }\n",
       "\n",
       "                .geemap-colab .jupyter-button {\n",
       "                    --jp-layout-color3: var(--colab-primary-surface-color, white);\n",
       "                }\n",
       "            </style>\n",
       "            "
      ],
      "text/plain": [
       "<IPython.core.display.HTML object>"
      ]
     },
     "metadata": {},
     "output_type": "display_data"
    }
   ],
   "source": [
    "def M11_day_Cloudmask(image: ee.Image):\n",
    "   qa = image.select('QC_Day')\n",
    "   mask = qa.bitwiseAnd(1 << 4).And(qa.bitwiseAnd(1 << 5))\n",
    "   return image.updateMask(mask.Not())\n",
    "\n",
    "def M11_night_Cloudmask(image: ee.Image):\n",
    "   qa = image.select('QC_Night')\n",
    "   mask = qa.bitwiseAnd(1 << 4).And(qa.bitwiseAnd(1 << 5))\n",
    "   return image.updateMask(mask.Not())\n",
    "\n",
    "def M21_Cloudmask(image: ee.Image):\n",
    "   qa = image.select('QC')\n",
    "   mask = qa.bitwiseAnd(1 << 4).And(qa.bitwiseAnd(1 << 5))\n",
    "   return image.updateMask(mask.Not())\n",
    "\n",
    "def M11_day_scale_to_celsius(modis_image: ee.image):\n",
    "   scaled_lsts = modis_image.select(['LST_Day_1km']).multiply(0.02).subtract(273.15).rename(['LST'])\n",
    "   renamed_time = modis_image.select(['Day_view_time']).rename(['View_Time'])\n",
    "   result_image = modis_image.addBands(srcImg=scaled_lsts)\n",
    "   return result_image.addBands(srcImg=renamed_time)\n",
    "\n",
    "def M11_night_scale_to_celsius(modis_image: ee.image):\n",
    "   scaled_lsts = modis_image.select(['LST_Night_1km']).multiply(0.02).subtract(273.15).rename(['LST'])\n",
    "   renamed_time = modis_image.select(['Night_view_time']).rename(['View_Time'])\n",
    "   result_image = modis_image.addBands(srcImg=scaled_lsts)\n",
    "   return result_image.addBands(srcImg=renamed_time)\n",
    "\n",
    "def M21_day_scale_to_celsius(modis_image: ee.image):\n",
    "   scaled_lsts = modis_image.select(['LST_1KM']).subtract(273.15).rename(['LST'])\n",
    "   result_image = modis_image.addBands(srcImg=scaled_lsts)\n",
    "   return result_image\n",
    "\n",
    "def M21_night_scale_to_celsius(modis_image: ee.image):\n",
    "   scaled_lsts = modis_image.select(['LST_1KM']).subtract(273.15).rename(['LST'])\n",
    "   result_image = modis_image.addBands(srcImg=scaled_lsts)\n",
    "   return result_image\n",
    "\n",
    "def M_get_coll(satellite_name: str):\n",
    "   match satellite_name:\n",
    "      case 'MOD11_Terra_day':\n",
    "         coll = ee.ImageCollection('MODIS/061/MOD11A2').map(lambda img: M11_day_scale_to_celsius(img))\n",
    "         coll = coll.map(M11_day_Cloudmask)\n",
    "      case 'MOD11_Terra_night':\n",
    "         coll = ee.ImageCollection('MODIS/061/MOD11A2').map(lambda img: M11_night_scale_to_celsius(img))\n",
    "         coll = coll.map(M11_night_Cloudmask)\n",
    "      case 'MOD21_Terra_day':\n",
    "         coll = ee.ImageCollection('MODIS/061/MOD21A1D').map(lambda img: M21_day_scale_to_celsius(img))\n",
    "         coll = coll.map(M21_Cloudmask)\n",
    "      case 'MOD21_Terra_night':\n",
    "         coll = ee.ImageCollection('MODIS/061/MOD21A1N').map(lambda img: M21_night_scale_to_celsius(img))\n",
    "         coll = coll.map(M21_Cloudmask)\n",
    "      case 'MOD11_Aqua_day':\n",
    "         coll = ee.ImageCollection('MODIS/061/MYD11A2').map(lambda img: M11_day_scale_to_celsius(img))\n",
    "         coll = coll.map(M11_day_Cloudmask)\n",
    "      case 'MOD11_Aqua_night':\n",
    "         coll = ee.ImageCollection('MODIS/061/MYD11A2').map(lambda img: M11_night_scale_to_celsius(img))\n",
    "         coll = coll.map(M11_night_Cloudmask)\n",
    "      case 'MOD21_Aqua_day':\n",
    "         coll = ee.ImageCollection('MODIS/061/MYD21A1D').map(lambda img: M21_day_scale_to_celsius(img))\n",
    "         coll = coll.map(M21_Cloudmask)\n",
    "      case 'MOD21_Aqua_night':\n",
    "         coll = ee.ImageCollection('MODIS/061/MYD21A1N').map(lambda img: M21_night_scale_to_celsius(img))\n",
    "         coll = coll.map(M21_Cloudmask)\n",
    "\n",
    "   coll = coll.filter(\n",
    "         ee.Filter.date(modis_date_start, date_end)\n",
    "      ).filterBounds(\n",
    "         baikal_shape\n",
    "      )\n",
    "   return coll.select(['LST'])"
   ]
  },
  {
   "cell_type": "code",
   "execution_count": 58,
   "metadata": {},
   "outputs": [
    {
     "data": {
      "text/html": [
       "\n",
       "            <style>\n",
       "                .geemap-dark {\n",
       "                    --jp-widgets-color: white;\n",
       "                    --jp-widgets-label-color: white;\n",
       "                    --jp-ui-font-color1: white;\n",
       "                    --jp-layout-color2: #454545;\n",
       "                    background-color: #383838;\n",
       "                }\n",
       "\n",
       "                .geemap-dark .jupyter-button {\n",
       "                    --jp-layout-color3: #383838;\n",
       "                }\n",
       "\n",
       "                .geemap-colab {\n",
       "                    background-color: var(--colab-primary-surface-color, white);\n",
       "                }\n",
       "\n",
       "                .geemap-colab .jupyter-button {\n",
       "                    --jp-layout-color3: var(--colab-primary-surface-color, white);\n",
       "                }\n",
       "            </style>\n",
       "            "
      ],
      "text/plain": [
       "<IPython.core.display.HTML object>"
      ]
     },
     "metadata": {},
     "output_type": "display_data"
    }
   ],
   "source": [
    "m11_coll = ee.ImageCollection.merge(M_get_coll('MOD11_Terra_day'), M_get_coll('MOD11_Terra_night'))\n",
    "m11_coll = ee.ImageCollection.merge(m11_coll, M_get_coll('MOD11_Aqua_day'))\n",
    "m11_coll = ee.ImageCollection.merge(m11_coll, M_get_coll('MOD11_Aqua_night'))\n",
    "m21_coll = ee.ImageCollection.merge(M_get_coll('MOD21_Terra_day'), M_get_coll('MOD21_Terra_night'))\n",
    "m21_coll = ee.ImageCollection.merge(m21_coll, M_get_coll('MOD21_Aqua_day'))\n",
    "m21_coll = ee.ImageCollection.merge(m21_coll, M_get_coll('MOD21_Aqua_night'))"
   ]
  },
  {
   "cell_type": "code",
   "execution_count": 43,
   "metadata": {},
   "outputs": [
    {
     "data": {
      "text/html": [
       "\n",
       "            <style>\n",
       "                .geemap-dark {\n",
       "                    --jp-widgets-color: white;\n",
       "                    --jp-widgets-label-color: white;\n",
       "                    --jp-ui-font-color1: white;\n",
       "                    --jp-layout-color2: #454545;\n",
       "                    background-color: #383838;\n",
       "                }\n",
       "\n",
       "                .geemap-dark .jupyter-button {\n",
       "                    --jp-layout-color3: #383838;\n",
       "                }\n",
       "\n",
       "                .geemap-colab {\n",
       "                    background-color: var(--colab-primary-surface-color, white);\n",
       "                }\n",
       "\n",
       "                .geemap-colab .jupyter-button {\n",
       "                    --jp-layout-color3: var(--colab-primary-surface-color, white);\n",
       "                }\n",
       "            </style>\n",
       "            "
      ],
      "text/plain": [
       "<IPython.core.display.HTML object>"
      ]
     },
     "metadata": {},
     "output_type": "display_data"
    }
   ],
   "source": [
    "def get_average_lst_modis(modis_coll: ee.ImageCollection, start_time, end_time):\n",
    "   if(modis_coll.size() == 0):\n",
    "      return None\n",
    "   temp = modis_coll.filterDate(start_time, end_time).mean().reduceRegion(reducer=ee.Reducer.mean(), geometry=baikal_shape, maxPixels=1000000000)\n",
    "   result_dict = temp.getInfo()\n",
    "   if(len(result_dict) == 0):\n",
    "      return None\n",
    "   return result_dict['LST']"
   ]
  },
  {
   "cell_type": "code",
   "execution_count": 59,
   "metadata": {},
   "outputs": [
    {
     "data": {
      "text/html": [
       "\n",
       "            <style>\n",
       "                .geemap-dark {\n",
       "                    --jp-widgets-color: white;\n",
       "                    --jp-widgets-label-color: white;\n",
       "                    --jp-ui-font-color1: white;\n",
       "                    --jp-layout-color2: #454545;\n",
       "                    background-color: #383838;\n",
       "                }\n",
       "\n",
       "                .geemap-dark .jupyter-button {\n",
       "                    --jp-layout-color3: #383838;\n",
       "                }\n",
       "\n",
       "                .geemap-colab {\n",
       "                    background-color: var(--colab-primary-surface-color, white);\n",
       "                }\n",
       "\n",
       "                .geemap-colab .jupyter-button {\n",
       "                    --jp-layout-color3: var(--colab-primary-surface-color, white);\n",
       "                }\n",
       "            </style>\n",
       "            "
      ],
      "text/plain": [
       "<IPython.core.display.HTML object>"
      ]
     },
     "metadata": {},
     "output_type": "display_data"
    },
    {
     "name": "stdout",
     "output_type": "stream",
     "text": [
      "{2001: 12.178416934189435, 2002: 13.90397137506691, 2003: 11.596507783239726, 2004: 12.224775573501901, 2005: 12.369534468632986, 2006: 11.782929833801525, 2007: 13.117085966760326, 2008: 11.793978815543099, 2009: 11.497500000000029, 2010: 12.021998771067446, 2011: 12.238720739700401, 2012: 12.10122015449441, 2013: 11.33126463014984, 2014: 12.9577914325843, 2015: 14.190030723314635, 2016: 13.868647881554336, 2017: 12.552377399344596, 2018: 12.946748010299656, 2019: 13.368991104868943, 2020: 13.074990344101149, 2021: 12.253575316011261, 2022: 11.059660580524374, 2023: 13.03224777621726, 2024: 13.366857255044128} {2001: 10.739610616019439, 2002: 13.213481788364847, 2003: 10.509448586176326, 2004: 10.460244133403188, 2005: 11.326422122969603, 2006: 9.854122062808523, 2007: 12.047756248339006, 2008: 10.575773063279428, 2009: 10.366565878065071, 2010: 10.518374538414921, 2011: 10.777425399363267, 2012: 10.852779586683317, 2013: 10.288876523972055, 2014: 11.99397934228406, 2015: 13.324569095540856, 2016: 13.053336477607926, 2017: 11.987002285251917, 2018: 11.08621953828368, 2019: 12.532831005284974, 2020: 12.023079755911908, 2021: 10.629778355236144, 2022: 10.148767181212008, 2023: 12.225026793951276, 2024: 12.770074544269605}\n"
     ]
    }
   ],
   "source": [
    "lst_m21 = {}\n",
    "lst_m11 = {}\n",
    "\n",
    "for year in range(modis_start_year, end_year):\n",
    "   start_date = ee.Date(f\"{year}-{openwater_month_start}-1\")\n",
    "   end_date = ee.Date(f\"{year}-{openwater_month_end}-1\")\n",
    "   \n",
    "   result_m11 = get_average_lst_modis(m11_coll, start_date, end_date)\n",
    "   # print(f\"Complete M11 in {start_date} -- {end_date}\")\n",
    "   result_m21 = get_average_lst_modis(m21_coll, start_date, end_date)\n",
    "   # print(f\"Complete M21 in {start_date} -- {end_date}\")\n",
    "   if(result_m11 is not None):\n",
    "      lst_m11[year] = result_m11\n",
    "   if(result_m21 is not None):\n",
    "      lst_m21[year] = result_m21\n",
    "\n",
    "print(lst_m11, lst_m21)"
   ]
  },
  {
   "cell_type": "code",
   "execution_count": 60,
   "metadata": {},
   "outputs": [
    {
     "data": {
      "text/html": [
       "\n",
       "            <style>\n",
       "                .geemap-dark {\n",
       "                    --jp-widgets-color: white;\n",
       "                    --jp-widgets-label-color: white;\n",
       "                    --jp-ui-font-color1: white;\n",
       "                    --jp-layout-color2: #454545;\n",
       "                    background-color: #383838;\n",
       "                }\n",
       "\n",
       "                .geemap-dark .jupyter-button {\n",
       "                    --jp-layout-color3: #383838;\n",
       "                }\n",
       "\n",
       "                .geemap-colab {\n",
       "                    background-color: var(--colab-primary-surface-color, white);\n",
       "                }\n",
       "\n",
       "                .geemap-colab .jupyter-button {\n",
       "                    --jp-layout-color3: var(--colab-primary-surface-color, white);\n",
       "                }\n",
       "            </style>\n",
       "            "
      ],
      "text/plain": [
       "<IPython.core.display.HTML object>"
      ]
     },
     "metadata": {},
     "output_type": "display_data"
    },
    {
     "data": {
      "text/plain": [
       "{2001: 12.178416934189435,\n",
       " 2002: 13.90397137506691,\n",
       " 2003: 11.596507783239726,\n",
       " 2004: 12.224775573501901,\n",
       " 2005: 12.369534468632986,\n",
       " 2006: 11.782929833801525,\n",
       " 2007: 13.117085966760326,\n",
       " 2008: 11.793978815543099,\n",
       " 2009: 11.497500000000029,\n",
       " 2010: 12.021998771067446,\n",
       " 2011: 12.238720739700401,\n",
       " 2012: 12.10122015449441,\n",
       " 2013: 11.33126463014984,\n",
       " 2014: 12.9577914325843,\n",
       " 2015: 14.190030723314635,\n",
       " 2016: 13.868647881554336,\n",
       " 2017: 12.552377399344596,\n",
       " 2018: 12.946748010299656,\n",
       " 2019: 13.368991104868943,\n",
       " 2020: 13.074990344101149,\n",
       " 2021: 12.253575316011261,\n",
       " 2022: 11.059660580524374,\n",
       " 2023: 13.03224777621726,\n",
       " 2024: 13.366857255044128}"
      ]
     },
     "execution_count": 60,
     "metadata": {},
     "output_type": "execute_result"
    }
   ],
   "source": [
    "lst_m11"
   ]
  },
  {
   "cell_type": "code",
   "execution_count": 61,
   "metadata": {},
   "outputs": [
    {
     "data": {
      "text/html": [
       "\n",
       "            <style>\n",
       "                .geemap-dark {\n",
       "                    --jp-widgets-color: white;\n",
       "                    --jp-widgets-label-color: white;\n",
       "                    --jp-ui-font-color1: white;\n",
       "                    --jp-layout-color2: #454545;\n",
       "                    background-color: #383838;\n",
       "                }\n",
       "\n",
       "                .geemap-dark .jupyter-button {\n",
       "                    --jp-layout-color3: #383838;\n",
       "                }\n",
       "\n",
       "                .geemap-colab {\n",
       "                    background-color: var(--colab-primary-surface-color, white);\n",
       "                }\n",
       "\n",
       "                .geemap-colab .jupyter-button {\n",
       "                    --jp-layout-color3: var(--colab-primary-surface-color, white);\n",
       "                }\n",
       "            </style>\n",
       "            "
      ],
      "text/plain": [
       "<IPython.core.display.HTML object>"
      ]
     },
     "metadata": {},
     "output_type": "display_data"
    },
    {
     "data": {
      "text/plain": [
       "{2001: 10.739610616019439,\n",
       " 2002: 13.213481788364847,\n",
       " 2003: 10.509448586176326,\n",
       " 2004: 10.460244133403188,\n",
       " 2005: 11.326422122969603,\n",
       " 2006: 9.854122062808523,\n",
       " 2007: 12.047756248339006,\n",
       " 2008: 10.575773063279428,\n",
       " 2009: 10.366565878065071,\n",
       " 2010: 10.518374538414921,\n",
       " 2011: 10.777425399363267,\n",
       " 2012: 10.852779586683317,\n",
       " 2013: 10.288876523972055,\n",
       " 2014: 11.99397934228406,\n",
       " 2015: 13.324569095540856,\n",
       " 2016: 13.053336477607926,\n",
       " 2017: 11.987002285251917,\n",
       " 2018: 11.08621953828368,\n",
       " 2019: 12.532831005284974,\n",
       " 2020: 12.023079755911908,\n",
       " 2021: 10.629778355236144,\n",
       " 2022: 10.148767181212008,\n",
       " 2023: 12.225026793951276,\n",
       " 2024: 12.770074544269605}"
      ]
     },
     "execution_count": 61,
     "metadata": {},
     "output_type": "execute_result"
    }
   ],
   "source": [
    "lst_m21"
   ]
  },
  {
   "cell_type": "code",
   "execution_count": null,
   "metadata": {},
   "outputs": [
    {
     "data": {
      "text/html": [
       "\n",
       "            <style>\n",
       "                .geemap-dark {\n",
       "                    --jp-widgets-color: white;\n",
       "                    --jp-widgets-label-color: white;\n",
       "                    --jp-ui-font-color1: white;\n",
       "                    --jp-layout-color2: #454545;\n",
       "                    background-color: #383838;\n",
       "                }\n",
       "\n",
       "                .geemap-dark .jupyter-button {\n",
       "                    --jp-layout-color3: #383838;\n",
       "                }\n",
       "\n",
       "                .geemap-colab {\n",
       "                    background-color: var(--colab-primary-surface-color, white);\n",
       "                }\n",
       "\n",
       "                .geemap-colab .jupyter-button {\n",
       "                    --jp-layout-color3: var(--colab-primary-surface-color, white);\n",
       "                }\n",
       "            </style>\n",
       "            "
      ],
      "text/plain": [
       "<IPython.core.display.HTML object>"
      ]
     },
     "metadata": {},
     "output_type": "display_data"
    }
   ],
   "source": [
    "lst_m11_s = {2001: 8.518391334434845,\n",
    " 2002: 10.562313431334651,\n",
    " 2003: 7.857616372707389,\n",
    " 2004: 7.395629688897221,\n",
    " 2005: 9.14143065926696,\n",
    " 2006: 7.007350175325124,\n",
    " 2007: 9.94451399113264,\n",
    " 2008: 8.258408651177756,\n",
    " 2009: 8.258186946255545,\n",
    " 2010: 7.098301657039377,\n",
    " 2011: 8.083154459303568,\n",
    " 2012: 9.068294740221727,\n",
    " 2013: 8.22769966377824,\n",
    " 2014: 10.313111054749466,\n",
    " 2015: 10.214666106018871,\n",
    " 2016: 10.278019374073171,\n",
    " 2017: 9.111631967910679,\n",
    " 2018: 9.083092106624825,\n",
    " 2019: 9.750912104506595,\n",
    " 2020: 10.673629396456128,\n",
    " 2021: 8.178589646995642,\n",
    " 2022: 8.422860681650373,\n",
    " 2023: 10.092309299156067,\n",
    " 2024: 9.718802938390988}\n",
    "\n",
    "lst_m21_s = {2001: 6.523447096502005,\n",
    " 2002: 11.087026927344537,\n",
    " 2003: 8.227190985636412,\n",
    " 2004: 7.918499190633716,\n",
    " 2005: 9.834607190557838,\n",
    " 2006: 7.375761008911375,\n",
    " 2007: 10.603713281690437,\n",
    " 2008: 8.734014051703918,\n",
    " 2009: 8.932528225671893,\n",
    " 2010: 7.71452877253441,\n",
    " 2011: 8.775993993759588,\n",
    " 2012: 9.776709236956195,\n",
    " 2013: 8.83295322142326,\n",
    " 2014: 10.90875064506874,\n",
    " 2015: 11.124346848601931,\n",
    " 2016: 11.072499313254557,\n",
    " 2017: 9.697003172751204,\n",
    " 2018: 9.721762029880114,\n",
    " 2019: 10.577461115660952,\n",
    " 2020: 11.42118506104802,\n",
    " 2021: 8.943680470222272,\n",
    " 2022: 9.072915370205486,\n",
    " 2023: 11.284890175973027,\n",
    " 2024: 10.757315581774394}\n",
    "\n",
    "lst_m11_no_mask = {2001: 12.178416934189435,\n",
    " 2002: 13.90397137506691,\n",
    " 2003: 11.596507783239726,\n",
    " 2004: 12.224775573501901,\n",
    " 2005: 12.369534468632986,\n",
    " 2006: 11.782929833801525,\n",
    " 2007: 13.117085966760326,\n",
    " 2008: 11.793978815543099,\n",
    " 2009: 11.497500000000029,\n",
    " 2010: 12.021998771067446,\n",
    " 2011: 12.238720739700401,\n",
    " 2012: 12.10122015449441,\n",
    " 2013: 11.33126463014984,\n",
    " 2014: 12.9577914325843,\n",
    " 2015: 14.190030723314635,\n",
    " 2016: 13.868647881554336,\n",
    " 2017: 12.552377399344596,\n",
    " 2018: 12.946748010299656,\n",
    " 2019: 13.368991104868943,\n",
    " 2020: 13.074990344101149,\n",
    " 2021: 12.253575316011261,\n",
    " 2022: 11.059660580524374,\n",
    " 2023: 13.03224777621726,\n",
    " 2024: 13.366857255044128}\n",
    "\n",
    "lst_m21_no_mask = {2001: 10.739610616019439,\n",
    " 2002: 13.213481788364847,\n",
    " 2003: 10.509448586176326,\n",
    " 2004: 10.460244133403188,\n",
    " 2005: 11.326422122969603,\n",
    " 2006: 9.854122062808523,\n",
    " 2007: 12.047756248339006,\n",
    " 2008: 10.575773063279428,\n",
    " 2009: 10.366565878065071,\n",
    " 2010: 10.518374538414921,\n",
    " 2011: 10.777425399363267,\n",
    " 2012: 10.852779586683317,\n",
    " 2013: 10.288876523972055,\n",
    " 2014: 11.99397934228406,\n",
    " 2015: 13.324569095540856,\n",
    " 2016: 13.053336477607926,\n",
    " 2017: 11.987002285251917,\n",
    " 2018: 11.08621953828368,\n",
    " 2019: 12.532831005284974,\n",
    " 2020: 12.023079755911908,\n",
    " 2021: 10.629778355236144,\n",
    " 2022: 10.148767181212008,\n",
    " 2023: 12.225026793951276,\n",
    " 2024: 12.770074544269605}\n",
    "\n",
    "lst_m11_mask = {2001: 14.043164379781057,\n",
    " 2002: 16.105599388760137,\n",
    " 2003: 13.483715013004069,\n",
    " 2004: 14.15739196557732,\n",
    " 2005: 14.348700439529308,\n",
    " 2006: 13.85078139530152,\n",
    " 2007: 14.943424997326689,\n",
    " 2008: 13.786631099150915,\n",
    " 2009: 13.648570817407489,\n",
    " 2010: 14.67904674936639,\n",
    " 2011: 14.47973201644747,\n",
    " 2012: 14.111795473988822,\n",
    " 2013: 13.159061358375626,\n",
    " 2014: 15.87550866370836,\n",
    " 2015: 16.388768818139102,\n",
    " 2016: 16.136909678022384,\n",
    " 2017: 14.587031772960502,\n",
    " 2018: 15.22408331042955,\n",
    " 2019: 15.673831204860631,\n",
    " 2020: 15.046240662162656,\n",
    " 2021: 14.308303870126252,\n",
    " 2022: 12.673677498188717,\n",
    " 2023: 15.045717196379217,\n",
    " 2024: 14.955861434161335}\n",
    "\n",
    "lst_m21_mask = {2001: 14.389877382476167,\n",
    " 2002: 16.34166828174947,\n",
    " 2003: 12.570442383767327,\n",
    " 2004: 14.15592923969709,\n",
    " 2005: 14.270042157519377,\n",
    " 2006: 13.029515814794866,\n",
    " 2007: 15.501608681857977,\n",
    " 2008: 13.34414955838907,\n",
    " 2009: 13.46038824900479,\n",
    " 2010: 13.694979389938803,\n",
    " 2011: 13.638520347669767,\n",
    " 2012: 13.090467115172688,\n",
    " 2013: 13.390383530592992,\n",
    " 2014: 14.378935532200945,\n",
    " 2015: 16.153767197798164,\n",
    " 2016: 14.669666661790536,\n",
    " 2017: 15.51706892558889,\n",
    " 2018: 14.485591109650596,\n",
    " 2019: 15.269387116890934,\n",
    " 2020: 15.084262305496711,\n",
    " 2021: 13.885052140705962,\n",
    " 2022: 13.858707338037501,\n",
    " 2023: 14.425389763186088,\n",
    " 2024: 15.741917780725188}"
   ]
  },
  {
   "cell_type": "markdown",
   "metadata": {},
   "source": [
    "# ERA5"
   ]
  },
  {
   "cell_type": "code",
   "execution_count": 8,
   "metadata": {},
   "outputs": [
    {
     "data": {
      "text/html": [
       "\n",
       "            <style>\n",
       "                .geemap-dark {\n",
       "                    --jp-widgets-color: white;\n",
       "                    --jp-widgets-label-color: white;\n",
       "                    --jp-ui-font-color1: white;\n",
       "                    --jp-layout-color2: #454545;\n",
       "                    background-color: #383838;\n",
       "                }\n",
       "\n",
       "                .geemap-dark .jupyter-button {\n",
       "                    --jp-layout-color3: #383838;\n",
       "                }\n",
       "\n",
       "                .geemap-colab {\n",
       "                    background-color: var(--colab-primary-surface-color, white);\n",
       "                }\n",
       "\n",
       "                .geemap-colab .jupyter-button {\n",
       "                    --jp-layout-color3: var(--colab-primary-surface-color, white);\n",
       "                }\n",
       "            </style>\n",
       "            "
      ],
      "text/plain": [
       "<IPython.core.display.HTML object>"
      ]
     },
     "metadata": {},
     "output_type": "display_data"
    }
   ],
   "source": [
    "def ERA5_scale_to_celsius(era5_image: ee.Image):\n",
    "   scaled_lsts = era5_image.select([\"mean_2m_air_temperature\"]).subtract(273.15).rename([\"LST\"])\n",
    "   return era5_image.addBands(srcImg=scaled_lsts, overwrite=True)\n",
    "\n",
    "era5_coll = ee.ImageCollection(\"ECMWF/ERA5/MONTHLY\").map(lambda img: ERA5_scale_to_celsius(img))"
   ]
  },
  {
   "cell_type": "code",
   "execution_count": 9,
   "metadata": {},
   "outputs": [
    {
     "data": {
      "text/html": [
       "\n",
       "            <style>\n",
       "                .geemap-dark {\n",
       "                    --jp-widgets-color: white;\n",
       "                    --jp-widgets-label-color: white;\n",
       "                    --jp-ui-font-color1: white;\n",
       "                    --jp-layout-color2: #454545;\n",
       "                    background-color: #383838;\n",
       "                }\n",
       "\n",
       "                .geemap-dark .jupyter-button {\n",
       "                    --jp-layout-color3: #383838;\n",
       "                }\n",
       "\n",
       "                .geemap-colab {\n",
       "                    background-color: var(--colab-primary-surface-color, white);\n",
       "                }\n",
       "\n",
       "                .geemap-colab .jupyter-button {\n",
       "                    --jp-layout-color3: var(--colab-primary-surface-color, white);\n",
       "                }\n",
       "            </style>\n",
       "            "
      ],
      "text/plain": [
       "<IPython.core.display.HTML object>"
      ]
     },
     "metadata": {},
     "output_type": "display_data"
    }
   ],
   "source": [
    "def get_average_lst_era5(era5_coll: ee.ImageCollection, start_time, end_time):\n",
    "   if(era5_coll.size() == 0):\n",
    "      return None\n",
    "   mean_temp = era5_coll.filterDate(start_time, end_time).mean()\n",
    "   temp = mean_temp.reduceRegion(reducer=ee.Reducer.mean(), geometry=baikal_shape, scale=30, maxPixels=1000000000)\n",
    "   result_dict = temp.getInfo()\n",
    "   if(len(result_dict) == 0):\n",
    "      return None\n",
    "   return temp.getInfo()['LST']"
   ]
  },
  {
   "cell_type": "code",
   "execution_count": 10,
   "metadata": {},
   "outputs": [
    {
     "data": {
      "text/html": [
       "\n",
       "            <style>\n",
       "                .geemap-dark {\n",
       "                    --jp-widgets-color: white;\n",
       "                    --jp-widgets-label-color: white;\n",
       "                    --jp-ui-font-color1: white;\n",
       "                    --jp-layout-color2: #454545;\n",
       "                    background-color: #383838;\n",
       "                }\n",
       "\n",
       "                .geemap-dark .jupyter-button {\n",
       "                    --jp-layout-color3: #383838;\n",
       "                }\n",
       "\n",
       "                .geemap-colab {\n",
       "                    background-color: var(--colab-primary-surface-color, white);\n",
       "                }\n",
       "\n",
       "                .geemap-colab .jupyter-button {\n",
       "                    --jp-layout-color3: var(--colab-primary-surface-color, white);\n",
       "                }\n",
       "            </style>\n",
       "            "
      ],
      "text/plain": [
       "<IPython.core.display.HTML object>"
      ]
     },
     "metadata": {},
     "output_type": "display_data"
    },
    {
     "data": {
      "text/plain": [
       "{1990: 12.483379430280364,\n",
       " 1991: 12.565505169512653,\n",
       " 1992: 11.186883593142985,\n",
       " 1993: 12.541311973364612,\n",
       " 1994: 12.576303636304328,\n",
       " 1995: 11.890433619000861,\n",
       " 1996: 11.525656457796005,\n",
       " 1997: 12.173449698802962,\n",
       " 1998: 11.996263889991974,\n",
       " 1999: 12.075907567343492,\n",
       " 2000: 13.519539103604885,\n",
       " 2001: 13.242348478919768,\n",
       " 2002: 13.661245955571859,\n",
       " 2003: 12.523946672316857,\n",
       " 2004: 12.545542116947537,\n",
       " 2005: 12.843338763379291,\n",
       " 2006: 11.951816580670009,\n",
       " 2007: 13.850654928284408,\n",
       " 2008: 12.804283342875362,\n",
       " 2009: 12.338139289366348,\n",
       " 2010: 12.223101488732853,\n",
       " 2011: 12.737727082097948,\n",
       " 2012: 12.805936061381141,\n",
       " 2013: 11.692829028271104,\n",
       " 2014: 13.24021690561049,\n",
       " 2015: 14.096213132465529,\n",
       " 2016: 14.101289846939393,\n",
       " 2017: 13.00368375620691,\n",
       " 2018: 13.100451615060136,\n",
       " 2019: 13.335775986173134,\n",
       " 2020: 10.744542470002987}"
      ]
     },
     "execution_count": 10,
     "metadata": {},
     "output_type": "execute_result"
    }
   ],
   "source": [
    "lst_era5 = {}\n",
    "\n",
    "for year in range(landsat_start_year, end_year):\n",
    "   start_date = ee.Date(f\"{year}-{openwater_month_start}-1\")\n",
    "   end_date = ee.Date(f\"{year}-{openwater_month_end}-1\")\n",
    "   \n",
    "   result = get_average_lst_era5(era5_coll, start_date, end_date)\n",
    "   if(result is not None):\n",
    "      lst_era5[year] = result\n",
    "      \n",
    "lst_era5"
   ]
  },
  {
   "cell_type": "code",
   "execution_count": null,
   "metadata": {},
   "outputs": [],
   "source": [
    "lst_era5_s = {1990: 12.483379430280364,\n",
    " 1991: 12.565505169512653,\n",
    " 1992: 11.186883593142985,\n",
    " 1993: 12.541311973364612,\n",
    " 1994: 12.576303636304328,\n",
    " 1995: 11.890433619000861,\n",
    " 1996: 11.525656457796005,\n",
    " 1997: 12.173449698802962,\n",
    " 1998: 11.996263889991974,\n",
    " 1999: 12.075907567343492,\n",
    " 2000: 13.519539103604885,\n",
    " 2001: 13.242348478919768,\n",
    " 2002: 13.661245955571859,\n",
    " 2003: 12.523946672316857,\n",
    " 2004: 12.545542116947537,\n",
    " 2005: 12.843338763379291,\n",
    " 2006: 11.951816580670009,\n",
    " 2007: 13.850654928284408,\n",
    " 2008: 12.804283342875362,\n",
    " 2009: 12.338139289366348,\n",
    " 2010: 12.223101488732853,\n",
    " 2011: 12.737727082097948,\n",
    " 2012: 12.805936061381141,\n",
    " 2013: 11.692829028271104,\n",
    " 2014: 13.24021690561049,\n",
    " 2015: 14.096213132465529,\n",
    " 2016: 14.101289846939393,\n",
    " 2017: 13.00368375620691,\n",
    " 2018: 13.100451615060136,\n",
    " 2019: 13.335775986173134,\n",
    " 2020: 10.744542470002987}"
   ]
  }
 ],
 "metadata": {
  "kernelspec": {
   "display_name": "Python 3",
   "language": "python",
   "name": "python3"
  },
  "language_info": {
   "codemirror_mode": {
    "name": "ipython",
    "version": 3
   },
   "file_extension": ".py",
   "mimetype": "text/x-python",
   "name": "python",
   "nbconvert_exporter": "python",
   "pygments_lexer": "ipython3",
   "version": "3.13.3"
  }
 },
 "nbformat": 4,
 "nbformat_minor": 2
}

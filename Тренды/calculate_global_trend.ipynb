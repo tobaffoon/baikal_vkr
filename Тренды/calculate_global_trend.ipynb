{
 "cells": [
  {
   "cell_type": "code",
   "execution_count": 9,
   "metadata": {},
   "outputs": [
    {
     "data": {
      "text/html": [
       "\n",
       "            <style>\n",
       "                .geemap-dark {\n",
       "                    --jp-widgets-color: white;\n",
       "                    --jp-widgets-label-color: white;\n",
       "                    --jp-ui-font-color1: white;\n",
       "                    --jp-layout-color2: #454545;\n",
       "                    background-color: #383838;\n",
       "                }\n",
       "\n",
       "                .geemap-dark .jupyter-button {\n",
       "                    --jp-layout-color3: #383838;\n",
       "                }\n",
       "\n",
       "                .geemap-colab {\n",
       "                    background-color: var(--colab-primary-surface-color, white);\n",
       "                }\n",
       "\n",
       "                .geemap-colab .jupyter-button {\n",
       "                    --jp-layout-color3: var(--colab-primary-surface-color, white);\n",
       "                }\n",
       "            </style>\n",
       "            "
      ],
      "text/plain": [
       "<IPython.core.display.HTML object>"
      ]
     },
     "metadata": {},
     "output_type": "display_data"
    }
   ],
   "source": [
    "import ee\n",
    "import geemap\n",
    "import datetime\n",
    "import numpy as np"
   ]
  },
  {
   "cell_type": "code",
   "execution_count": 10,
   "metadata": {},
   "outputs": [
    {
     "data": {
      "text/html": [
       "\n",
       "            <style>\n",
       "                .geemap-dark {\n",
       "                    --jp-widgets-color: white;\n",
       "                    --jp-widgets-label-color: white;\n",
       "                    --jp-ui-font-color1: white;\n",
       "                    --jp-layout-color2: #454545;\n",
       "                    background-color: #383838;\n",
       "                }\n",
       "\n",
       "                .geemap-dark .jupyter-button {\n",
       "                    --jp-layout-color3: #383838;\n",
       "                }\n",
       "\n",
       "                .geemap-colab {\n",
       "                    background-color: var(--colab-primary-surface-color, white);\n",
       "                }\n",
       "\n",
       "                .geemap-colab .jupyter-button {\n",
       "                    --jp-layout-color3: var(--colab-primary-surface-color, white);\n",
       "                }\n",
       "            </style>\n",
       "            "
      ],
      "text/plain": [
       "<IPython.core.display.HTML object>"
      ]
     },
     "metadata": {},
     "output_type": "display_data"
    }
   ],
   "source": [
    "geemap.ee_initialize()\n",
    "oeel = geemap.requireJS()\n",
    "ee.Authenticate()\n",
    "ee.Initialize(project='ee-amazyar-test1')\n",
    "\n",
    "modis_date_start = ee.Date(\"2001-01-01\") # в 2001 начал предоставлять тепловую информацию Terra\n",
    "landsat_date_start = ee.Date(\"1986-03-16\") # с 1986 начал предоставлять тепловую информацию Landsat-5\n",
    "landsat_start_year = landsat_date_start.get(\"year\").getInfo()\n",
    "modis_start_year = modis_date_start.get(\"year\").getInfo()\n",
    "date_end = datetime.datetime.now()\n",
    "end_year = date_end.date().year\n",
    "openwater_month_start = 6 # июнь\n",
    "openwater_month_end = 11 # ноябрь\n",
    "\n",
    "baikal_shape = ee.FeatureCollection('projects/ee-amazyar-test/assets/baikal')"
   ]
  },
  {
   "cell_type": "markdown",
   "metadata": {},
   "source": [
    "# LANDSAT"
   ]
  },
  {
   "cell_type": "code",
   "execution_count": 11,
   "metadata": {},
   "outputs": [
    {
     "data": {
      "text/html": [
       "\n",
       "            <style>\n",
       "                .geemap-dark {\n",
       "                    --jp-widgets-color: white;\n",
       "                    --jp-widgets-label-color: white;\n",
       "                    --jp-ui-font-color1: white;\n",
       "                    --jp-layout-color2: #454545;\n",
       "                    background-color: #383838;\n",
       "                }\n",
       "\n",
       "                .geemap-dark .jupyter-button {\n",
       "                    --jp-layout-color3: #383838;\n",
       "                }\n",
       "\n",
       "                .geemap-colab {\n",
       "                    background-color: var(--colab-primary-surface-color, white);\n",
       "                }\n",
       "\n",
       "                .geemap-colab .jupyter-button {\n",
       "                    --jp-layout-color3: var(--colab-primary-surface-color, white);\n",
       "                }\n",
       "            </style>\n",
       "            "
      ],
      "text/plain": [
       "<IPython.core.display.HTML object>"
      ]
     },
     "metadata": {},
     "output_type": "display_data"
    }
   ],
   "source": [
    "LandsatLST = geemap.requireJS(\"../baikal_vkr_init/Landsat_LST.js\")"
   ]
  },
  {
   "cell_type": "code",
   "execution_count": 12,
   "metadata": {},
   "outputs": [
    {
     "data": {
      "text/html": [
       "\n",
       "            <style>\n",
       "                .geemap-dark {\n",
       "                    --jp-widgets-color: white;\n",
       "                    --jp-widgets-label-color: white;\n",
       "                    --jp-ui-font-color1: white;\n",
       "                    --jp-layout-color2: #454545;\n",
       "                    background-color: #383838;\n",
       "                }\n",
       "\n",
       "                .geemap-dark .jupyter-button {\n",
       "                    --jp-layout-color3: #383838;\n",
       "                }\n",
       "\n",
       "                .geemap-colab {\n",
       "                    background-color: var(--colab-primary-surface-color, white);\n",
       "                }\n",
       "\n",
       "                .geemap-colab .jupyter-button {\n",
       "                    --jp-layout-color3: var(--colab-primary-surface-color, white);\n",
       "                }\n",
       "            </style>\n",
       "            "
      ],
      "text/plain": [
       "<IPython.core.display.HTML object>"
      ]
     },
     "metadata": {},
     "output_type": "display_data"
    }
   ],
   "source": [
    "use_ndvi = True\n",
    "\n",
    "def get_landsat_collection(satellite_name: str):\n",
    "   coll = LandsatLST.collection(satellite_name, landsat_date_start, date_end, baikal_shape, use_ndvi)#.filter(ee.Filter.lt('CLOUD_COVER', 30))\n",
    "   return coll.select(['LST'])"
   ]
  },
  {
   "cell_type": "code",
   "execution_count": null,
   "metadata": {},
   "outputs": [
    {
     "data": {
      "text/html": [
       "\n",
       "            <style>\n",
       "                .geemap-dark {\n",
       "                    --jp-widgets-color: white;\n",
       "                    --jp-widgets-label-color: white;\n",
       "                    --jp-ui-font-color1: white;\n",
       "                    --jp-layout-color2: #454545;\n",
       "                    background-color: #383838;\n",
       "                }\n",
       "\n",
       "                .geemap-dark .jupyter-button {\n",
       "                    --jp-layout-color3: #383838;\n",
       "                }\n",
       "\n",
       "                .geemap-colab {\n",
       "                    background-color: var(--colab-primary-surface-color, white);\n",
       "                }\n",
       "\n",
       "                .geemap-colab .jupyter-button {\n",
       "                    --jp-layout-color3: var(--colab-primary-surface-color, white);\n",
       "                }\n",
       "            </style>\n",
       "            "
      ],
      "text/plain": [
       "<IPython.core.display.HTML object>"
      ]
     },
     "metadata": {},
     "output_type": "display_data"
    }
   ],
   "source": [
    "landsats_collection = ee.ImageCollection.merge(get_landsat_collection('L8'),get_landsat_collection('L9'))\n",
    "landsats_collection = ee.ImageCollection.merge(landsats_collection,get_landsat_collection('L7'))\n",
    "# landsats_collection = ee.ImageCollection.merge(landsats_collection,get_landsat_collection('L5'))"
   ]
  },
  {
   "cell_type": "code",
   "execution_count": null,
   "metadata": {},
   "outputs": [
    {
     "data": {
      "text/html": [
       "\n",
       "            <style>\n",
       "                .geemap-dark {\n",
       "                    --jp-widgets-color: white;\n",
       "                    --jp-widgets-label-color: white;\n",
       "                    --jp-ui-font-color1: white;\n",
       "                    --jp-layout-color2: #454545;\n",
       "                    background-color: #383838;\n",
       "                }\n",
       "\n",
       "                .geemap-dark .jupyter-button {\n",
       "                    --jp-layout-color3: #383838;\n",
       "                }\n",
       "\n",
       "                .geemap-colab {\n",
       "                    background-color: var(--colab-primary-surface-color, white);\n",
       "                }\n",
       "\n",
       "                .geemap-colab .jupyter-button {\n",
       "                    --jp-layout-color3: var(--colab-primary-surface-color, white);\n",
       "                }\n",
       "            </style>\n",
       "            "
      ],
      "text/plain": [
       "<IPython.core.display.HTML object>"
      ]
     },
     "metadata": {},
     "output_type": "display_data"
    }
   ],
   "source": [
    "def get_average_lst_landsat(landsat_collection: ee.ImageCollection, start_time, end_time):\n",
    "   temp = landsat_collection.filterDate(start_time, end_time).mean().reduceRegion(reducer=ee.Reducer.mean(), geometry=baikal_shape, scale=30, maxPixels=1000000000)\n",
    "   result_dict = temp.getInfo()\n",
    "   if(len(result_dict) == 0):\n",
    "      return None\n",
    "   return result_dict['LST']"
   ]
  },
  {
   "cell_type": "code",
   "execution_count": 13,
   "metadata": {},
   "outputs": [
    {
     "data": {
      "text/html": [
       "\n",
       "            <style>\n",
       "                .geemap-dark {\n",
       "                    --jp-widgets-color: white;\n",
       "                    --jp-widgets-label-color: white;\n",
       "                    --jp-ui-font-color1: white;\n",
       "                    --jp-layout-color2: #454545;\n",
       "                    background-color: #383838;\n",
       "                }\n",
       "\n",
       "                .geemap-dark .jupyter-button {\n",
       "                    --jp-layout-color3: #383838;\n",
       "                }\n",
       "\n",
       "                .geemap-colab {\n",
       "                    background-color: var(--colab-primary-surface-color, white);\n",
       "                }\n",
       "\n",
       "                .geemap-colab .jupyter-button {\n",
       "                    --jp-layout-color3: var(--colab-primary-surface-color, white);\n",
       "                }\n",
       "            </style>\n",
       "            "
      ],
      "text/plain": [
       "<IPython.core.display.HTML object>"
      ]
     },
     "metadata": {},
     "output_type": "display_data"
    },
    {
     "data": {
      "text/plain": [
       "{1996: 7.615046916830711,\n",
       " 1997: 6.4652446881016505,\n",
       " 1998: 8.29735257295523,\n",
       " 1999: 7.466276454270664,\n",
       " 2000: 8.444648433179971,\n",
       " 2001: 6.8573912127145835,\n",
       " 2002: 11.29452174088983,\n",
       " 2003: 8.133507938438473,\n",
       " 2004: 7.756460249341295,\n",
       " 2005: 8.815491983317168,\n",
       " 2006: 6.796633766422254,\n",
       " 2007: 9.983745663150753,\n",
       " 2008: 8.444456981800055,\n",
       " 2009: 7.979558202903978,\n",
       " 2010: 7.409646087737466,\n",
       " 2011: 7.802575171575934,\n",
       " 2012: 8.998809616805136,\n",
       " 2013: 9.029895691880107,\n",
       " 2014: 10.268777774431134,\n",
       " 2015: 10.722652392625395,\n",
       " 2016: 10.075703142279956,\n",
       " 2017: 9.112241223415538,\n",
       " 2018: 9.1208041147658,\n",
       " 2019: 9.838905106835822,\n",
       " 2020: 10.8137280883284,\n",
       " 2021: 8.059809265577483,\n",
       " 2022: 8.255228706723798,\n",
       " 2023: 9.533078486705547,\n",
       " 2024: 9.525957321098034}"
      ]
     },
     "execution_count": 13,
     "metadata": {},
     "output_type": "execute_result"
    }
   ],
   "source": [
    "lst_landsat = {}\n",
    "\n",
    "for year in range(landsat_start_year, end_year):\n",
    "   lst_landsat[year] = {}\n",
    "   for month in range(openwater_month_start, openwater_month_end):\n",
    "      start_date = ee.Date(f\"{year}-{month}-1\")\n",
    "      end_date = ee.Date(f\"{year}-{(month+1)}-1\")\n",
    "      \n",
    "      result = get_average_lst_landsat(landsats_collection, start_date, end_date)\n",
    "      if(result is None):\n",
    "         continue\n",
    "      lst_landsat[year][month] = result\n",
    "   \n",
    "   lst_landsat[year] = np.mean(list(lst_landsat[year].values()))\n",
    "   if lst_landsat[year] is None:\n",
    "      del lst_landsat[year]\n",
    "\n",
    "lst_landsat"
   ]
  },
  {
   "cell_type": "code",
   "execution_count": null,
   "metadata": {},
   "outputs": [
    {
     "data": {
      "text/html": [
       "\n",
       "            <style>\n",
       "                .geemap-dark {\n",
       "                    --jp-widgets-color: white;\n",
       "                    --jp-widgets-label-color: white;\n",
       "                    --jp-ui-font-color1: white;\n",
       "                    --jp-layout-color2: #454545;\n",
       "                    background-color: #383838;\n",
       "                }\n",
       "\n",
       "                .geemap-dark .jupyter-button {\n",
       "                    --jp-layout-color3: #383838;\n",
       "                }\n",
       "\n",
       "                .geemap-colab {\n",
       "                    background-color: var(--colab-primary-surface-color, white);\n",
       "                }\n",
       "\n",
       "                .geemap-colab .jupyter-button {\n",
       "                    --jp-layout-color3: var(--colab-primary-surface-color, white);\n",
       "                }\n",
       "            </style>\n",
       "            "
      ],
      "text/plain": [
       "<IPython.core.display.HTML object>"
      ]
     },
     "metadata": {},
     "output_type": "display_data"
    }
   ],
   "source": [
    "del lst_landsat[1983]\n",
    "del lst_landsat[1984]\n",
    "del lst_landsat[1985]"
   ]
  },
  {
   "cell_type": "code",
   "execution_count": null,
   "metadata": {},
   "outputs": [
    {
     "data": {
      "text/html": [
       "\n",
       "            <style>\n",
       "                .geemap-dark {\n",
       "                    --jp-widgets-color: white;\n",
       "                    --jp-widgets-label-color: white;\n",
       "                    --jp-ui-font-color1: white;\n",
       "                    --jp-layout-color2: #454545;\n",
       "                    background-color: #383838;\n",
       "                }\n",
       "\n",
       "                .geemap-dark .jupyter-button {\n",
       "                    --jp-layout-color3: #383838;\n",
       "                }\n",
       "\n",
       "                .geemap-colab {\n",
       "                    background-color: var(--colab-primary-surface-color, white);\n",
       "                }\n",
       "\n",
       "                .geemap-colab .jupyter-button {\n",
       "                    --jp-layout-color3: var(--colab-primary-surface-color, white);\n",
       "                }\n",
       "            </style>\n",
       "            "
      ],
      "text/plain": [
       "<IPython.core.display.HTML object>"
      ]
     },
     "metadata": {},
     "output_type": "display_data"
    }
   ],
   "source": [
    "lst_landsat_s = { 1996: 7.615046916830711,\n",
    " 1997: 6.4652446881016505,\n",
    " 1998: 8.29735257295523,\n",
    " 1999: 7.466276454270664,\n",
    " 2000: 8.444648433179971,\n",
    " 2001: 6.8573912127145835,\n",
    " 2002: 11.29452174088983,\n",
    " 2003: 8.133507938438473,\n",
    " 2004: 7.756460249341295,\n",
    " 2005: 8.815491983317168,\n",
    " 2006: 6.796633766422254,\n",
    " 2007: 9.983745663150753,\n",
    " 2008: 8.444456981800055,\n",
    " 2009: 7.979558202903978,\n",
    " 2010: 7.409646087737466,\n",
    " 2011: 7.802575171575934,\n",
    " 2012: 8.998809616805136,\n",
    " 2013: 9.029895691880107,\n",
    " 2014: 10.268777774431134,\n",
    " 2015: 10.722652392625395,\n",
    " 2016: 10.075703142279956,\n",
    " 2017: 9.112241223415538,\n",
    " 2018: 9.1208041147658,\n",
    " 2019: 9.838905106835822,\n",
    " 2020: 10.8137280883284,\n",
    " 2021: 8.059809265577483,\n",
    " 2022: 8.255228706723798,\n",
    " 2023: 9.533078486705547,\n",
    " 2024: 9.525957321098034}"
   ]
  },
  {
   "cell_type": "markdown",
   "metadata": {},
   "source": [
    "# MODIS"
   ]
  },
  {
   "cell_type": "code",
   "execution_count": 13,
   "metadata": {},
   "outputs": [
    {
     "data": {
      "text/html": [
       "\n",
       "            <style>\n",
       "                .geemap-dark {\n",
       "                    --jp-widgets-color: white;\n",
       "                    --jp-widgets-label-color: white;\n",
       "                    --jp-ui-font-color1: white;\n",
       "                    --jp-layout-color2: #454545;\n",
       "                    background-color: #383838;\n",
       "                }\n",
       "\n",
       "                .geemap-dark .jupyter-button {\n",
       "                    --jp-layout-color3: #383838;\n",
       "                }\n",
       "\n",
       "                .geemap-colab {\n",
       "                    background-color: var(--colab-primary-surface-color, white);\n",
       "                }\n",
       "\n",
       "                .geemap-colab .jupyter-button {\n",
       "                    --jp-layout-color3: var(--colab-primary-surface-color, white);\n",
       "                }\n",
       "            </style>\n",
       "            "
      ],
      "text/plain": [
       "<IPython.core.display.HTML object>"
      ]
     },
     "metadata": {},
     "output_type": "display_data"
    }
   ],
   "source": [
    "def M11_scale_to_celsius(modis_image: ee.image):\n",
    "   scaled_lsts = modis_image.select(['LST_Day_1km', 'LST_Night_1km']).multiply(0.02).subtract(273.15).rename(['LST_Day', 'LST_Night'])\n",
    "   return modis_image.addBands(srcImg=scaled_lsts)\n",
    "\n",
    "def M21_scale_to_celsius(modis_image: ee.Image):\n",
    "   scaled_lsts = modis_image.select(['LST_Day', 'LST_Night']).subtract(273.15)\n",
    "   return modis_image.addBands(srcImg=scaled_lsts, overwrite=True)\n",
    "\n",
    "m11_terra = ee.ImageCollection('MODIS/061/MOD11A2').map(lambda img: M11_scale_to_celsius(img))\n",
    "m21_terra = ee.ImageCollection('MODIS/061/MOD21C2').map(lambda img: M21_scale_to_celsius(img))\n",
    "m11_aqua = ee.ImageCollection('MODIS/061/MYD11A2').map(lambda img: M11_scale_to_celsius(img))\n",
    "m21_aqua = ee.ImageCollection('MODIS/061/MYD21C2').map(lambda img: M21_scale_to_celsius(img))\n",
    "\n",
    "m11_coll = m11_terra.merge(m11_aqua)\n",
    "m21_coll = m21_terra.merge(m21_aqua)"
   ]
  },
  {
   "cell_type": "code",
   "execution_count": 14,
   "metadata": {},
   "outputs": [
    {
     "data": {
      "text/html": [
       "\n",
       "            <style>\n",
       "                .geemap-dark {\n",
       "                    --jp-widgets-color: white;\n",
       "                    --jp-widgets-label-color: white;\n",
       "                    --jp-ui-font-color1: white;\n",
       "                    --jp-layout-color2: #454545;\n",
       "                    background-color: #383838;\n",
       "                }\n",
       "\n",
       "                .geemap-dark .jupyter-button {\n",
       "                    --jp-layout-color3: #383838;\n",
       "                }\n",
       "\n",
       "                .geemap-colab {\n",
       "                    background-color: var(--colab-primary-surface-color, white);\n",
       "                }\n",
       "\n",
       "                .geemap-colab .jupyter-button {\n",
       "                    --jp-layout-color3: var(--colab-primary-surface-color, white);\n",
       "                }\n",
       "            </style>\n",
       "            "
      ],
      "text/plain": [
       "<IPython.core.display.HTML object>"
      ]
     },
     "metadata": {},
     "output_type": "display_data"
    }
   ],
   "source": [
    "def get_average_lst_modis(modis_coll: ee.ImageCollection, start_time, end_time):\n",
    "   if(modis_coll.size() == 0):\n",
    "      return None\n",
    "   mean_temp = modis_coll.filterDate(start_time, end_time).mean()\n",
    "   day_night_temp = mean_temp.expression(\"(b('LST_Day') + b('LST_Night')) / 2\").rename('LST')\n",
    "   temp = day_night_temp.reduceRegion(reducer=ee.Reducer.mean(), geometry=baikal_shape, scale=30, maxPixels=1000000000)\n",
    "   result_dict = temp.getInfo()\n",
    "   if(len(result_dict) == 0):\n",
    "      return None\n",
    "   return temp.getInfo()['LST']"
   ]
  },
  {
   "cell_type": "code",
   "execution_count": 15,
   "metadata": {},
   "outputs": [
    {
     "data": {
      "text/html": [
       "\n",
       "            <style>\n",
       "                .geemap-dark {\n",
       "                    --jp-widgets-color: white;\n",
       "                    --jp-widgets-label-color: white;\n",
       "                    --jp-ui-font-color1: white;\n",
       "                    --jp-layout-color2: #454545;\n",
       "                    background-color: #383838;\n",
       "                }\n",
       "\n",
       "                .geemap-dark .jupyter-button {\n",
       "                    --jp-layout-color3: #383838;\n",
       "                }\n",
       "\n",
       "                .geemap-colab {\n",
       "                    background-color: var(--colab-primary-surface-color, white);\n",
       "                }\n",
       "\n",
       "                .geemap-colab .jupyter-button {\n",
       "                    --jp-layout-color3: var(--colab-primary-surface-color, white);\n",
       "                }\n",
       "            </style>\n",
       "            "
      ],
      "text/plain": [
       "<IPython.core.display.HTML object>"
      ]
     },
     "metadata": {},
     "output_type": "display_data"
    },
    {
     "name": "stdout",
     "output_type": "stream",
     "text": [
      "{2001: 8.518391334434849, 2002: 10.562313431334651, 2003: 7.857616372707389, 2004: 7.395629688897222, 2005: 9.141430659266959, 2006: 7.007350175325123, 2007: 9.944513991132641, 2008: 8.258408651177758, 2009: 8.258186946255549, 2010: 7.098301657039378, 2011: 8.083154459303564, 2012: 9.068294740221727, 2013: 8.22769966377824, 2014: 10.313111054749465, 2015: 10.214666106018871, 2016: 10.278019374073173, 2017: 9.11163196791068, 2018: 9.083092106624829, 2019: 9.750912104506595, 2020: 10.67362939645613, 2021: 8.178589646995643, 2022: 8.422860681650375, 2023: 10.092309299156064, 2024: 9.718802938390988} {2001: 6.523447096502005, 2002: 11.087026927344535, 2003: 8.22719098563641, 2004: 7.918499190633716, 2005: 9.83460719055784, 2006: 7.375761008911376, 2007: 10.603713281690435, 2008: 8.73401405170392, 2009: 8.932528225671891, 2010: 7.714528772534412, 2011: 8.775993993759588, 2012: 9.7767092369562, 2013: 8.832953221423258, 2014: 10.90875064506874, 2015: 11.124346848601935, 2016: 11.072499313254553, 2017: 9.697003172751208, 2018: 9.721762029880116, 2019: 10.577461115660952, 2020: 11.421185061048018, 2021: 8.943680470222274, 2022: 9.072915370205486, 2023: 11.284890175973025, 2024: 10.75731558177439}\n"
     ]
    }
   ],
   "source": [
    "lst_m21 = {}\n",
    "lst_m11 = {}\n",
    "\n",
    "for year in range(modis_start_year, end_year):\n",
    "   start_date = ee.Date(f\"{year}-{openwater_month_start}-1\")\n",
    "   end_date = ee.Date(f\"{year}-{openwater_month_end}-1\")\n",
    "   \n",
    "   result_m11 = get_average_lst_modis(m11_coll, start_date, end_date)\n",
    "   # print(f\"Complete M11 in {start_date} -- {end_date}\")\n",
    "   result_m21 = get_average_lst_modis(m21_coll, start_date, end_date)\n",
    "   # print(f\"Complete M21 in {start_date} -- {end_date}\")\n",
    "   if(result_m11 is not None):\n",
    "      lst_m11[year] = result_m11\n",
    "   if(result_m21 is not None):\n",
    "      lst_m21[year] = result_m21\n",
    "\n",
    "print(lst_m11, lst_m21)"
   ]
  },
  {
   "cell_type": "code",
   "execution_count": 10,
   "metadata": {},
   "outputs": [
    {
     "data": {
      "text/html": [
       "\n",
       "            <style>\n",
       "                .geemap-dark {\n",
       "                    --jp-widgets-color: white;\n",
       "                    --jp-widgets-label-color: white;\n",
       "                    --jp-ui-font-color1: white;\n",
       "                    --jp-layout-color2: #454545;\n",
       "                    background-color: #383838;\n",
       "                }\n",
       "\n",
       "                .geemap-dark .jupyter-button {\n",
       "                    --jp-layout-color3: #383838;\n",
       "                }\n",
       "\n",
       "                .geemap-colab {\n",
       "                    background-color: var(--colab-primary-surface-color, white);\n",
       "                }\n",
       "\n",
       "                .geemap-colab .jupyter-button {\n",
       "                    --jp-layout-color3: var(--colab-primary-surface-color, white);\n",
       "                }\n",
       "            </style>\n",
       "            "
      ],
      "text/plain": [
       "<IPython.core.display.HTML object>"
      ]
     },
     "metadata": {},
     "output_type": "display_data"
    },
    {
     "data": {
      "text/plain": [
       "{2001: 8.518391334434845,\n",
       " 2002: 10.562313431334651,\n",
       " 2003: 7.857616372707389,\n",
       " 2004: 7.395629688897221,\n",
       " 2005: 9.14143065926696,\n",
       " 2006: 7.007350175325124,\n",
       " 2007: 9.94451399113264,\n",
       " 2008: 8.258408651177756,\n",
       " 2009: 8.258186946255545,\n",
       " 2010: 7.098301657039377,\n",
       " 2011: 8.083154459303568,\n",
       " 2012: 9.068294740221727,\n",
       " 2013: 8.22769966377824,\n",
       " 2014: 10.313111054749466,\n",
       " 2015: 10.214666106018871,\n",
       " 2016: 10.278019374073171,\n",
       " 2017: 9.111631967910679,\n",
       " 2018: 9.083092106624825,\n",
       " 2019: 9.750912104506595,\n",
       " 2020: 10.673629396456128,\n",
       " 2021: 8.178589646995642,\n",
       " 2022: 8.422860681650373,\n",
       " 2023: 10.092309299156067,\n",
       " 2024: 9.718802938390988}"
      ]
     },
     "execution_count": 10,
     "metadata": {},
     "output_type": "execute_result"
    }
   ],
   "source": [
    "lst_m11"
   ]
  },
  {
   "cell_type": "code",
   "execution_count": 11,
   "metadata": {},
   "outputs": [
    {
     "data": {
      "text/html": [
       "\n",
       "            <style>\n",
       "                .geemap-dark {\n",
       "                    --jp-widgets-color: white;\n",
       "                    --jp-widgets-label-color: white;\n",
       "                    --jp-ui-font-color1: white;\n",
       "                    --jp-layout-color2: #454545;\n",
       "                    background-color: #383838;\n",
       "                }\n",
       "\n",
       "                .geemap-dark .jupyter-button {\n",
       "                    --jp-layout-color3: #383838;\n",
       "                }\n",
       "\n",
       "                .geemap-colab {\n",
       "                    background-color: var(--colab-primary-surface-color, white);\n",
       "                }\n",
       "\n",
       "                .geemap-colab .jupyter-button {\n",
       "                    --jp-layout-color3: var(--colab-primary-surface-color, white);\n",
       "                }\n",
       "            </style>\n",
       "            "
      ],
      "text/plain": [
       "<IPython.core.display.HTML object>"
      ]
     },
     "metadata": {},
     "output_type": "display_data"
    },
    {
     "data": {
      "text/plain": [
       "{2001: 6.523447096502005,\n",
       " 2002: 11.087026927344537,\n",
       " 2003: 8.227190985636412,\n",
       " 2004: 7.918499190633716,\n",
       " 2005: 9.834607190557838,\n",
       " 2006: 7.375761008911375,\n",
       " 2007: 10.603713281690437,\n",
       " 2008: 8.734014051703918,\n",
       " 2009: 8.932528225671893,\n",
       " 2010: 7.71452877253441,\n",
       " 2011: 8.775993993759588,\n",
       " 2012: 9.776709236956195,\n",
       " 2013: 8.83295322142326,\n",
       " 2014: 10.90875064506874,\n",
       " 2015: 11.124346848601931,\n",
       " 2016: 11.072499313254557,\n",
       " 2017: 9.697003172751204,\n",
       " 2018: 9.721762029880114,\n",
       " 2019: 10.577461115660952,\n",
       " 2020: 11.42118506104802,\n",
       " 2021: 8.943680470222272,\n",
       " 2022: 9.072915370205486,\n",
       " 2023: 11.284890175973027,\n",
       " 2024: 10.757315581774394}"
      ]
     },
     "execution_count": 11,
     "metadata": {},
     "output_type": "execute_result"
    }
   ],
   "source": [
    "lst_m21"
   ]
  },
  {
   "cell_type": "code",
   "execution_count": null,
   "metadata": {},
   "outputs": [
    {
     "data": {
      "text/html": [
       "\n",
       "            <style>\n",
       "                .geemap-dark {\n",
       "                    --jp-widgets-color: white;\n",
       "                    --jp-widgets-label-color: white;\n",
       "                    --jp-ui-font-color1: white;\n",
       "                    --jp-layout-color2: #454545;\n",
       "                    background-color: #383838;\n",
       "                }\n",
       "\n",
       "                .geemap-dark .jupyter-button {\n",
       "                    --jp-layout-color3: #383838;\n",
       "                }\n",
       "\n",
       "                .geemap-colab {\n",
       "                    background-color: var(--colab-primary-surface-color, white);\n",
       "                }\n",
       "\n",
       "                .geemap-colab .jupyter-button {\n",
       "                    --jp-layout-color3: var(--colab-primary-surface-color, white);\n",
       "                }\n",
       "            </style>\n",
       "            "
      ],
      "text/plain": [
       "<IPython.core.display.HTML object>"
      ]
     },
     "metadata": {},
     "output_type": "display_data"
    }
   ],
   "source": [
    "lst_m11_s = {2001: 8.518391334434845,\n",
    " 2002: 10.562313431334651,\n",
    " 2003: 7.857616372707389,\n",
    " 2004: 7.395629688897221,\n",
    " 2005: 9.14143065926696,\n",
    " 2006: 7.007350175325124,\n",
    " 2007: 9.94451399113264,\n",
    " 2008: 8.258408651177756,\n",
    " 2009: 8.258186946255545,\n",
    " 2010: 7.098301657039377,\n",
    " 2011: 8.083154459303568,\n",
    " 2012: 9.068294740221727,\n",
    " 2013: 8.22769966377824,\n",
    " 2014: 10.313111054749466,\n",
    " 2015: 10.214666106018871,\n",
    " 2016: 10.278019374073171,\n",
    " 2017: 9.111631967910679,\n",
    " 2018: 9.083092106624825,\n",
    " 2019: 9.750912104506595,\n",
    " 2020: 10.673629396456128,\n",
    " 2021: 8.178589646995642,\n",
    " 2022: 8.422860681650373,\n",
    " 2023: 10.092309299156067,\n",
    " 2024: 9.718802938390988}\n",
    "\n",
    "lst_m21_s = {2001: 6.523447096502005,\n",
    " 2002: 11.087026927344537,\n",
    " 2003: 8.227190985636412,\n",
    " 2004: 7.918499190633716,\n",
    " 2005: 9.834607190557838,\n",
    " 2006: 7.375761008911375,\n",
    " 2007: 10.603713281690437,\n",
    " 2008: 8.734014051703918,\n",
    " 2009: 8.932528225671893,\n",
    " 2010: 7.71452877253441,\n",
    " 2011: 8.775993993759588,\n",
    " 2012: 9.776709236956195,\n",
    " 2013: 8.83295322142326,\n",
    " 2014: 10.90875064506874,\n",
    " 2015: 11.124346848601931,\n",
    " 2016: 11.072499313254557,\n",
    " 2017: 9.697003172751204,\n",
    " 2018: 9.721762029880114,\n",
    " 2019: 10.577461115660952,\n",
    " 2020: 11.42118506104802,\n",
    " 2021: 8.943680470222272,\n",
    " 2022: 9.072915370205486,\n",
    " 2023: 11.284890175973027,\n",
    " 2024: 10.757315581774394}"
   ]
  },
  {
   "cell_type": "markdown",
   "metadata": {},
   "source": [
    "# ERA5"
   ]
  },
  {
   "cell_type": "code",
   "execution_count": 15,
   "metadata": {},
   "outputs": [
    {
     "data": {
      "text/html": [
       "\n",
       "            <style>\n",
       "                .geemap-dark {\n",
       "                    --jp-widgets-color: white;\n",
       "                    --jp-widgets-label-color: white;\n",
       "                    --jp-ui-font-color1: white;\n",
       "                    --jp-layout-color2: #454545;\n",
       "                    background-color: #383838;\n",
       "                }\n",
       "\n",
       "                .geemap-dark .jupyter-button {\n",
       "                    --jp-layout-color3: #383838;\n",
       "                }\n",
       "\n",
       "                .geemap-colab {\n",
       "                    background-color: var(--colab-primary-surface-color, white);\n",
       "                }\n",
       "\n",
       "                .geemap-colab .jupyter-button {\n",
       "                    --jp-layout-color3: var(--colab-primary-surface-color, white);\n",
       "                }\n",
       "            </style>\n",
       "            "
      ],
      "text/plain": [
       "<IPython.core.display.HTML object>"
      ]
     },
     "metadata": {},
     "output_type": "display_data"
    }
   ],
   "source": [
    "def ERA5_scale_to_celsius(era5_image: ee.Image):\n",
    "   scaled_lsts = era5_image.select([\"mean_2m_air_temperature\"]).subtract(273.15).rename([\"LST\"])\n",
    "   return era5_image.addBands(srcImg=scaled_lsts, overwrite=True)\n",
    "\n",
    "era5_coll = ee.ImageCollection(\"ECMWF/ERA5/MONTHLY\").map(lambda img: ERA5_scale_to_celsius(img))"
   ]
  },
  {
   "cell_type": "code",
   "execution_count": 16,
   "metadata": {},
   "outputs": [
    {
     "data": {
      "text/html": [
       "\n",
       "            <style>\n",
       "                .geemap-dark {\n",
       "                    --jp-widgets-color: white;\n",
       "                    --jp-widgets-label-color: white;\n",
       "                    --jp-ui-font-color1: white;\n",
       "                    --jp-layout-color2: #454545;\n",
       "                    background-color: #383838;\n",
       "                }\n",
       "\n",
       "                .geemap-dark .jupyter-button {\n",
       "                    --jp-layout-color3: #383838;\n",
       "                }\n",
       "\n",
       "                .geemap-colab {\n",
       "                    background-color: var(--colab-primary-surface-color, white);\n",
       "                }\n",
       "\n",
       "                .geemap-colab .jupyter-button {\n",
       "                    --jp-layout-color3: var(--colab-primary-surface-color, white);\n",
       "                }\n",
       "            </style>\n",
       "            "
      ],
      "text/plain": [
       "<IPython.core.display.HTML object>"
      ]
     },
     "metadata": {},
     "output_type": "display_data"
    }
   ],
   "source": [
    "def get_average_lst_era5(era5_coll: ee.ImageCollection, start_time, end_time):\n",
    "   if(era5_coll.size() == 0):\n",
    "      return None\n",
    "   mean_temp = era5_coll.filterDate(start_time, end_time).mean()\n",
    "   temp = mean_temp.reduceRegion(reducer=ee.Reducer.mean(), geometry=baikal_shape, scale=30, maxPixels=1000000000)\n",
    "   result_dict = temp.getInfo()\n",
    "   if(len(result_dict) == 0):\n",
    "      return None\n",
    "   return temp.getInfo()['LST']"
   ]
  },
  {
   "cell_type": "code",
   "execution_count": 17,
   "metadata": {},
   "outputs": [
    {
     "data": {
      "text/html": [
       "\n",
       "            <style>\n",
       "                .geemap-dark {\n",
       "                    --jp-widgets-color: white;\n",
       "                    --jp-widgets-label-color: white;\n",
       "                    --jp-ui-font-color1: white;\n",
       "                    --jp-layout-color2: #454545;\n",
       "                    background-color: #383838;\n",
       "                }\n",
       "\n",
       "                .geemap-dark .jupyter-button {\n",
       "                    --jp-layout-color3: #383838;\n",
       "                }\n",
       "\n",
       "                .geemap-colab {\n",
       "                    background-color: var(--colab-primary-surface-color, white);\n",
       "                }\n",
       "\n",
       "                .geemap-colab .jupyter-button {\n",
       "                    --jp-layout-color3: var(--colab-primary-surface-color, white);\n",
       "                }\n",
       "            </style>\n",
       "            "
      ],
      "text/plain": [
       "<IPython.core.display.HTML object>"
      ]
     },
     "metadata": {},
     "output_type": "display_data"
    },
    {
     "data": {
      "text/plain": [
       "{1996: 9.450155880882175,\n",
       " 1997: 10.306804804710536,\n",
       " 1998: 10.124025263851733,\n",
       " 1999: 9.953970489104826,\n",
       " 2000: 10.897080923980255,\n",
       " 2001: 11.237577393579986,\n",
       " 2002: 11.02499017361202,\n",
       " 2003: 10.489261758126426,\n",
       " 2004: 10.945637833437745,\n",
       " 2005: 11.244417451457139,\n",
       " 2006: 10.083577737021876,\n",
       " 2007: 11.765040295289413,\n",
       " 2008: 11.061690752218151,\n",
       " 2009: 10.35989784117505,\n",
       " 2010: 10.440376515999297,\n",
       " 2011: 11.403798160090886,\n",
       " 2012: 10.77953644155891,\n",
       " 2013: 9.971784275350128,\n",
       " 2014: 11.108825121667898,\n",
       " 2015: 12.168882374570854,\n",
       " 2016: 11.078814723490853,\n",
       " 2017: 10.931184669283283,\n",
       " 2018: 11.564613195835445,\n",
       " 2019: 11.313782876770295,\n",
       " 2020: 10.744542470002987}"
      ]
     },
     "execution_count": 17,
     "metadata": {},
     "output_type": "execute_result"
    }
   ],
   "source": [
    "lst_era5 = {}\n",
    "\n",
    "for year in range(landsat_start_year, end_year):\n",
    "   start_date = ee.Date(f\"{year}-{openwater_month_start}-1\")\n",
    "   end_date = ee.Date(f\"{year}-{openwater_month_end}-1\")\n",
    "   \n",
    "   result = get_average_lst_era5(era5_coll, start_date, end_date)\n",
    "   if(result is not None):\n",
    "      lst_era5[year] = result\n",
    "      \n",
    "lst_era5"
   ]
  },
  {
   "cell_type": "code",
   "execution_count": null,
   "metadata": {},
   "outputs": [],
   "source": [
    "lst_era5_s = { 1996: 9.450155880882175,\n",
    " 1997: 10.306804804710536,\n",
    " 1998: 10.124025263851733,\n",
    " 1999: 9.953970489104826,\n",
    " 2000: 10.897080923980255,\n",
    " 2001: 11.237577393579986,\n",
    " 2002: 11.02499017361202,\n",
    " 2003: 10.489261758126426,\n",
    " 2004: 10.945637833437745,\n",
    " 2005: 11.244417451457139,\n",
    " 2006: 10.083577737021876,\n",
    " 2007: 11.765040295289413,\n",
    " 2008: 11.061690752218151,\n",
    " 2009: 10.35989784117505,\n",
    " 2010: 10.440376515999297,\n",
    " 2011: 11.403798160090886,\n",
    " 2012: 10.77953644155891,\n",
    " 2013: 9.971784275350128,\n",
    " 2014: 11.108825121667898,\n",
    " 2015: 12.168882374570854,\n",
    " 2016: 11.078814723490853,\n",
    " 2017: 10.931184669283283,\n",
    " 2018: 11.564613195835445,\n",
    " 2019: 11.313782876770295,\n",
    " 2020: 10.744542470002987 }"
   ]
  }
 ],
 "metadata": {
  "kernelspec": {
   "display_name": "Python 3",
   "language": "python",
   "name": "python3"
  },
  "language_info": {
   "codemirror_mode": {
    "name": "ipython",
    "version": 3
   },
   "file_extension": ".py",
   "mimetype": "text/x-python",
   "name": "python",
   "nbconvert_exporter": "python",
   "pygments_lexer": "ipython3",
   "version": "3.13.2"
  }
 },
 "nbformat": 4,
 "nbformat_minor": 2
}

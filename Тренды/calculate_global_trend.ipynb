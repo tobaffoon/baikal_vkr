{
 "cells": [
  {
   "cell_type": "code",
   "execution_count": 1,
   "metadata": {},
   "outputs": [],
   "source": [
    "import ee\n",
    "import geemap\n",
    "import datetime\n",
    "import numpy as np\n",
    "import pandas as pd"
   ]
  },
  {
   "cell_type": "code",
   "execution_count": 2,
   "metadata": {},
   "outputs": [
    {
     "data": {
      "text/html": [
       "\n",
       "            <style>\n",
       "                .geemap-dark {\n",
       "                    --jp-widgets-color: white;\n",
       "                    --jp-widgets-label-color: white;\n",
       "                    --jp-ui-font-color1: white;\n",
       "                    --jp-layout-color2: #454545;\n",
       "                    background-color: #383838;\n",
       "                }\n",
       "\n",
       "                .geemap-dark .jupyter-button {\n",
       "                    --jp-layout-color3: #383838;\n",
       "                }\n",
       "\n",
       "                .geemap-colab {\n",
       "                    background-color: var(--colab-primary-surface-color, white);\n",
       "                }\n",
       "\n",
       "                .geemap-colab .jupyter-button {\n",
       "                    --jp-layout-color3: var(--colab-primary-surface-color, white);\n",
       "                }\n",
       "            </style>\n",
       "            "
      ],
      "text/plain": [
       "<IPython.core.display.HTML object>"
      ]
     },
     "metadata": {},
     "output_type": "display_data"
    },
    {
     "name": "stderr",
     "output_type": "stream",
     "text": [
      "(node:23059) [DEP0040] DeprecationWarning: The `punycode` module is deprecated. Please use a userland alternative instead.\n",
      "(Use `node --trace-deprecation ...` to show where the warning was created)\n"
     ]
    },
    {
     "name": "stdout",
     "output_type": "stream",
     "text": [
      "!!!!! On 11-07-2022 this code has been updated to run with landsat collection 2 data !!!!!\n",
      "!!!!! On 11-07-2022 this code has been updated to run with landsat collection 2 data !!!!!\n",
      "!!!!! On 11-07-2022 this code has been updated to run with landsat collection 2 data !!!!!\n",
      "!!!!! On 11-07-2022 this code has been updated to run with landsat collection 2 data !!!!!\n"
     ]
    }
   ],
   "source": [
    "geemap.ee_initialize()\n",
    "oeel = geemap.requireJS()\n",
    "ee.Authenticate()\n",
    "ee.Initialize(project='ee-amazyar-test1')\n",
    "\n",
    "landsat_start_year = 1990 # с 1990 тепловая информация Landsat-5 без колебаний\n",
    "modis_date_start = ee.Date(\"2001-01-01\") # в 2001 начал предоставлять тепловую информацию Terra\n",
    "landsat_date_start = ee.Date(f\"{landsat_start_year}-03-16\")\n",
    "modis_start_year = modis_date_start.get(\"year\").getInfo()\n",
    "date_end = datetime.datetime.now()\n",
    "end_year = date_end.date().year\n",
    "openwater_month_start = 6 # июнь\n",
    "openwater_month_end = 10 # октябрь\n",
    "\n",
    "baikal_shape = ee.FeatureCollection('projects/ee-amazyar-test/assets/baikal')"
   ]
  },
  {
   "cell_type": "markdown",
   "metadata": {},
   "source": [
    "# LANDSAT"
   ]
  },
  {
   "cell_type": "code",
   "execution_count": 3,
   "metadata": {},
   "outputs": [
    {
     "data": {
      "text/html": [
       "\n",
       "            <style>\n",
       "                .geemap-dark {\n",
       "                    --jp-widgets-color: white;\n",
       "                    --jp-widgets-label-color: white;\n",
       "                    --jp-ui-font-color1: white;\n",
       "                    --jp-layout-color2: #454545;\n",
       "                    background-color: #383838;\n",
       "                }\n",
       "\n",
       "                .geemap-dark .jupyter-button {\n",
       "                    --jp-layout-color3: #383838;\n",
       "                }\n",
       "\n",
       "                .geemap-colab {\n",
       "                    background-color: var(--colab-primary-surface-color, white);\n",
       "                }\n",
       "\n",
       "                .geemap-colab .jupyter-button {\n",
       "                    --jp-layout-color3: var(--colab-primary-surface-color, white);\n",
       "                }\n",
       "            </style>\n",
       "            "
      ],
      "text/plain": [
       "<IPython.core.display.HTML object>"
      ]
     },
     "metadata": {},
     "output_type": "display_data"
    }
   ],
   "source": [
    "LandsatLST = geemap.requireJS(\"../baikal_vkr_init/Landsat_LST.js\")"
   ]
  },
  {
   "cell_type": "code",
   "execution_count": 4,
   "metadata": {},
   "outputs": [
    {
     "data": {
      "text/html": [
       "\n",
       "            <style>\n",
       "                .geemap-dark {\n",
       "                    --jp-widgets-color: white;\n",
       "                    --jp-widgets-label-color: white;\n",
       "                    --jp-ui-font-color1: white;\n",
       "                    --jp-layout-color2: #454545;\n",
       "                    background-color: #383838;\n",
       "                }\n",
       "\n",
       "                .geemap-dark .jupyter-button {\n",
       "                    --jp-layout-color3: #383838;\n",
       "                }\n",
       "\n",
       "                .geemap-colab {\n",
       "                    background-color: var(--colab-primary-surface-color, white);\n",
       "                }\n",
       "\n",
       "                .geemap-colab .jupyter-button {\n",
       "                    --jp-layout-color3: var(--colab-primary-surface-color, white);\n",
       "                }\n",
       "            </style>\n",
       "            "
      ],
      "text/plain": [
       "<IPython.core.display.HTML object>"
      ]
     },
     "metadata": {},
     "output_type": "display_data"
    }
   ],
   "source": [
    "use_ndvi = True\n",
    "\n",
    "def get_landsat_collection(satellite_name: str):\n",
    "   coll = LandsatLST.collection(satellite_name, landsat_date_start, date_end, baikal_shape, use_ndvi)#.filter(ee.Filter.lt('CLOUD_COVER', 30))\n",
    "   return coll.select(['LST'])"
   ]
  },
  {
   "cell_type": "code",
   "execution_count": 5,
   "metadata": {},
   "outputs": [
    {
     "data": {
      "text/html": [
       "\n",
       "            <style>\n",
       "                .geemap-dark {\n",
       "                    --jp-widgets-color: white;\n",
       "                    --jp-widgets-label-color: white;\n",
       "                    --jp-ui-font-color1: white;\n",
       "                    --jp-layout-color2: #454545;\n",
       "                    background-color: #383838;\n",
       "                }\n",
       "\n",
       "                .geemap-dark .jupyter-button {\n",
       "                    --jp-layout-color3: #383838;\n",
       "                }\n",
       "\n",
       "                .geemap-colab {\n",
       "                    background-color: var(--colab-primary-surface-color, white);\n",
       "                }\n",
       "\n",
       "                .geemap-colab .jupyter-button {\n",
       "                    --jp-layout-color3: var(--colab-primary-surface-color, white);\n",
       "                }\n",
       "            </style>\n",
       "            "
      ],
      "text/plain": [
       "<IPython.core.display.HTML object>"
      ]
     },
     "metadata": {},
     "output_type": "display_data"
    }
   ],
   "source": [
    "landsats_collection = ee.ImageCollection.merge(get_landsat_collection('L8'),get_landsat_collection('L9'))\n",
    "landsats_collection = ee.ImageCollection.merge(landsats_collection,get_landsat_collection('L7'))\n",
    "landsats_collection = ee.ImageCollection.merge(landsats_collection,get_landsat_collection('L5'))"
   ]
  },
  {
   "cell_type": "code",
   "execution_count": 6,
   "metadata": {},
   "outputs": [
    {
     "data": {
      "text/html": [
       "\n",
       "            <style>\n",
       "                .geemap-dark {\n",
       "                    --jp-widgets-color: white;\n",
       "                    --jp-widgets-label-color: white;\n",
       "                    --jp-ui-font-color1: white;\n",
       "                    --jp-layout-color2: #454545;\n",
       "                    background-color: #383838;\n",
       "                }\n",
       "\n",
       "                .geemap-dark .jupyter-button {\n",
       "                    --jp-layout-color3: #383838;\n",
       "                }\n",
       "\n",
       "                .geemap-colab {\n",
       "                    background-color: var(--colab-primary-surface-color, white);\n",
       "                }\n",
       "\n",
       "                .geemap-colab .jupyter-button {\n",
       "                    --jp-layout-color3: var(--colab-primary-surface-color, white);\n",
       "                }\n",
       "            </style>\n",
       "            "
      ],
      "text/plain": [
       "<IPython.core.display.HTML object>"
      ]
     },
     "metadata": {},
     "output_type": "display_data"
    }
   ],
   "source": [
    "def get_average_lst_landsat(landsat_collection: ee.ImageCollection, start_time, end_time):\n",
    "   temp = landsat_collection.filterDate(start_time, end_time).mean().reduceRegion(reducer=ee.Reducer.mean(), geometry=baikal_shape, scale=30, maxPixels=1000000000)\n",
    "   result_dict = temp.getInfo()\n",
    "   if(len(result_dict) == 0):\n",
    "      return None\n",
    "   return result_dict['LST']"
   ]
  },
  {
   "cell_type": "code",
   "execution_count": null,
   "metadata": {},
   "outputs": [
    {
     "data": {
      "text/html": [
       "\n",
       "            <style>\n",
       "                .geemap-dark {\n",
       "                    --jp-widgets-color: white;\n",
       "                    --jp-widgets-label-color: white;\n",
       "                    --jp-ui-font-color1: white;\n",
       "                    --jp-layout-color2: #454545;\n",
       "                    background-color: #383838;\n",
       "                }\n",
       "\n",
       "                .geemap-dark .jupyter-button {\n",
       "                    --jp-layout-color3: #383838;\n",
       "                }\n",
       "\n",
       "                .geemap-colab {\n",
       "                    background-color: var(--colab-primary-surface-color, white);\n",
       "                }\n",
       "\n",
       "                .geemap-colab .jupyter-button {\n",
       "                    --jp-layout-color3: var(--colab-primary-surface-color, white);\n",
       "                }\n",
       "            </style>\n",
       "            "
      ],
      "text/plain": [
       "<IPython.core.display.HTML object>"
      ]
     },
     "metadata": {},
     "output_type": "display_data"
    },
    {
     "data": {
      "text/plain": [
       "{1990: 9.879765511679397,\n",
       " 1991: 8.954173718890887,\n",
       " 1992: 4.1181207001714135,\n",
       " 1993: 10.058721180744957,\n",
       " 1994: 9.22601766201506,\n",
       " 1995: 7.868444791330705}"
      ]
     },
     "execution_count": 7,
     "metadata": {},
     "output_type": "execute_result"
    }
   ],
   "source": [
    "lst_landsat = {}\n",
    "\n",
    "for year in range(landsat_start_year, end_year):\n",
    "   lst_landsat[year] = {}\n",
    "   for month in range(openwater_month_start, openwater_month_end):\n",
    "      start_date = ee.Date(f\"{year}-{month}-1\")\n",
    "      end_date = ee.Date(f\"{year}-{(month+1)}-1\")\n",
    "      \n",
    "      result = get_average_lst_landsat(landsats_collection, start_date, end_date)\n",
    "      if(result is None):\n",
    "         continue\n",
    "      lst_landsat[year][month] = result\n",
    "   \n",
    "   lst_landsat[year] = np.mean(list(lst_landsat[year].values()))\n",
    "   if lst_landsat[year] is None:\n",
    "      del lst_landsat[year]\n",
    "\n",
    "lst_landsat"
   ]
  },
  {
   "cell_type": "markdown",
   "metadata": {},
   "source": [
    "## То же, но по предподсчитанным значениям. \n",
    "НЕКОРРЕКТНО"
   ]
  },
  {
   "cell_type": "code",
   "execution_count": 8,
   "metadata": {},
   "outputs": [
    {
     "data": {
      "text/html": [
       "\n",
       "            <style>\n",
       "                .geemap-dark {\n",
       "                    --jp-widgets-color: white;\n",
       "                    --jp-widgets-label-color: white;\n",
       "                    --jp-ui-font-color1: white;\n",
       "                    --jp-layout-color2: #454545;\n",
       "                    background-color: #383838;\n",
       "                }\n",
       "\n",
       "                .geemap-dark .jupyter-button {\n",
       "                    --jp-layout-color3: #383838;\n",
       "                }\n",
       "\n",
       "                .geemap-colab {\n",
       "                    background-color: var(--colab-primary-surface-color, white);\n",
       "                }\n",
       "\n",
       "                .geemap-colab .jupyter-button {\n",
       "                    --jp-layout-color3: var(--colab-primary-surface-color, white);\n",
       "                }\n",
       "            </style>\n",
       "            "
      ],
      "text/plain": [
       "<IPython.core.display.HTML object>"
      ]
     },
     "metadata": {},
     "output_type": "display_data"
    }
   ],
   "source": [
    "def add_timezone(df: pd.DataFrame) -> pd.DataFrame:\n",
    "   format = \"%Y-%m-%d %H:%M:%S.%f\"\n",
    "   df[\"Date\"] = df[\"Date\"].apply(lambda dt: pd.to_datetime(dt, format=format))"
   ]
  },
  {
   "cell_type": "code",
   "execution_count": 10,
   "metadata": {},
   "outputs": [
    {
     "data": {
      "text/html": [
       "\n",
       "            <style>\n",
       "                .geemap-dark {\n",
       "                    --jp-widgets-color: white;\n",
       "                    --jp-widgets-label-color: white;\n",
       "                    --jp-ui-font-color1: white;\n",
       "                    --jp-layout-color2: #454545;\n",
       "                    background-color: #383838;\n",
       "                }\n",
       "\n",
       "                .geemap-dark .jupyter-button {\n",
       "                    --jp-layout-color3: #383838;\n",
       "                }\n",
       "\n",
       "                .geemap-colab {\n",
       "                    background-color: var(--colab-primary-surface-color, white);\n",
       "                }\n",
       "\n",
       "                .geemap-colab .jupyter-button {\n",
       "                    --jp-layout-color3: var(--colab-primary-surface-color, white);\n",
       "                }\n",
       "            </style>\n",
       "            "
      ],
      "text/plain": [
       "<IPython.core.display.HTML object>"
      ]
     },
     "metadata": {},
     "output_type": "display_data"
    },
    {
     "data": {
      "text/html": [
       "<div>\n",
       "<style scoped>\n",
       "    .dataframe tbody tr th:only-of-type {\n",
       "        vertical-align: middle;\n",
       "    }\n",
       "\n",
       "    .dataframe tbody tr th {\n",
       "        vertical-align: top;\n",
       "    }\n",
       "\n",
       "    .dataframe thead th {\n",
       "        text-align: right;\n",
       "    }\n",
       "</style>\n",
       "<table border=\"1\" class=\"dataframe\">\n",
       "  <thead>\n",
       "    <tr style=\"text-align: right;\">\n",
       "      <th></th>\n",
       "      <th>Date</th>\n",
       "      <th>Image T</th>\n",
       "    </tr>\n",
       "  </thead>\n",
       "  <tbody>\n",
       "    <tr>\n",
       "      <th>0</th>\n",
       "      <td>1986-04-29 03:23:24.899000000</td>\n",
       "      <td>-1.539700</td>\n",
       "    </tr>\n",
       "    <tr>\n",
       "      <th>1</th>\n",
       "      <td>1986-05-31 03:22:32.065063000</td>\n",
       "      <td>2.058033</td>\n",
       "    </tr>\n",
       "    <tr>\n",
       "      <th>2</th>\n",
       "      <td>1986-06-02 03:08:55.313094000</td>\n",
       "      <td>-3.599559</td>\n",
       "    </tr>\n",
       "    <tr>\n",
       "      <th>3</th>\n",
       "      <td>1986-06-02 03:09:19.171038000</td>\n",
       "      <td>-0.556575</td>\n",
       "    </tr>\n",
       "    <tr>\n",
       "      <th>4</th>\n",
       "      <td>1986-06-09 03:16:04.867050000</td>\n",
       "      <td>-0.163581</td>\n",
       "    </tr>\n",
       "    <tr>\n",
       "      <th>...</th>\n",
       "      <td>...</td>\n",
       "      <td>...</td>\n",
       "    </tr>\n",
       "    <tr>\n",
       "      <th>10012</th>\n",
       "      <td>2025-04-19 03:38:04.276009000</td>\n",
       "      <td>-8.837142</td>\n",
       "    </tr>\n",
       "    <tr>\n",
       "      <th>10013</th>\n",
       "      <td>2025-04-19 03:38:28.158577000</td>\n",
       "      <td>-8.964933</td>\n",
       "    </tr>\n",
       "    <tr>\n",
       "      <th>10014</th>\n",
       "      <td>2025-04-19 03:38:52.032674000</td>\n",
       "      <td>-9.826516</td>\n",
       "    </tr>\n",
       "    <tr>\n",
       "      <th>10015</th>\n",
       "      <td>2025-04-19 03:39:15.906770000</td>\n",
       "      <td>-2.215253</td>\n",
       "    </tr>\n",
       "    <tr>\n",
       "      <th>10016</th>\n",
       "      <td>2025-04-23 04:04:15.212662900</td>\n",
       "      <td>0.522273</td>\n",
       "    </tr>\n",
       "  </tbody>\n",
       "</table>\n",
       "<p>10017 rows × 2 columns</p>\n",
       "</div>"
      ],
      "text/plain": [
       "                               Date   Image T\n",
       "0     1986-04-29 03:23:24.899000000 -1.539700\n",
       "1     1986-05-31 03:22:32.065063000  2.058033\n",
       "2     1986-06-02 03:08:55.313094000 -3.599559\n",
       "3     1986-06-02 03:09:19.171038000 -0.556575\n",
       "4     1986-06-09 03:16:04.867050000 -0.163581\n",
       "...                             ...       ...\n",
       "10012 2025-04-19 03:38:04.276009000 -8.837142\n",
       "10013 2025-04-19 03:38:28.158577000 -8.964933\n",
       "10014 2025-04-19 03:38:52.032674000 -9.826516\n",
       "10015 2025-04-19 03:39:15.906770000 -2.215253\n",
       "10016 2025-04-23 04:04:15.212662900  0.522273\n",
       "\n",
       "[10017 rows x 2 columns]"
      ]
     },
     "execution_count": 10,
     "metadata": {},
     "output_type": "execute_result"
    }
   ],
   "source": [
    "all_years_landsat_df = pd.read_csv('../Валидация/Данные_валидации/landsat_baikal_lst.csv')\n",
    "add_timezone(all_years_landsat_df)\n",
    "all_years_landsat_df"
   ]
  },
  {
   "cell_type": "code",
   "execution_count": 11,
   "metadata": {},
   "outputs": [
    {
     "data": {
      "text/html": [
       "\n",
       "            <style>\n",
       "                .geemap-dark {\n",
       "                    --jp-widgets-color: white;\n",
       "                    --jp-widgets-label-color: white;\n",
       "                    --jp-ui-font-color1: white;\n",
       "                    --jp-layout-color2: #454545;\n",
       "                    background-color: #383838;\n",
       "                }\n",
       "\n",
       "                .geemap-dark .jupyter-button {\n",
       "                    --jp-layout-color3: #383838;\n",
       "                }\n",
       "\n",
       "                .geemap-colab {\n",
       "                    background-color: var(--colab-primary-surface-color, white);\n",
       "                }\n",
       "\n",
       "                .geemap-colab .jupyter-button {\n",
       "                    --jp-layout-color3: var(--colab-primary-surface-color, white);\n",
       "                }\n",
       "            </style>\n",
       "            "
      ],
      "text/plain": [
       "<IPython.core.display.HTML object>"
      ]
     },
     "metadata": {},
     "output_type": "display_data"
    }
   ],
   "source": [
    "def get_average_lst_landsat_local(landsat_df, start_date, end_date):\n",
    "   in_bounds_entries = landsat_df[(start_date <= landsat_df[\"Date\"]) & (landsat_df[\"Date\"] <= end_date)]\n",
    "   return in_bounds_entries[\"Image T\"].mean()"
   ]
  },
  {
   "cell_type": "code",
   "execution_count": 17,
   "metadata": {},
   "outputs": [
    {
     "data": {
      "text/html": [
       "\n",
       "            <style>\n",
       "                .geemap-dark {\n",
       "                    --jp-widgets-color: white;\n",
       "                    --jp-widgets-label-color: white;\n",
       "                    --jp-ui-font-color1: white;\n",
       "                    --jp-layout-color2: #454545;\n",
       "                    background-color: #383838;\n",
       "                }\n",
       "\n",
       "                .geemap-dark .jupyter-button {\n",
       "                    --jp-layout-color3: #383838;\n",
       "                }\n",
       "\n",
       "                .geemap-colab {\n",
       "                    background-color: var(--colab-primary-surface-color, white);\n",
       "                }\n",
       "\n",
       "                .geemap-colab .jupyter-button {\n",
       "                    --jp-layout-color3: var(--colab-primary-surface-color, white);\n",
       "                }\n",
       "            </style>\n",
       "            "
      ],
      "text/plain": [
       "<IPython.core.display.HTML object>"
      ]
     },
     "metadata": {},
     "output_type": "display_data"
    },
    {
     "data": {
      "text/plain": [
       "{1986: 8.759663685460412,\n",
       " 1987: 2.7700559934364506,\n",
       " 1988: 3.40586823059557,\n",
       " 1989: 7.997293070931044,\n",
       " 1990: 7.856037313254132,\n",
       " 1991: 7.3680161728764,\n",
       " 1992: 3.3140336063937172,\n",
       " 1993: 7.15149218132415,\n",
       " 1994: 7.119435288776228,\n",
       " 1995: 5.607646267554436,\n",
       " 1996: 6.120807928038543,\n",
       " 1997: 5.365743478094312,\n",
       " 1998: 7.2645621714384125,\n",
       " 1999: 6.442740172669513,\n",
       " 2000: 7.456334950729774,\n",
       " 2001: 7.056328889681249,\n",
       " 2002: 9.955916605597425,\n",
       " 2003: 7.975299702742071,\n",
       " 2004: 6.637760675388121,\n",
       " 2005: 7.597102759071141,\n",
       " 2006: 6.014261846680311,\n",
       " 2007: 9.493502600364673,\n",
       " 2008: 7.0564371466133675,\n",
       " 2009: 7.513282902079464,\n",
       " 2010: 6.969347278839847,\n",
       " 2011: 7.196237246273308,\n",
       " 2012: 9.224797200496177,\n",
       " 2013: 7.9906726291247745,\n",
       " 2014: 9.232270771124375,\n",
       " 2015: 9.417395202941613,\n",
       " 2016: 8.558806286942847,\n",
       " 2017: 7.591164193617533,\n",
       " 2018: 7.988809488128339,\n",
       " 2019: 9.066400822576428,\n",
       " 2020: 9.120943260191137,\n",
       " 2021: 7.928572549612589,\n",
       " 2022: 7.384870612306152,\n",
       " 2023: 8.745032440903028,\n",
       " 2024: 10.042533092338392}"
      ]
     },
     "execution_count": 17,
     "metadata": {},
     "output_type": "execute_result"
    }
   ],
   "source": [
    "lst_landsat_local = {}\n",
    "for year in range(landsat_start_year, end_year):\n",
    "      start_date = datetime.datetime(year=year, month=openwater_month_start, day=1)\n",
    "      end_date = datetime.datetime(year=year, month=openwater_month_end, day=31)\n",
    "      \n",
    "      result = get_average_lst_landsat_local(all_years_landsat_df, start_date, end_date)\n",
    "      lst_landsat_local[year] = result\n",
    "\n",
    "lst_landsat_local"
   ]
  },
  {
   "cell_type": "code",
   "execution_count": null,
   "metadata": {},
   "outputs": [
    {
     "data": {
      "text/html": [
       "\n",
       "            <style>\n",
       "                .geemap-dark {\n",
       "                    --jp-widgets-color: white;\n",
       "                    --jp-widgets-label-color: white;\n",
       "                    --jp-ui-font-color1: white;\n",
       "                    --jp-layout-color2: #454545;\n",
       "                    background-color: #383838;\n",
       "                }\n",
       "\n",
       "                .geemap-dark .jupyter-button {\n",
       "                    --jp-layout-color3: #383838;\n",
       "                }\n",
       "\n",
       "                .geemap-colab {\n",
       "                    background-color: var(--colab-primary-surface-color, white);\n",
       "                }\n",
       "\n",
       "                .geemap-colab .jupyter-button {\n",
       "                    --jp-layout-color3: var(--colab-primary-surface-color, white);\n",
       "                }\n",
       "            </style>\n",
       "            "
      ],
      "text/plain": [
       "<IPython.core.display.HTML object>"
      ]
     },
     "metadata": {},
     "output_type": "display_data"
    }
   ],
   "source": [
    "lst_landsat_s = { 1990: 9.879765511679397,\n",
    " 1991: 8.954173718890887,\n",
    " 1992: 4.1181207001714135,\n",
    " 1993: 10.058721180744957,\n",
    " 1994: 9.22601766201506,\n",
    " 1995: 7.868444791330705,\n",
    " 1996: 7.615046916830711,\n",
    " 1997: 6.4652446881016505,\n",
    " 1998: 8.29735257295523,\n",
    " 1999: 7.466276454270664,\n",
    " 2000: 8.444648433179971,\n",
    " 2001: 6.8573912127145835,\n",
    " 2002: 11.29452174088983,\n",
    " 2003: 8.133507938438473,\n",
    " 2004: 7.756460249341295,\n",
    " 2005: 8.815491983317168,\n",
    " 2006: 6.796633766422254,\n",
    " 2007: 9.983745663150753,\n",
    " 2008: 8.444456981800055,\n",
    " 2009: 7.979558202903978,\n",
    " 2010: 7.409646087737466,\n",
    " 2011: 7.802575171575934,\n",
    " 2012: 8.998809616805136,\n",
    " 2013: 9.029895691880107,\n",
    " 2014: 10.268777774431134,\n",
    " 2015: 10.722652392625395,\n",
    " 2016: 10.075703142279956,\n",
    " 2017: 9.112241223415538,\n",
    " 2018: 9.1208041147658,\n",
    " 2019: 9.838905106835822,\n",
    " 2020: 10.8137280883284,\n",
    " 2021: 8.059809265577483,\n",
    " 2022: 8.255228706723798,\n",
    " 2023: 9.533078486705547,\n",
    " 2024: 9.525957321098034}"
   ]
  },
  {
   "cell_type": "markdown",
   "metadata": {},
   "source": [
    "# MODIS"
   ]
  },
  {
   "cell_type": "code",
   "execution_count": 13,
   "metadata": {},
   "outputs": [
    {
     "data": {
      "text/html": [
       "\n",
       "            <style>\n",
       "                .geemap-dark {\n",
       "                    --jp-widgets-color: white;\n",
       "                    --jp-widgets-label-color: white;\n",
       "                    --jp-ui-font-color1: white;\n",
       "                    --jp-layout-color2: #454545;\n",
       "                    background-color: #383838;\n",
       "                }\n",
       "\n",
       "                .geemap-dark .jupyter-button {\n",
       "                    --jp-layout-color3: #383838;\n",
       "                }\n",
       "\n",
       "                .geemap-colab {\n",
       "                    background-color: var(--colab-primary-surface-color, white);\n",
       "                }\n",
       "\n",
       "                .geemap-colab .jupyter-button {\n",
       "                    --jp-layout-color3: var(--colab-primary-surface-color, white);\n",
       "                }\n",
       "            </style>\n",
       "            "
      ],
      "text/plain": [
       "<IPython.core.display.HTML object>"
      ]
     },
     "metadata": {},
     "output_type": "display_data"
    }
   ],
   "source": [
    "def M11_scale_to_celsius(modis_image: ee.image):\n",
    "   scaled_lsts = modis_image.select(['LST_Day_1km', 'LST_Night_1km']).multiply(0.02).subtract(273.15).rename(['LST_Day', 'LST_Night'])\n",
    "   return modis_image.addBands(srcImg=scaled_lsts)\n",
    "\n",
    "def M21_scale_to_celsius(modis_image: ee.Image):\n",
    "   scaled_lsts = modis_image.select(['LST_Day', 'LST_Night']).subtract(273.15)\n",
    "   return modis_image.addBands(srcImg=scaled_lsts, overwrite=True)\n",
    "\n",
    "m11_terra = ee.ImageCollection('MODIS/061/MOD11A2').map(lambda img: M11_scale_to_celsius(img))\n",
    "m21_terra = ee.ImageCollection('MODIS/061/MOD21C2').map(lambda img: M21_scale_to_celsius(img))\n",
    "m11_aqua = ee.ImageCollection('MODIS/061/MYD11A2').map(lambda img: M11_scale_to_celsius(img))\n",
    "m21_aqua = ee.ImageCollection('MODIS/061/MYD21C2').map(lambda img: M21_scale_to_celsius(img))\n",
    "\n",
    "m11_coll = m11_terra.merge(m11_aqua)\n",
    "m21_coll = m21_terra.merge(m21_aqua)"
   ]
  },
  {
   "cell_type": "code",
   "execution_count": 14,
   "metadata": {},
   "outputs": [
    {
     "data": {
      "text/html": [
       "\n",
       "            <style>\n",
       "                .geemap-dark {\n",
       "                    --jp-widgets-color: white;\n",
       "                    --jp-widgets-label-color: white;\n",
       "                    --jp-ui-font-color1: white;\n",
       "                    --jp-layout-color2: #454545;\n",
       "                    background-color: #383838;\n",
       "                }\n",
       "\n",
       "                .geemap-dark .jupyter-button {\n",
       "                    --jp-layout-color3: #383838;\n",
       "                }\n",
       "\n",
       "                .geemap-colab {\n",
       "                    background-color: var(--colab-primary-surface-color, white);\n",
       "                }\n",
       "\n",
       "                .geemap-colab .jupyter-button {\n",
       "                    --jp-layout-color3: var(--colab-primary-surface-color, white);\n",
       "                }\n",
       "            </style>\n",
       "            "
      ],
      "text/plain": [
       "<IPython.core.display.HTML object>"
      ]
     },
     "metadata": {},
     "output_type": "display_data"
    }
   ],
   "source": [
    "def get_average_lst_modis(modis_coll: ee.ImageCollection, start_time, end_time):\n",
    "   if(modis_coll.size() == 0):\n",
    "      return None\n",
    "   mean_temp = modis_coll.filterDate(start_time, end_time).mean()\n",
    "   day_night_temp = mean_temp.expression(\"(b('LST_Day') + b('LST_Night')) / 2\").rename('LST')\n",
    "   temp = day_night_temp.reduceRegion(reducer=ee.Reducer.mean(), geometry=baikal_shape, scale=30, maxPixels=1000000000)\n",
    "   result_dict = temp.getInfo()\n",
    "   if(len(result_dict) == 0):\n",
    "      return None\n",
    "   return temp.getInfo()['LST']"
   ]
  },
  {
   "cell_type": "code",
   "execution_count": null,
   "metadata": {},
   "outputs": [
    {
     "data": {
      "text/html": [
       "\n",
       "            <style>\n",
       "                .geemap-dark {\n",
       "                    --jp-widgets-color: white;\n",
       "                    --jp-widgets-label-color: white;\n",
       "                    --jp-ui-font-color1: white;\n",
       "                    --jp-layout-color2: #454545;\n",
       "                    background-color: #383838;\n",
       "                }\n",
       "\n",
       "                .geemap-dark .jupyter-button {\n",
       "                    --jp-layout-color3: #383838;\n",
       "                }\n",
       "\n",
       "                .geemap-colab {\n",
       "                    background-color: var(--colab-primary-surface-color, white);\n",
       "                }\n",
       "\n",
       "                .geemap-colab .jupyter-button {\n",
       "                    --jp-layout-color3: var(--colab-primary-surface-color, white);\n",
       "                }\n",
       "            </style>\n",
       "            "
      ],
      "text/plain": [
       "<IPython.core.display.HTML object>"
      ]
     },
     "metadata": {},
     "output_type": "display_data"
    },
    {
     "ename": "NameError",
     "evalue": "name 'get_average_lst_modis' is not defined",
     "output_type": "error",
     "traceback": [
      "\u001b[0;31m---------------------------------------------------------------------------\u001b[0m",
      "\u001b[0;31mNameError\u001b[0m                                 Traceback (most recent call last)",
      "Cell \u001b[0;32mIn[14], line 8\u001b[0m\n\u001b[1;32m      5\u001b[0m start_date \u001b[38;5;241m=\u001b[39m ee\u001b[38;5;241m.\u001b[39mDate(\u001b[38;5;124mf\u001b[39m\u001b[38;5;124m\"\u001b[39m\u001b[38;5;132;01m{\u001b[39;00myear\u001b[38;5;132;01m}\u001b[39;00m\u001b[38;5;124m-\u001b[39m\u001b[38;5;132;01m{\u001b[39;00mopenwater_month_start\u001b[38;5;132;01m}\u001b[39;00m\u001b[38;5;124m-1\u001b[39m\u001b[38;5;124m\"\u001b[39m)\n\u001b[1;32m      6\u001b[0m end_date \u001b[38;5;241m=\u001b[39m ee\u001b[38;5;241m.\u001b[39mDate(\u001b[38;5;124mf\u001b[39m\u001b[38;5;124m\"\u001b[39m\u001b[38;5;132;01m{\u001b[39;00myear\u001b[38;5;132;01m}\u001b[39;00m\u001b[38;5;124m-\u001b[39m\u001b[38;5;132;01m{\u001b[39;00mopenwater_month_end\u001b[38;5;132;01m}\u001b[39;00m\u001b[38;5;124m-31\u001b[39m\u001b[38;5;124m\"\u001b[39m)\n\u001b[0;32m----> 8\u001b[0m result_m11 \u001b[38;5;241m=\u001b[39m \u001b[43mget_average_lst_modis\u001b[49m(m11_coll, start_date, end_date)\n\u001b[1;32m      9\u001b[0m \u001b[38;5;66;03m# print(f\"Complete M11 in {start_date} -- {end_date}\")\u001b[39;00m\n\u001b[1;32m     10\u001b[0m result_m21 \u001b[38;5;241m=\u001b[39m get_average_lst_modis(m21_coll, start_date, end_date)\n",
      "\u001b[0;31mNameError\u001b[0m: name 'get_average_lst_modis' is not defined"
     ]
    }
   ],
   "source": [
    "lst_m21 = {}\n",
    "lst_m11 = {}\n",
    "\n",
    "for year in range(modis_start_year, end_year):\n",
    "   start_date = ee.Date(f\"{year}-{openwater_month_start}-1\")\n",
    "   end_date = ee.Date(f\"{year}-{openwater_month_end}-1\")\n",
    "   \n",
    "   result_m11 = get_average_lst_modis(m11_coll, start_date, end_date)\n",
    "   # print(f\"Complete M11 in {start_date} -- {end_date}\")\n",
    "   result_m21 = get_average_lst_modis(m21_coll, start_date, end_date)\n",
    "   # print(f\"Complete M21 in {start_date} -- {end_date}\")\n",
    "   if(result_m11 is not None):\n",
    "      lst_m11[year] = result_m11\n",
    "   if(result_m21 is not None):\n",
    "      lst_m21[year] = result_m21\n",
    "\n",
    "print(lst_m11, lst_m21)"
   ]
  },
  {
   "cell_type": "code",
   "execution_count": 10,
   "metadata": {},
   "outputs": [
    {
     "data": {
      "text/html": [
       "\n",
       "            <style>\n",
       "                .geemap-dark {\n",
       "                    --jp-widgets-color: white;\n",
       "                    --jp-widgets-label-color: white;\n",
       "                    --jp-ui-font-color1: white;\n",
       "                    --jp-layout-color2: #454545;\n",
       "                    background-color: #383838;\n",
       "                }\n",
       "\n",
       "                .geemap-dark .jupyter-button {\n",
       "                    --jp-layout-color3: #383838;\n",
       "                }\n",
       "\n",
       "                .geemap-colab {\n",
       "                    background-color: var(--colab-primary-surface-color, white);\n",
       "                }\n",
       "\n",
       "                .geemap-colab .jupyter-button {\n",
       "                    --jp-layout-color3: var(--colab-primary-surface-color, white);\n",
       "                }\n",
       "            </style>\n",
       "            "
      ],
      "text/plain": [
       "<IPython.core.display.HTML object>"
      ]
     },
     "metadata": {},
     "output_type": "display_data"
    },
    {
     "data": {
      "text/plain": [
       "{2001: 8.518391334434845,\n",
       " 2002: 10.562313431334651,\n",
       " 2003: 7.857616372707389,\n",
       " 2004: 7.395629688897221,\n",
       " 2005: 9.14143065926696,\n",
       " 2006: 7.007350175325124,\n",
       " 2007: 9.94451399113264,\n",
       " 2008: 8.258408651177756,\n",
       " 2009: 8.258186946255545,\n",
       " 2010: 7.098301657039377,\n",
       " 2011: 8.083154459303568,\n",
       " 2012: 9.068294740221727,\n",
       " 2013: 8.22769966377824,\n",
       " 2014: 10.313111054749466,\n",
       " 2015: 10.214666106018871,\n",
       " 2016: 10.278019374073171,\n",
       " 2017: 9.111631967910679,\n",
       " 2018: 9.083092106624825,\n",
       " 2019: 9.750912104506595,\n",
       " 2020: 10.673629396456128,\n",
       " 2021: 8.178589646995642,\n",
       " 2022: 8.422860681650373,\n",
       " 2023: 10.092309299156067,\n",
       " 2024: 9.718802938390988}"
      ]
     },
     "execution_count": 10,
     "metadata": {},
     "output_type": "execute_result"
    }
   ],
   "source": [
    "lst_m11"
   ]
  },
  {
   "cell_type": "code",
   "execution_count": 11,
   "metadata": {},
   "outputs": [
    {
     "data": {
      "text/html": [
       "\n",
       "            <style>\n",
       "                .geemap-dark {\n",
       "                    --jp-widgets-color: white;\n",
       "                    --jp-widgets-label-color: white;\n",
       "                    --jp-ui-font-color1: white;\n",
       "                    --jp-layout-color2: #454545;\n",
       "                    background-color: #383838;\n",
       "                }\n",
       "\n",
       "                .geemap-dark .jupyter-button {\n",
       "                    --jp-layout-color3: #383838;\n",
       "                }\n",
       "\n",
       "                .geemap-colab {\n",
       "                    background-color: var(--colab-primary-surface-color, white);\n",
       "                }\n",
       "\n",
       "                .geemap-colab .jupyter-button {\n",
       "                    --jp-layout-color3: var(--colab-primary-surface-color, white);\n",
       "                }\n",
       "            </style>\n",
       "            "
      ],
      "text/plain": [
       "<IPython.core.display.HTML object>"
      ]
     },
     "metadata": {},
     "output_type": "display_data"
    },
    {
     "data": {
      "text/plain": [
       "{2001: 6.523447096502005,\n",
       " 2002: 11.087026927344537,\n",
       " 2003: 8.227190985636412,\n",
       " 2004: 7.918499190633716,\n",
       " 2005: 9.834607190557838,\n",
       " 2006: 7.375761008911375,\n",
       " 2007: 10.603713281690437,\n",
       " 2008: 8.734014051703918,\n",
       " 2009: 8.932528225671893,\n",
       " 2010: 7.71452877253441,\n",
       " 2011: 8.775993993759588,\n",
       " 2012: 9.776709236956195,\n",
       " 2013: 8.83295322142326,\n",
       " 2014: 10.90875064506874,\n",
       " 2015: 11.124346848601931,\n",
       " 2016: 11.072499313254557,\n",
       " 2017: 9.697003172751204,\n",
       " 2018: 9.721762029880114,\n",
       " 2019: 10.577461115660952,\n",
       " 2020: 11.42118506104802,\n",
       " 2021: 8.943680470222272,\n",
       " 2022: 9.072915370205486,\n",
       " 2023: 11.284890175973027,\n",
       " 2024: 10.757315581774394}"
      ]
     },
     "execution_count": 11,
     "metadata": {},
     "output_type": "execute_result"
    }
   ],
   "source": [
    "lst_m21"
   ]
  },
  {
   "cell_type": "code",
   "execution_count": null,
   "metadata": {},
   "outputs": [
    {
     "data": {
      "text/html": [
       "\n",
       "            <style>\n",
       "                .geemap-dark {\n",
       "                    --jp-widgets-color: white;\n",
       "                    --jp-widgets-label-color: white;\n",
       "                    --jp-ui-font-color1: white;\n",
       "                    --jp-layout-color2: #454545;\n",
       "                    background-color: #383838;\n",
       "                }\n",
       "\n",
       "                .geemap-dark .jupyter-button {\n",
       "                    --jp-layout-color3: #383838;\n",
       "                }\n",
       "\n",
       "                .geemap-colab {\n",
       "                    background-color: var(--colab-primary-surface-color, white);\n",
       "                }\n",
       "\n",
       "                .geemap-colab .jupyter-button {\n",
       "                    --jp-layout-color3: var(--colab-primary-surface-color, white);\n",
       "                }\n",
       "            </style>\n",
       "            "
      ],
      "text/plain": [
       "<IPython.core.display.HTML object>"
      ]
     },
     "metadata": {},
     "output_type": "display_data"
    }
   ],
   "source": [
    "lst_m11_s = {2001: 8.518391334434845,\n",
    " 2002: 10.562313431334651,\n",
    " 2003: 7.857616372707389,\n",
    " 2004: 7.395629688897221,\n",
    " 2005: 9.14143065926696,\n",
    " 2006: 7.007350175325124,\n",
    " 2007: 9.94451399113264,\n",
    " 2008: 8.258408651177756,\n",
    " 2009: 8.258186946255545,\n",
    " 2010: 7.098301657039377,\n",
    " 2011: 8.083154459303568,\n",
    " 2012: 9.068294740221727,\n",
    " 2013: 8.22769966377824,\n",
    " 2014: 10.313111054749466,\n",
    " 2015: 10.214666106018871,\n",
    " 2016: 10.278019374073171,\n",
    " 2017: 9.111631967910679,\n",
    " 2018: 9.083092106624825,\n",
    " 2019: 9.750912104506595,\n",
    " 2020: 10.673629396456128,\n",
    " 2021: 8.178589646995642,\n",
    " 2022: 8.422860681650373,\n",
    " 2023: 10.092309299156067,\n",
    " 2024: 9.718802938390988}\n",
    "\n",
    "lst_m21_s = {2001: 6.523447096502005,\n",
    " 2002: 11.087026927344537,\n",
    " 2003: 8.227190985636412,\n",
    " 2004: 7.918499190633716,\n",
    " 2005: 9.834607190557838,\n",
    " 2006: 7.375761008911375,\n",
    " 2007: 10.603713281690437,\n",
    " 2008: 8.734014051703918,\n",
    " 2009: 8.932528225671893,\n",
    " 2010: 7.71452877253441,\n",
    " 2011: 8.775993993759588,\n",
    " 2012: 9.776709236956195,\n",
    " 2013: 8.83295322142326,\n",
    " 2014: 10.90875064506874,\n",
    " 2015: 11.124346848601931,\n",
    " 2016: 11.072499313254557,\n",
    " 2017: 9.697003172751204,\n",
    " 2018: 9.721762029880114,\n",
    " 2019: 10.577461115660952,\n",
    " 2020: 11.42118506104802,\n",
    " 2021: 8.943680470222272,\n",
    " 2022: 9.072915370205486,\n",
    " 2023: 11.284890175973027,\n",
    " 2024: 10.757315581774394}"
   ]
  },
  {
   "cell_type": "markdown",
   "metadata": {},
   "source": [
    "# ERA5"
   ]
  },
  {
   "cell_type": "code",
   "execution_count": 15,
   "metadata": {},
   "outputs": [
    {
     "data": {
      "text/html": [
       "\n",
       "            <style>\n",
       "                .geemap-dark {\n",
       "                    --jp-widgets-color: white;\n",
       "                    --jp-widgets-label-color: white;\n",
       "                    --jp-ui-font-color1: white;\n",
       "                    --jp-layout-color2: #454545;\n",
       "                    background-color: #383838;\n",
       "                }\n",
       "\n",
       "                .geemap-dark .jupyter-button {\n",
       "                    --jp-layout-color3: #383838;\n",
       "                }\n",
       "\n",
       "                .geemap-colab {\n",
       "                    background-color: var(--colab-primary-surface-color, white);\n",
       "                }\n",
       "\n",
       "                .geemap-colab .jupyter-button {\n",
       "                    --jp-layout-color3: var(--colab-primary-surface-color, white);\n",
       "                }\n",
       "            </style>\n",
       "            "
      ],
      "text/plain": [
       "<IPython.core.display.HTML object>"
      ]
     },
     "metadata": {},
     "output_type": "display_data"
    }
   ],
   "source": [
    "def ERA5_scale_to_celsius(era5_image: ee.Image):\n",
    "   scaled_lsts = era5_image.select([\"mean_2m_air_temperature\"]).subtract(273.15).rename([\"LST\"])\n",
    "   return era5_image.addBands(srcImg=scaled_lsts, overwrite=True)\n",
    "\n",
    "era5_coll = ee.ImageCollection(\"ECMWF/ERA5/MONTHLY\").map(lambda img: ERA5_scale_to_celsius(img))"
   ]
  },
  {
   "cell_type": "code",
   "execution_count": 16,
   "metadata": {},
   "outputs": [
    {
     "data": {
      "text/html": [
       "\n",
       "            <style>\n",
       "                .geemap-dark {\n",
       "                    --jp-widgets-color: white;\n",
       "                    --jp-widgets-label-color: white;\n",
       "                    --jp-ui-font-color1: white;\n",
       "                    --jp-layout-color2: #454545;\n",
       "                    background-color: #383838;\n",
       "                }\n",
       "\n",
       "                .geemap-dark .jupyter-button {\n",
       "                    --jp-layout-color3: #383838;\n",
       "                }\n",
       "\n",
       "                .geemap-colab {\n",
       "                    background-color: var(--colab-primary-surface-color, white);\n",
       "                }\n",
       "\n",
       "                .geemap-colab .jupyter-button {\n",
       "                    --jp-layout-color3: var(--colab-primary-surface-color, white);\n",
       "                }\n",
       "            </style>\n",
       "            "
      ],
      "text/plain": [
       "<IPython.core.display.HTML object>"
      ]
     },
     "metadata": {},
     "output_type": "display_data"
    }
   ],
   "source": [
    "def get_average_lst_era5(era5_coll: ee.ImageCollection, start_time, end_time):\n",
    "   if(era5_coll.size() == 0):\n",
    "      return None\n",
    "   mean_temp = era5_coll.filterDate(start_time, end_time).mean()\n",
    "   temp = mean_temp.reduceRegion(reducer=ee.Reducer.mean(), geometry=baikal_shape, scale=30, maxPixels=1000000000)\n",
    "   result_dict = temp.getInfo()\n",
    "   if(len(result_dict) == 0):\n",
    "      return None\n",
    "   return temp.getInfo()['LST']"
   ]
  },
  {
   "cell_type": "code",
   "execution_count": 17,
   "metadata": {},
   "outputs": [
    {
     "data": {
      "text/html": [
       "\n",
       "            <style>\n",
       "                .geemap-dark {\n",
       "                    --jp-widgets-color: white;\n",
       "                    --jp-widgets-label-color: white;\n",
       "                    --jp-ui-font-color1: white;\n",
       "                    --jp-layout-color2: #454545;\n",
       "                    background-color: #383838;\n",
       "                }\n",
       "\n",
       "                .geemap-dark .jupyter-button {\n",
       "                    --jp-layout-color3: #383838;\n",
       "                }\n",
       "\n",
       "                .geemap-colab {\n",
       "                    background-color: var(--colab-primary-surface-color, white);\n",
       "                }\n",
       "\n",
       "                .geemap-colab .jupyter-button {\n",
       "                    --jp-layout-color3: var(--colab-primary-surface-color, white);\n",
       "                }\n",
       "            </style>\n",
       "            "
      ],
      "text/plain": [
       "<IPython.core.display.HTML object>"
      ]
     },
     "metadata": {},
     "output_type": "display_data"
    },
    {
     "data": {
      "text/plain": [
       "{1996: 9.450155880882175,\n",
       " 1997: 10.306804804710536,\n",
       " 1998: 10.124025263851733,\n",
       " 1999: 9.953970489104826,\n",
       " 2000: 10.897080923980255,\n",
       " 2001: 11.237577393579986,\n",
       " 2002: 11.02499017361202,\n",
       " 2003: 10.489261758126426,\n",
       " 2004: 10.945637833437745,\n",
       " 2005: 11.244417451457139,\n",
       " 2006: 10.083577737021876,\n",
       " 2007: 11.765040295289413,\n",
       " 2008: 11.061690752218151,\n",
       " 2009: 10.35989784117505,\n",
       " 2010: 10.440376515999297,\n",
       " 2011: 11.403798160090886,\n",
       " 2012: 10.77953644155891,\n",
       " 2013: 9.971784275350128,\n",
       " 2014: 11.108825121667898,\n",
       " 2015: 12.168882374570854,\n",
       " 2016: 11.078814723490853,\n",
       " 2017: 10.931184669283283,\n",
       " 2018: 11.564613195835445,\n",
       " 2019: 11.313782876770295,\n",
       " 2020: 10.744542470002987}"
      ]
     },
     "execution_count": 17,
     "metadata": {},
     "output_type": "execute_result"
    }
   ],
   "source": [
    "lst_era5 = {}\n",
    "\n",
    "for year in range(landsat_start_year, end_year):\n",
    "   start_date = ee.Date(f\"{year}-{openwater_month_start}-1\")\n",
    "   end_date = ee.Date(f\"{year}-{openwater_month_end}-1\")\n",
    "   \n",
    "   result = get_average_lst_era5(era5_coll, start_date, end_date)\n",
    "   if(result is not None):\n",
    "      lst_era5[year] = result\n",
    "      \n",
    "lst_era5"
   ]
  },
  {
   "cell_type": "code",
   "execution_count": null,
   "metadata": {},
   "outputs": [],
   "source": [
    "lst_era5_s = { 1996: 9.450155880882175,\n",
    " 1997: 10.306804804710536,\n",
    " 1998: 10.124025263851733,\n",
    " 1999: 9.953970489104826,\n",
    " 2000: 10.897080923980255,\n",
    " 2001: 11.237577393579986,\n",
    " 2002: 11.02499017361202,\n",
    " 2003: 10.489261758126426,\n",
    " 2004: 10.945637833437745,\n",
    " 2005: 11.244417451457139,\n",
    " 2006: 10.083577737021876,\n",
    " 2007: 11.765040295289413,\n",
    " 2008: 11.061690752218151,\n",
    " 2009: 10.35989784117505,\n",
    " 2010: 10.440376515999297,\n",
    " 2011: 11.403798160090886,\n",
    " 2012: 10.77953644155891,\n",
    " 2013: 9.971784275350128,\n",
    " 2014: 11.108825121667898,\n",
    " 2015: 12.168882374570854,\n",
    " 2016: 11.078814723490853,\n",
    " 2017: 10.931184669283283,\n",
    " 2018: 11.564613195835445,\n",
    " 2019: 11.313782876770295,\n",
    " 2020: 10.744542470002987 }"
   ]
  }
 ],
 "metadata": {
  "kernelspec": {
   "display_name": "Python 3",
   "language": "python",
   "name": "python3"
  },
  "language_info": {
   "codemirror_mode": {
    "name": "ipython",
    "version": 3
   },
   "file_extension": ".py",
   "mimetype": "text/x-python",
   "name": "python",
   "nbconvert_exporter": "python",
   "pygments_lexer": "ipython3",
   "version": "3.13.2"
  }
 },
 "nbformat": 4,
 "nbformat_minor": 2
}

{
 "cells": [
  {
   "cell_type": "code",
   "execution_count": 2,
   "id": "8dee7d40",
   "metadata": {},
   "outputs": [],
   "source": [
    "import ee\n",
    "import geemap\n",
    "from datetime import datetime"
   ]
  },
  {
   "cell_type": "code",
   "execution_count": 3,
   "id": "9a6cac27",
   "metadata": {},
   "outputs": [
    {
     "data": {
      "text/html": [
       "\n",
       "            <style>\n",
       "                .geemap-dark {\n",
       "                    --jp-widgets-color: white;\n",
       "                    --jp-widgets-label-color: white;\n",
       "                    --jp-ui-font-color1: white;\n",
       "                    --jp-layout-color2: #454545;\n",
       "                    background-color: #383838;\n",
       "                }\n",
       "\n",
       "                .geemap-dark .jupyter-button {\n",
       "                    --jp-layout-color3: #383838;\n",
       "                }\n",
       "\n",
       "                .geemap-colab {\n",
       "                    background-color: var(--colab-primary-surface-color, white);\n",
       "                }\n",
       "\n",
       "                .geemap-colab .jupyter-button {\n",
       "                    --jp-layout-color3: var(--colab-primary-surface-color, white);\n",
       "                }\n",
       "            </style>\n",
       "            "
      ],
      "text/plain": [
       "<IPython.core.display.HTML object>"
      ]
     },
     "metadata": {},
     "output_type": "display_data"
    },
    {
     "name": "stderr",
     "output_type": "stream",
     "text": [
      "(node:33802) [DEP0040] DeprecationWarning: The `punycode` module is deprecated. Please use a userland alternative instead.\n",
      "(Use `node --trace-deprecation ...` to show where the warning was created)\n"
     ]
    },
    {
     "name": "stdout",
     "output_type": "stream",
     "text": [
      "!!!!! On 11-07-2022 this code has been updated to run with landsat collection 2 data !!!!!\n",
      "!!!!! On 11-07-2022 this code has been updated to run with landsat collection 2 data !!!!!\n",
      "!!!!! On 11-07-2022 this code has been updated to run with landsat collection 2 data !!!!!\n",
      "!!!!! On 11-07-2022 this code has been updated to run with landsat collection 2 data !!!!!\n"
     ]
    }
   ],
   "source": [
    "geemap.ee_initialize()\n",
    "oeel = geemap.requireJS()\n",
    "ee.Authenticate()\n",
    "ee.Initialize(project='ee-amazyar-test1')\n",
    "\n",
    "start_date = ee.Date(\"1990-03-16\") # с 1990 тепловая информация Landsat-5 без колебаний\n",
    "end_date = ee.Date(datetime.now())\n",
    "openwater_month_start = 6 # июнь\n",
    "openwater_month_end = 10 # октябрь\n",
    "\n",
    "baikal_shape = ee.FeatureCollection('projects/ee-amazyar-test/assets/baikal')"
   ]
  },
  {
   "cell_type": "code",
   "execution_count": 4,
   "id": "2e458f5f",
   "metadata": {},
   "outputs": [
    {
     "data": {
      "text/html": [
       "\n",
       "            <style>\n",
       "                .geemap-dark {\n",
       "                    --jp-widgets-color: white;\n",
       "                    --jp-widgets-label-color: white;\n",
       "                    --jp-ui-font-color1: white;\n",
       "                    --jp-layout-color2: #454545;\n",
       "                    background-color: #383838;\n",
       "                }\n",
       "\n",
       "                .geemap-dark .jupyter-button {\n",
       "                    --jp-layout-color3: #383838;\n",
       "                }\n",
       "\n",
       "                .geemap-colab {\n",
       "                    background-color: var(--colab-primary-surface-color, white);\n",
       "                }\n",
       "\n",
       "                .geemap-colab .jupyter-button {\n",
       "                    --jp-layout-color3: var(--colab-primary-surface-color, white);\n",
       "                }\n",
       "            </style>\n",
       "            "
      ],
      "text/plain": [
       "<IPython.core.display.HTML object>"
      ]
     },
     "metadata": {},
     "output_type": "display_data"
    }
   ],
   "source": [
    "x_min = 103.59119823586846\n",
    "y_min = 51.317386807273074\n",
    "x_max = 109.85340526711846\n",
    "y_max = 55.789384409348855\n",
    "\n",
    "baikal_rect = ee.Geometry.Rectangle([\n",
    "   [x_min, y_min],\n",
    "   [x_max, y_max]\n",
    "   ])"
   ]
  },
  {
   "cell_type": "code",
   "execution_count": 5,
   "id": "a32a46f1",
   "metadata": {},
   "outputs": [
    {
     "data": {
      "text/html": [
       "\n",
       "            <style>\n",
       "                .geemap-dark {\n",
       "                    --jp-widgets-color: white;\n",
       "                    --jp-widgets-label-color: white;\n",
       "                    --jp-ui-font-color1: white;\n",
       "                    --jp-layout-color2: #454545;\n",
       "                    background-color: #383838;\n",
       "                }\n",
       "\n",
       "                .geemap-dark .jupyter-button {\n",
       "                    --jp-layout-color3: #383838;\n",
       "                }\n",
       "\n",
       "                .geemap-colab {\n",
       "                    background-color: var(--colab-primary-surface-color, white);\n",
       "                }\n",
       "\n",
       "                .geemap-colab .jupyter-button {\n",
       "                    --jp-layout-color3: var(--colab-primary-surface-color, white);\n",
       "                }\n",
       "            </style>\n",
       "            "
      ],
      "text/plain": [
       "<IPython.core.display.HTML object>"
      ]
     },
     "metadata": {},
     "output_type": "display_data"
    }
   ],
   "source": [
    "LandsatLST = geemap.requireJS(\"../baikal_vkr_init/Landsat_LST.js\")"
   ]
  },
  {
   "cell_type": "code",
   "execution_count": 6,
   "id": "a924f45b",
   "metadata": {},
   "outputs": [
    {
     "data": {
      "text/html": [
       "\n",
       "            <style>\n",
       "                .geemap-dark {\n",
       "                    --jp-widgets-color: white;\n",
       "                    --jp-widgets-label-color: white;\n",
       "                    --jp-ui-font-color1: white;\n",
       "                    --jp-layout-color2: #454545;\n",
       "                    background-color: #383838;\n",
       "                }\n",
       "\n",
       "                .geemap-dark .jupyter-button {\n",
       "                    --jp-layout-color3: #383838;\n",
       "                }\n",
       "\n",
       "                .geemap-colab {\n",
       "                    background-color: var(--colab-primary-surface-color, white);\n",
       "                }\n",
       "\n",
       "                .geemap-colab .jupyter-button {\n",
       "                    --jp-layout-color3: var(--colab-primary-surface-color, white);\n",
       "                }\n",
       "            </style>\n",
       "            "
      ],
      "text/plain": [
       "<IPython.core.display.HTML object>"
      ]
     },
     "metadata": {},
     "output_type": "display_data"
    }
   ],
   "source": [
    "use_ndvi = True\n",
    "\n",
    "def get_landsat_collection(satellite_name: str):\n",
    "   coll = LandsatLST.collection(satellite_name, start_date, end_date, baikal_rect, use_ndvi)#.filter(ee.Filter.lt('CLOUD_COVER', 30))\n",
    "   return coll.select('LST')"
   ]
  },
  {
   "cell_type": "code",
   "execution_count": 7,
   "id": "dbe9de93",
   "metadata": {},
   "outputs": [
    {
     "data": {
      "text/html": [
       "\n",
       "            <style>\n",
       "                .geemap-dark {\n",
       "                    --jp-widgets-color: white;\n",
       "                    --jp-widgets-label-color: white;\n",
       "                    --jp-ui-font-color1: white;\n",
       "                    --jp-layout-color2: #454545;\n",
       "                    background-color: #383838;\n",
       "                }\n",
       "\n",
       "                .geemap-dark .jupyter-button {\n",
       "                    --jp-layout-color3: #383838;\n",
       "                }\n",
       "\n",
       "                .geemap-colab {\n",
       "                    background-color: var(--colab-primary-surface-color, white);\n",
       "                }\n",
       "\n",
       "                .geemap-colab .jupyter-button {\n",
       "                    --jp-layout-color3: var(--colab-primary-surface-color, white);\n",
       "                }\n",
       "            </style>\n",
       "            "
      ],
      "text/plain": [
       "<IPython.core.display.HTML object>"
      ]
     },
     "metadata": {},
     "output_type": "display_data"
    }
   ],
   "source": [
    "landsat = ee.ImageCollection.merge(get_landsat_collection('L8'),get_landsat_collection('L9'))\n",
    "landsat = ee.ImageCollection.merge(landsat,get_landsat_collection('L7'))\n",
    "landsat = ee.ImageCollection.merge(landsat,get_landsat_collection('L5'))"
   ]
  },
  {
   "cell_type": "markdown",
   "id": "179295c8",
   "metadata": {},
   "source": [
    "Отображение LST в RGB"
   ]
  },
  {
   "cell_type": "code",
   "execution_count": 8,
   "id": "8de79c93",
   "metadata": {},
   "outputs": [
    {
     "data": {
      "text/html": [
       "\n",
       "            <style>\n",
       "                .geemap-dark {\n",
       "                    --jp-widgets-color: white;\n",
       "                    --jp-widgets-label-color: white;\n",
       "                    --jp-ui-font-color1: white;\n",
       "                    --jp-layout-color2: #454545;\n",
       "                    background-color: #383838;\n",
       "                }\n",
       "\n",
       "                .geemap-dark .jupyter-button {\n",
       "                    --jp-layout-color3: #383838;\n",
       "                }\n",
       "\n",
       "                .geemap-colab {\n",
       "                    background-color: var(--colab-primary-surface-color, white);\n",
       "                }\n",
       "\n",
       "                .geemap-colab .jupyter-button {\n",
       "                    --jp-layout-color3: var(--colab-primary-surface-color, white);\n",
       "                }\n",
       "            </style>\n",
       "            "
      ],
      "text/plain": [
       "<IPython.core.display.HTML object>"
      ]
     },
     "metadata": {},
     "output_type": "display_data"
    },
    {
     "data": {
      "text/plain": [
       "{'type': 'Projection',\n",
       " 'crs': 'EPSG:32649',\n",
       " 'transform': [30, 0, 420285, 0, -30, 6310515]}"
      ]
     },
     "execution_count": 8,
     "metadata": {},
     "output_type": "execute_result"
    }
   ],
   "source": [
    "projection = landsat.first().select('LST').projection().getInfo()\n",
    "projection"
   ]
  },
  {
   "cell_type": "markdown",
   "id": "ace1fc80",
   "metadata": {},
   "source": [
    "Должно определять минимальную и максимальную температуру, но не работает: выдаёт выбросы (-68.1567823259467 74.04202518385841)"
   ]
  },
  {
   "cell_type": "code",
   "execution_count": 10,
   "id": "936128c1",
   "metadata": {},
   "outputs": [
    {
     "data": {
      "text/html": [
       "\n",
       "            <style>\n",
       "                .geemap-dark {\n",
       "                    --jp-widgets-color: white;\n",
       "                    --jp-widgets-label-color: white;\n",
       "                    --jp-ui-font-color1: white;\n",
       "                    --jp-layout-color2: #454545;\n",
       "                    background-color: #383838;\n",
       "                }\n",
       "\n",
       "                .geemap-dark .jupyter-button {\n",
       "                    --jp-layout-color3: #383838;\n",
       "                }\n",
       "\n",
       "                .geemap-colab {\n",
       "                    background-color: var(--colab-primary-surface-color, white);\n",
       "                }\n",
       "\n",
       "                .geemap-colab .jupyter-button {\n",
       "                    --jp-layout-color3: var(--colab-primary-surface-color, white);\n",
       "                }\n",
       "            </style>\n",
       "            "
      ],
      "text/plain": [
       "<IPython.core.display.HTML object>"
      ]
     },
     "metadata": {},
     "output_type": "display_data"
    }
   ],
   "source": [
    "min_landsat = landsat.min()\n",
    "max_landsat = landsat.max()"
   ]
  },
  {
   "cell_type": "code",
   "execution_count": 15,
   "id": "736ad44c",
   "metadata": {},
   "outputs": [
    {
     "data": {
      "text/html": [
       "\n",
       "            <style>\n",
       "                .geemap-dark {\n",
       "                    --jp-widgets-color: white;\n",
       "                    --jp-widgets-label-color: white;\n",
       "                    --jp-ui-font-color1: white;\n",
       "                    --jp-layout-color2: #454545;\n",
       "                    background-color: #383838;\n",
       "                }\n",
       "\n",
       "                .geemap-dark .jupyter-button {\n",
       "                    --jp-layout-color3: #383838;\n",
       "                }\n",
       "\n",
       "                .geemap-colab {\n",
       "                    background-color: var(--colab-primary-surface-color, white);\n",
       "                }\n",
       "\n",
       "                .geemap-colab .jupyter-button {\n",
       "                    --jp-layout-color3: var(--colab-primary-surface-color, white);\n",
       "                }\n",
       "            </style>\n",
       "            "
      ],
      "text/plain": [
       "<IPython.core.display.HTML object>"
      ]
     },
     "metadata": {},
     "output_type": "display_data"
    },
    {
     "name": "stdout",
     "output_type": "stream",
     "text": [
      "-68.1567823259467 74.04202518385841\n"
     ]
    }
   ],
   "source": [
    "some_point_in_baikal_center = ee.Geometry.Point([108.29910984265435,53.62839159543701])\n",
    "\n",
    "min_lst = min_landsat.reduceRegion(\n",
    "   reducer=ee.Reducer.min(),\n",
    "   geometry=some_point_in_baikal_center,\n",
    "   crs=projection['crs'],\n",
    "   crsTransform=projection['transform']\n",
    ").getInfo()['LST']\n",
    "\n",
    "max_lst = max_landsat.reduceRegion(\n",
    "   reducer=ee.Reducer.max(),\n",
    "   geometry=some_point_in_baikal_center,\n",
    "   crs=projection['crs'],\n",
    "   crsTransform=projection['transform']\n",
    ").getInfo()['LST']\n",
    "\n",
    "print(min_lst, max_lst)"
   ]
  },
  {
   "cell_type": "code",
   "execution_count": 9,
   "id": "e3b3f1f7",
   "metadata": {},
   "outputs": [
    {
     "data": {
      "text/html": [
       "\n",
       "            <style>\n",
       "                .geemap-dark {\n",
       "                    --jp-widgets-color: white;\n",
       "                    --jp-widgets-label-color: white;\n",
       "                    --jp-ui-font-color1: white;\n",
       "                    --jp-layout-color2: #454545;\n",
       "                    background-color: #383838;\n",
       "                }\n",
       "\n",
       "                .geemap-dark .jupyter-button {\n",
       "                    --jp-layout-color3: #383838;\n",
       "                }\n",
       "\n",
       "                .geemap-colab {\n",
       "                    background-color: var(--colab-primary-surface-color, white);\n",
       "                }\n",
       "\n",
       "                .geemap-colab .jupyter-button {\n",
       "                    --jp-layout-color3: var(--colab-primary-surface-color, white);\n",
       "                }\n",
       "            </style>\n",
       "            "
      ],
      "text/plain": [
       "<IPython.core.display.HTML object>"
      ]
     },
     "metadata": {},
     "output_type": "display_data"
    }
   ],
   "source": [
    "cmap = ['blue', 'cyan', 'green', 'yellow', 'red'];\n",
    "min_lst = 0\n",
    "max_lst = 23 # источник - википедия\n",
    "\n",
    "def lst_to_rgb(image: ee.Image):\n",
    "   return image.visualize(\n",
    "      bands=['LST'],\n",
    "      min=min_lst,\n",
    "      max=max_lst,\n",
    "      palette=cmap,\n",
    "      forceRgbOutput=True\n",
    "      )\n",
    "\n",
    "landsat_rgb = landsat.map(lst_to_rgb)"
   ]
  },
  {
   "cell_type": "code",
   "execution_count": 8,
   "id": "242d1429",
   "metadata": {},
   "outputs": [
    {
     "data": {
      "text/html": [
       "\n",
       "            <style>\n",
       "                .geemap-dark {\n",
       "                    --jp-widgets-color: white;\n",
       "                    --jp-widgets-label-color: white;\n",
       "                    --jp-ui-font-color1: white;\n",
       "                    --jp-layout-color2: #454545;\n",
       "                    background-color: #383838;\n",
       "                }\n",
       "\n",
       "                .geemap-dark .jupyter-button {\n",
       "                    --jp-layout-color3: #383838;\n",
       "                }\n",
       "\n",
       "                .geemap-colab {\n",
       "                    background-color: var(--colab-primary-surface-color, white);\n",
       "                }\n",
       "\n",
       "                .geemap-colab .jupyter-button {\n",
       "                    --jp-layout-color3: var(--colab-primary-surface-color, white);\n",
       "                }\n",
       "            </style>\n",
       "            "
      ],
      "text/plain": [
       "<IPython.core.display.HTML object>"
      ]
     },
     "metadata": {},
     "output_type": "display_data"
    },
    {
     "data": {
      "text/plain": [
       "{'type': 'Image',\n",
       " 'bands': [{'id': 'vis-red',\n",
       "   'data_type': {'type': 'PixelType',\n",
       "    'precision': 'int',\n",
       "    'min': 0,\n",
       "    'max': 255},\n",
       "   'dimensions': [7711, 7641],\n",
       "   'crs': 'EPSG:32649',\n",
       "   'crs_transform': [30, 0, 420285, 0, -30, 6310515]},\n",
       "  {'id': 'vis-green',\n",
       "   'data_type': {'type': 'PixelType',\n",
       "    'precision': 'int',\n",
       "    'min': 0,\n",
       "    'max': 255},\n",
       "   'dimensions': [7711, 7641],\n",
       "   'crs': 'EPSG:32649',\n",
       "   'crs_transform': [30, 0, 420285, 0, -30, 6310515]},\n",
       "  {'id': 'vis-blue',\n",
       "   'data_type': {'type': 'PixelType',\n",
       "    'precision': 'int',\n",
       "    'min': 0,\n",
       "    'max': 255},\n",
       "   'dimensions': [7711, 7641],\n",
       "   'crs': 'EPSG:32649',\n",
       "   'crs_transform': [30, 0, 420285, 0, -30, 6310515]}],\n",
       " 'properties': {'system:annotations': None,\n",
       "  'system:footprint': {'type': 'LinearRing',\n",
       "   'coordinates': [[112.44079191616753, 54.888964176734376],\n",
       "    [112.49285242867761, 54.8793527519868],\n",
       "    [112.57107732932197, 55.019394331736045],\n",
       "    [112.63056590402482, 55.12563928532152],\n",
       "    [112.94135236011716, 55.67166771131102],\n",
       "    [112.97105036138088, 55.723115546481765],\n",
       "    [113.31031014704304, 56.303223549615296],\n",
       "    [113.39701216801873, 56.45103124733646],\n",
       "    [113.39804550896889, 56.45345035096685],\n",
       "    [113.32572425081881, 56.46663778252898],\n",
       "    [111.03154299326417, 56.858485816137275],\n",
       "    [110.5734045921404, 56.930763745624986],\n",
       "    [110.55928129012574, 56.932917078710034],\n",
       "    [110.55737019127005, 56.93291037894855],\n",
       "    [110.55229920519336, 56.92392680455488],\n",
       "    [109.75982263372617, 55.348898011777],\n",
       "    [109.76078439654545, 55.34836920352086],\n",
       "    [110.43457412685079, 55.2393848907684],\n",
       "    [112.44079191616753, 54.888964176734376]]},\n",
       "  'system:index': '1_1_1_LC08_130021_20130401'}}"
      ]
     },
     "execution_count": 8,
     "metadata": {},
     "output_type": "execute_result"
    }
   ],
   "source": [
    "rgbed_info = landsat_rgb.first().getInfo()\n",
    "rgbed_info"
   ]
  },
  {
   "cell_type": "code",
   "execution_count": 13,
   "id": "4c124a94",
   "metadata": {},
   "outputs": [
    {
     "data": {
      "text/html": [
       "\n",
       "            <style>\n",
       "                .geemap-dark {\n",
       "                    --jp-widgets-color: white;\n",
       "                    --jp-widgets-label-color: white;\n",
       "                    --jp-ui-font-color1: white;\n",
       "                    --jp-layout-color2: #454545;\n",
       "                    background-color: #383838;\n",
       "                }\n",
       "\n",
       "                .geemap-dark .jupyter-button {\n",
       "                    --jp-layout-color3: #383838;\n",
       "                }\n",
       "\n",
       "                .geemap-colab {\n",
       "                    background-color: var(--colab-primary-surface-color, white);\n",
       "                }\n",
       "\n",
       "                .geemap-colab .jupyter-button {\n",
       "                    --jp-layout-color3: var(--colab-primary-surface-color, white);\n",
       "                }\n",
       "            </style>\n",
       "            "
      ],
      "text/plain": [
       "<IPython.core.display.HTML object>"
      ]
     },
     "metadata": {},
     "output_type": "display_data"
    }
   ],
   "source": [
    "task = ee.batch.Export.video.toDrive(\n",
    "   collection=landsat_rgb,\n",
    "   folder=\"VKR\",\n",
    "   fileNamePrefix=\"TemperatureVideo\",\n",
    "   framesPerSecond=100,\n",
    "   region=baikal_rect,\n",
    "   dimensions=720,\n",
    "   maxFrames=landsat_rgb.size().getInfo(),\n",
    "   maxPixels=100000000000,\n",
    "   crs=projection['crs'],\n",
    "   crsTransform=projection['transform'],\n",
    ")\n",
    "task.start()"
   ]
  },
  {
   "cell_type": "code",
   "execution_count": 27,
   "id": "82472e5d",
   "metadata": {},
   "outputs": [
    {
     "data": {
      "text/html": [
       "\n",
       "            <style>\n",
       "                .geemap-dark {\n",
       "                    --jp-widgets-color: white;\n",
       "                    --jp-widgets-label-color: white;\n",
       "                    --jp-ui-font-color1: white;\n",
       "                    --jp-layout-color2: #454545;\n",
       "                    background-color: #383838;\n",
       "                }\n",
       "\n",
       "                .geemap-dark .jupyter-button {\n",
       "                    --jp-layout-color3: #383838;\n",
       "                }\n",
       "\n",
       "                .geemap-colab {\n",
       "                    background-color: var(--colab-primary-surface-color, white);\n",
       "                }\n",
       "\n",
       "                .geemap-colab .jupyter-button {\n",
       "                    --jp-layout-color3: var(--colab-primary-surface-color, white);\n",
       "                }\n",
       "            </style>\n",
       "            "
      ],
      "text/plain": [
       "<IPython.core.display.HTML object>"
      ]
     },
     "metadata": {},
     "output_type": "display_data"
    }
   ],
   "source": [
    "Map = geemap.Map()\n",
    "\n",
    "landsat_LST_vis = {\n",
    "   'min': 0,\n",
    "   'max': 23,\n",
    "   'bands': ['LST'],\n",
    "   'palette': cmap\n",
    "}\n",
    "\n",
    "landsat_rgb_LST_vis = {\n",
    "   'min': 0,\n",
    "   'max': 23,\n",
    "   'bands': ['vis-red', 'vis-green', 'vis-blue']\n",
    "}"
   ]
  },
  {
   "cell_type": "code",
   "execution_count": null,
   "id": "5c6d71ff",
   "metadata": {},
   "outputs": [
    {
     "data": {
      "text/html": [
       "\n",
       "            <style>\n",
       "                .geemap-dark {\n",
       "                    --jp-widgets-color: white;\n",
       "                    --jp-widgets-label-color: white;\n",
       "                    --jp-ui-font-color1: white;\n",
       "                    --jp-layout-color2: #454545;\n",
       "                    background-color: #383838;\n",
       "                }\n",
       "\n",
       "                .geemap-dark .jupyter-button {\n",
       "                    --jp-layout-color3: #383838;\n",
       "                }\n",
       "\n",
       "                .geemap-colab {\n",
       "                    background-color: var(--colab-primary-surface-color, white);\n",
       "                }\n",
       "\n",
       "                .geemap-colab .jupyter-button {\n",
       "                    --jp-layout-color3: var(--colab-primary-surface-color, white);\n",
       "                }\n",
       "            </style>\n",
       "            "
      ],
      "text/plain": [
       "<IPython.core.display.HTML object>"
      ]
     },
     "metadata": {},
     "output_type": "display_data"
    }
   ],
   "source": [
    "image_n = 10\n",
    "displayed_image = landsat_rgb.toList(image_n).get(-1)"
   ]
  },
  {
   "cell_type": "code",
   "execution_count": null,
   "id": "126cfe29",
   "metadata": {},
   "outputs": [
    {
     "data": {
      "text/html": [
       "\n",
       "            <style>\n",
       "                .geemap-dark {\n",
       "                    --jp-widgets-color: white;\n",
       "                    --jp-widgets-label-color: white;\n",
       "                    --jp-ui-font-color1: white;\n",
       "                    --jp-layout-color2: #454545;\n",
       "                    background-color: #383838;\n",
       "                }\n",
       "\n",
       "                .geemap-dark .jupyter-button {\n",
       "                    --jp-layout-color3: #383838;\n",
       "                }\n",
       "\n",
       "                .geemap-colab {\n",
       "                    background-color: var(--colab-primary-surface-color, white);\n",
       "                }\n",
       "\n",
       "                .geemap-colab .jupyter-button {\n",
       "                    --jp-layout-color3: var(--colab-primary-surface-color, white);\n",
       "                }\n",
       "            </style>\n",
       "            "
      ],
      "text/plain": [
       "<IPython.core.display.HTML object>"
      ]
     },
     "metadata": {},
     "output_type": "display_data"
    }
   ],
   "source": [
    "Map.addLayer(ee.Image(displayed_image), landsat_rgb_LST_vis, 'first')\n",
    "Map"
   ]
  }
 ],
 "metadata": {
  "kernelspec": {
   "display_name": "Python 3",
   "language": "python",
   "name": "python3"
  },
  "language_info": {
   "codemirror_mode": {
    "name": "ipython",
    "version": 3
   },
   "file_extension": ".py",
   "mimetype": "text/x-python",
   "name": "python",
   "nbconvert_exporter": "python",
   "pygments_lexer": "ipython3",
   "version": "3.13.2"
  }
 },
 "nbformat": 4,
 "nbformat_minor": 5
}

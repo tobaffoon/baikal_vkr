{
 "cells": [
  {
   "cell_type": "code",
   "execution_count": 1,
   "id": "8dee7d40",
   "metadata": {},
   "outputs": [],
   "source": [
    "import ee\n",
    "import geemap\n",
    "import pandas as pd\n",
    "from datetime import datetime"
   ]
  },
  {
   "cell_type": "code",
   "execution_count": 43,
   "id": "9a6cac27",
   "metadata": {},
   "outputs": [
    {
     "data": {
      "text/html": [
       "\n",
       "            <style>\n",
       "                .geemap-dark {\n",
       "                    --jp-widgets-color: white;\n",
       "                    --jp-widgets-label-color: white;\n",
       "                    --jp-ui-font-color1: white;\n",
       "                    --jp-layout-color2: #454545;\n",
       "                    background-color: #383838;\n",
       "                }\n",
       "\n",
       "                .geemap-dark .jupyter-button {\n",
       "                    --jp-layout-color3: #383838;\n",
       "                }\n",
       "\n",
       "                .geemap-colab {\n",
       "                    background-color: var(--colab-primary-surface-color, white);\n",
       "                }\n",
       "\n",
       "                .geemap-colab .jupyter-button {\n",
       "                    --jp-layout-color3: var(--colab-primary-surface-color, white);\n",
       "                }\n",
       "            </style>\n",
       "            "
      ],
      "text/plain": [
       "<IPython.core.display.HTML object>"
      ]
     },
     "metadata": {},
     "output_type": "display_data"
    }
   ],
   "source": [
    "geemap.ee_initialize()\n",
    "oeel = geemap.requireJS()\n",
    "ee.Authenticate()\n",
    "ee.Initialize(project='ee-amazyar-test1')\n",
    "\n",
    "start_date = ee.Date(\"2024-06-01\") # с 1990 тепловая информация Landsat-5 без колебаний\n",
    "end_date = ee.Date(\"2024-09-01\")\n",
    "\n",
    "baikal_shape = ee.FeatureCollection('projects/ee-amazyar-test/assets/baikal')\n"
   ]
  },
  {
   "cell_type": "code",
   "execution_count": 30,
   "id": "1b76163a",
   "metadata": {},
   "outputs": [
    {
     "data": {
      "text/html": [
       "\n",
       "            <style>\n",
       "                .geemap-dark {\n",
       "                    --jp-widgets-color: white;\n",
       "                    --jp-widgets-label-color: white;\n",
       "                    --jp-ui-font-color1: white;\n",
       "                    --jp-layout-color2: #454545;\n",
       "                    background-color: #383838;\n",
       "                }\n",
       "\n",
       "                .geemap-dark .jupyter-button {\n",
       "                    --jp-layout-color3: #383838;\n",
       "                }\n",
       "\n",
       "                .geemap-colab {\n",
       "                    background-color: var(--colab-primary-surface-color, white);\n",
       "                }\n",
       "\n",
       "                .geemap-colab .jupyter-button {\n",
       "                    --jp-layout-color3: var(--colab-primary-surface-color, white);\n",
       "                }\n",
       "            </style>\n",
       "            "
      ],
      "text/plain": [
       "<IPython.core.display.HTML object>"
      ]
     },
     "metadata": {},
     "output_type": "display_data"
    }
   ],
   "source": [
    "center = ee.Geometry.Point([105.50893757981774,51.98951989553487])\n",
    "# near = ee.Geometry.Point([105.46773884934899,51.93536364377326])\n",
    "# far = ee.Geometry.Point([105.46087239427087,51.88877082838407])\n",
    "# inner_border = ee.Geometry.Point([105.42379353684899,51.84552337625241])\n",
    "border = ee.Geometry.Point([105.40594075364587,51.82685477335608])\n",
    "# outer_near = ee.Geometry.Point([105.39770100755212,51.784397341560926])\n",
    "outer_to_center = ee.Geometry.Point([105.37572835130212,51.74445088742137])\n",
    "outer_to_shore = ee.Geometry.Point([105.39770100755212,52.01065691259747])"
   ]
  },
  {
   "cell_type": "code",
   "execution_count": 3,
   "id": "a32a46f1",
   "metadata": {},
   "outputs": [
    {
     "data": {
      "text/html": [
       "\n",
       "            <style>\n",
       "                .geemap-dark {\n",
       "                    --jp-widgets-color: white;\n",
       "                    --jp-widgets-label-color: white;\n",
       "                    --jp-ui-font-color1: white;\n",
       "                    --jp-layout-color2: #454545;\n",
       "                    background-color: #383838;\n",
       "                }\n",
       "\n",
       "                .geemap-dark .jupyter-button {\n",
       "                    --jp-layout-color3: #383838;\n",
       "                }\n",
       "\n",
       "                .geemap-colab {\n",
       "                    background-color: var(--colab-primary-surface-color, white);\n",
       "                }\n",
       "\n",
       "                .geemap-colab .jupyter-button {\n",
       "                    --jp-layout-color3: var(--colab-primary-surface-color, white);\n",
       "                }\n",
       "            </style>\n",
       "            "
      ],
      "text/plain": [
       "<IPython.core.display.HTML object>"
      ]
     },
     "metadata": {},
     "output_type": "display_data"
    }
   ],
   "source": [
    "LandsatLST = geemap.requireJS(\"../baikal_vkr_init/Landsat_LST.js\")"
   ]
  },
  {
   "cell_type": "code",
   "execution_count": 31,
   "id": "a924f45b",
   "metadata": {},
   "outputs": [
    {
     "data": {
      "text/html": [
       "\n",
       "            <style>\n",
       "                .geemap-dark {\n",
       "                    --jp-widgets-color: white;\n",
       "                    --jp-widgets-label-color: white;\n",
       "                    --jp-ui-font-color1: white;\n",
       "                    --jp-layout-color2: #454545;\n",
       "                    background-color: #383838;\n",
       "                }\n",
       "\n",
       "                .geemap-dark .jupyter-button {\n",
       "                    --jp-layout-color3: #383838;\n",
       "                }\n",
       "\n",
       "                .geemap-colab {\n",
       "                    background-color: var(--colab-primary-surface-color, white);\n",
       "                }\n",
       "\n",
       "                .geemap-colab .jupyter-button {\n",
       "                    --jp-layout-color3: var(--colab-primary-surface-color, white);\n",
       "                }\n",
       "            </style>\n",
       "            "
      ],
      "text/plain": [
       "<IPython.core.display.HTML object>"
      ]
     },
     "metadata": {},
     "output_type": "display_data"
    }
   ],
   "source": [
    "use_ndvi = False\n",
    "\n",
    "def get_landsat_collection(satellite_name: str):\n",
    "   coll = LandsatLST.collection(satellite_name, start_date, end_date, center, use_ndvi)\n",
    "   coll = coll.filterBounds(border).filterBounds(outer_to_center).filterBounds(outer_to_shore)\n",
    "   return coll.select('LST')\n",
    "\n",
    "def get_time_LST_sob(image: ee.Image):\n",
    "  datetime_str = image.getString('DATE_ACQUIRED').cat(\" \").cat(image.getString('SCENE_CENTER_TIME'))\n",
    "  datetime_str = datetime_str.slice(0, 18)\n",
    "  return ee.Date.parse('yyyy-MM-dd HH:mm:ss', datetime_str, \"Asia/Irkutsk\").format(\"yyyy-MM-dd_HH-mm-ss\", \"Asia/Irkutsk\").getInfo()"
   ]
  },
  {
   "cell_type": "code",
   "execution_count": 32,
   "id": "dbe9de93",
   "metadata": {},
   "outputs": [
    {
     "data": {
      "text/html": [
       "\n",
       "            <style>\n",
       "                .geemap-dark {\n",
       "                    --jp-widgets-color: white;\n",
       "                    --jp-widgets-label-color: white;\n",
       "                    --jp-ui-font-color1: white;\n",
       "                    --jp-layout-color2: #454545;\n",
       "                    background-color: #383838;\n",
       "                }\n",
       "\n",
       "                .geemap-dark .jupyter-button {\n",
       "                    --jp-layout-color3: #383838;\n",
       "                }\n",
       "\n",
       "                .geemap-colab {\n",
       "                    background-color: var(--colab-primary-surface-color, white);\n",
       "                }\n",
       "\n",
       "                .geemap-colab .jupyter-button {\n",
       "                    --jp-layout-color3: var(--colab-primary-surface-color, white);\n",
       "                }\n",
       "            </style>\n",
       "            "
      ],
      "text/plain": [
       "<IPython.core.display.HTML object>"
      ]
     },
     "metadata": {},
     "output_type": "display_data"
    }
   ],
   "source": [
    "landsat = ee.ImageCollection.merge(get_landsat_collection('L8'),get_landsat_collection('L9'))\n",
    "landsat = ee.ImageCollection.merge(landsat,get_landsat_collection('L7'))\n",
    "landsat = ee.ImageCollection.merge(landsat,get_landsat_collection('L5'))"
   ]
  },
  {
   "cell_type": "markdown",
   "id": "8a8a4c48",
   "metadata": {},
   "source": [
    "Отображение LST в RGB"
   ]
  },
  {
   "cell_type": "code",
   "execution_count": 8,
   "id": "e3b3f1f7",
   "metadata": {},
   "outputs": [
    {
     "data": {
      "text/html": [
       "\n",
       "            <style>\n",
       "                .geemap-dark {\n",
       "                    --jp-widgets-color: white;\n",
       "                    --jp-widgets-label-color: white;\n",
       "                    --jp-ui-font-color1: white;\n",
       "                    --jp-layout-color2: #454545;\n",
       "                    background-color: #383838;\n",
       "                }\n",
       "\n",
       "                .geemap-dark .jupyter-button {\n",
       "                    --jp-layout-color3: #383838;\n",
       "                }\n",
       "\n",
       "                .geemap-colab {\n",
       "                    background-color: var(--colab-primary-surface-color, white);\n",
       "                }\n",
       "\n",
       "                .geemap-colab .jupyter-button {\n",
       "                    --jp-layout-color3: var(--colab-primary-surface-color, white);\n",
       "                }\n",
       "            </style>\n",
       "            "
      ],
      "text/plain": [
       "<IPython.core.display.HTML object>"
      ]
     },
     "metadata": {},
     "output_type": "display_data"
    }
   ],
   "source": [
    "cmap = ['blue', 'cyan', 'green', 'yellow', 'red']\n",
    "\n",
    "LST_sob_vis = {\n",
    "   'min': 8,\n",
    "   'max': 20,\n",
    "   'bands': ['LST'],\n",
    "   'palette': cmap\n",
    "}"
   ]
  },
  {
   "cell_type": "code",
   "execution_count": 10,
   "id": "82472e5d",
   "metadata": {},
   "outputs": [
    {
     "data": {
      "text/html": [
       "\n",
       "            <style>\n",
       "                .geemap-dark {\n",
       "                    --jp-widgets-color: white;\n",
       "                    --jp-widgets-label-color: white;\n",
       "                    --jp-ui-font-color1: white;\n",
       "                    --jp-layout-color2: #454545;\n",
       "                    background-color: #383838;\n",
       "                }\n",
       "\n",
       "                .geemap-dark .jupyter-button {\n",
       "                    --jp-layout-color3: #383838;\n",
       "                }\n",
       "\n",
       "                .geemap-colab {\n",
       "                    background-color: var(--colab-primary-surface-color, white);\n",
       "                }\n",
       "\n",
       "                .geemap-colab .jupyter-button {\n",
       "                    --jp-layout-color3: var(--colab-primary-surface-color, white);\n",
       "                }\n",
       "            </style>\n",
       "            "
      ],
      "text/plain": [
       "<IPython.core.display.HTML object>"
      ]
     },
     "metadata": {},
     "output_type": "display_data"
    },
    {
     "data": {
      "application/vnd.jupyter.widget-view+json": {
       "model_id": "72df8f2b64e24beda501012a5c8eaf45",
       "version_major": 2,
       "version_minor": 0
      },
      "text/plain": [
       "Map(center=[0, 0], controls=(WidgetControl(options=['position', 'transparent_bg'], widget=SearchDataGUI(childr…"
      ]
     },
     "execution_count": 10,
     "metadata": {},
     "output_type": "execute_result"
    }
   ],
   "source": [
    "Map = geemap.Map()\n",
    "Map"
   ]
  },
  {
   "cell_type": "code",
   "execution_count": 34,
   "id": "ce7d001a",
   "metadata": {},
   "outputs": [
    {
     "data": {
      "text/html": [
       "\n",
       "            <style>\n",
       "                .geemap-dark {\n",
       "                    --jp-widgets-color: white;\n",
       "                    --jp-widgets-label-color: white;\n",
       "                    --jp-ui-font-color1: white;\n",
       "                    --jp-layout-color2: #454545;\n",
       "                    background-color: #383838;\n",
       "                }\n",
       "\n",
       "                .geemap-dark .jupyter-button {\n",
       "                    --jp-layout-color3: #383838;\n",
       "                }\n",
       "\n",
       "                .geemap-colab {\n",
       "                    background-color: var(--colab-primary-surface-color, white);\n",
       "                }\n",
       "\n",
       "                .geemap-colab .jupyter-button {\n",
       "                    --jp-layout-color3: var(--colab-primary-surface-color, white);\n",
       "                }\n",
       "            </style>\n",
       "            "
      ],
      "text/plain": [
       "<IPython.core.display.HTML object>"
      ]
     },
     "metadata": {},
     "output_type": "display_data"
    },
    {
     "data": {
      "text/plain": [
       "21"
      ]
     },
     "execution_count": 34,
     "metadata": {},
     "output_type": "execute_result"
    }
   ],
   "source": [
    "total_image_n = landsat.size().getInfo()\n",
    "landsat_list = landsat.toList(total_image_n)\n",
    "total_image_n"
   ]
  },
  {
   "cell_type": "code",
   "execution_count": null,
   "id": "288caaf1",
   "metadata": {},
   "outputs": [
    {
     "data": {
      "text/html": [
       "\n",
       "            <style>\n",
       "                .geemap-dark {\n",
       "                    --jp-widgets-color: white;\n",
       "                    --jp-widgets-label-color: white;\n",
       "                    --jp-ui-font-color1: white;\n",
       "                    --jp-layout-color2: #454545;\n",
       "                    background-color: #383838;\n",
       "                }\n",
       "\n",
       "                .geemap-dark .jupyter-button {\n",
       "                    --jp-layout-color3: #383838;\n",
       "                }\n",
       "\n",
       "                .geemap-colab {\n",
       "                    background-color: var(--colab-primary-surface-color, white);\n",
       "                }\n",
       "\n",
       "                .geemap-colab .jupyter-button {\n",
       "                    --jp-layout-color3: var(--colab-primary-surface-color, white);\n",
       "                }\n",
       "            </style>\n",
       "            "
      ],
      "text/plain": [
       "<IPython.core.display.HTML object>"
      ]
     },
     "metadata": {},
     "output_type": "display_data"
    }
   ],
   "source": [
    "for image_n in range(0,total_image_n):\n",
    "   image = ee.Image(landsat_list.get(image_n))\n",
    "   Map.addLayer(ee.Image(image).clip(baikal_shape), LST_sob_vis, str(get_time_LST_sob(image)))"
   ]
  },
  {
   "cell_type": "markdown",
   "id": "8220a1e3",
   "metadata": {},
   "source": [
    "Значения температуры"
   ]
  },
  {
   "cell_type": "code",
   "execution_count": 38,
   "id": "b0bea4ef",
   "metadata": {},
   "outputs": [
    {
     "data": {
      "text/html": [
       "\n",
       "            <style>\n",
       "                .geemap-dark {\n",
       "                    --jp-widgets-color: white;\n",
       "                    --jp-widgets-label-color: white;\n",
       "                    --jp-ui-font-color1: white;\n",
       "                    --jp-layout-color2: #454545;\n",
       "                    background-color: #383838;\n",
       "                }\n",
       "\n",
       "                .geemap-dark .jupyter-button {\n",
       "                    --jp-layout-color3: #383838;\n",
       "                }\n",
       "\n",
       "                .geemap-colab {\n",
       "                    background-color: var(--colab-primary-surface-color, white);\n",
       "                }\n",
       "\n",
       "                .geemap-colab .jupyter-button {\n",
       "                    --jp-layout-color3: var(--colab-primary-surface-color, white);\n",
       "                }\n",
       "            </style>\n",
       "            "
      ],
      "text/plain": [
       "<IPython.core.display.HTML object>"
      ]
     },
     "metadata": {},
     "output_type": "display_data"
    },
    {
     "data": {
      "text/html": [
       "<div>\n",
       "<style scoped>\n",
       "    .dataframe tbody tr th:only-of-type {\n",
       "        vertical-align: middle;\n",
       "    }\n",
       "\n",
       "    .dataframe tbody tr th {\n",
       "        vertical-align: top;\n",
       "    }\n",
       "\n",
       "    .dataframe thead th {\n",
       "        text-align: right;\n",
       "    }\n",
       "</style>\n",
       "<table border=\"1\" class=\"dataframe\">\n",
       "  <thead>\n",
       "    <tr style=\"text-align: right;\">\n",
       "      <th></th>\n",
       "      <th>Date</th>\n",
       "      <th>center</th>\n",
       "      <th>border</th>\n",
       "      <th>outer_to_center</th>\n",
       "      <th>outer_to_shore</th>\n",
       "    </tr>\n",
       "  </thead>\n",
       "  <tbody>\n",
       "    <tr>\n",
       "      <th>0</th>\n",
       "      <td>2024-06-01_03-51-01</td>\n",
       "      <td>4.520500</td>\n",
       "      <td>1.951498</td>\n",
       "      <td>2.561332</td>\n",
       "      <td>4.002476</td>\n",
       "    </tr>\n",
       "    <tr>\n",
       "      <th>6</th>\n",
       "      <td>2024-06-08_03-57-02</td>\n",
       "      <td>3.321633</td>\n",
       "      <td>4.095477</td>\n",
       "      <td>3.541550</td>\n",
       "      <td>3.681542</td>\n",
       "    </tr>\n",
       "    <tr>\n",
       "      <th>11</th>\n",
       "      <td>2024-06-09_03-51-02</td>\n",
       "      <td>4.792011</td>\n",
       "      <td>3.756705</td>\n",
       "      <td>4.079714</td>\n",
       "      <td>4.229996</td>\n",
       "    </tr>\n",
       "    <tr>\n",
       "      <th>1</th>\n",
       "      <td>2024-06-17_03-51-01</td>\n",
       "      <td>5.224757</td>\n",
       "      <td>5.850003</td>\n",
       "      <td>5.720397</td>\n",
       "      <td>2.777523</td>\n",
       "    </tr>\n",
       "    <tr>\n",
       "      <th>7</th>\n",
       "      <td>2024-06-24_03-57-03</td>\n",
       "      <td>5.774143</td>\n",
       "      <td>-5.896985</td>\n",
       "      <td>-10.437600</td>\n",
       "      <td>6.457050</td>\n",
       "    </tr>\n",
       "    <tr>\n",
       "      <th>12</th>\n",
       "      <td>2024-06-25_03-51-01</td>\n",
       "      <td>7.813267</td>\n",
       "      <td>7.668629</td>\n",
       "      <td>7.638352</td>\n",
       "      <td>6.997372</td>\n",
       "    </tr>\n",
       "    <tr>\n",
       "      <th>17</th>\n",
       "      <td>2024-07-02_03-57-03</td>\n",
       "      <td>8.203812</td>\n",
       "      <td>10.102731</td>\n",
       "      <td>11.832303</td>\n",
       "      <td>9.407754</td>\n",
       "    </tr>\n",
       "    <tr>\n",
       "      <th>8</th>\n",
       "      <td>2024-07-10_03-57-04</td>\n",
       "      <td>13.190748</td>\n",
       "      <td>6.763571</td>\n",
       "      <td>-74.970193</td>\n",
       "      <td>14.137582</td>\n",
       "    </tr>\n",
       "    <tr>\n",
       "      <th>13</th>\n",
       "      <td>2024-07-11_03-51-03</td>\n",
       "      <td>14.575747</td>\n",
       "      <td>11.072802</td>\n",
       "      <td>11.854462</td>\n",
       "      <td>-0.208847</td>\n",
       "    </tr>\n",
       "    <tr>\n",
       "      <th>18</th>\n",
       "      <td>2024-07-18_03-57-04</td>\n",
       "      <td>13.297364</td>\n",
       "      <td>12.726604</td>\n",
       "      <td>13.661868</td>\n",
       "      <td>13.654568</td>\n",
       "    </tr>\n",
       "    <tr>\n",
       "      <th>3</th>\n",
       "      <td>2024-07-19_03-51-04</td>\n",
       "      <td>14.975774</td>\n",
       "      <td>14.530109</td>\n",
       "      <td>16.186250</td>\n",
       "      <td>16.043509</td>\n",
       "    </tr>\n",
       "    <tr>\n",
       "      <th>14</th>\n",
       "      <td>2024-07-27_03-51-03</td>\n",
       "      <td>4.323536</td>\n",
       "      <td>8.543886</td>\n",
       "      <td>12.173585</td>\n",
       "      <td>7.984089</td>\n",
       "    </tr>\n",
       "    <tr>\n",
       "      <th>4</th>\n",
       "      <td>2024-08-04_03-51-04</td>\n",
       "      <td>16.207748</td>\n",
       "      <td>17.633817</td>\n",
       "      <td>16.104117</td>\n",
       "      <td>19.934354</td>\n",
       "    </tr>\n",
       "    <tr>\n",
       "      <th>9</th>\n",
       "      <td>2024-08-11_03-57-05</td>\n",
       "      <td>15.948249</td>\n",
       "      <td>19.801195</td>\n",
       "      <td>20.374671</td>\n",
       "      <td>20.442412</td>\n",
       "    </tr>\n",
       "    <tr>\n",
       "      <th>20</th>\n",
       "      <td>2024-08-19_03-57-05</td>\n",
       "      <td>12.539448</td>\n",
       "      <td>17.628353</td>\n",
       "      <td>19.464076</td>\n",
       "      <td>19.498845</td>\n",
       "    </tr>\n",
       "    <tr>\n",
       "      <th>10</th>\n",
       "      <td>2024-08-27_03-58-00</td>\n",
       "      <td>11.428485</td>\n",
       "      <td>12.148254</td>\n",
       "      <td>12.083295</td>\n",
       "      <td>16.848730</td>\n",
       "    </tr>\n",
       "    <tr>\n",
       "      <th>16</th>\n",
       "      <td>2024-08-28_03-51-05</td>\n",
       "      <td>4.391926</td>\n",
       "      <td>11.442683</td>\n",
       "      <td>11.575415</td>\n",
       "      <td>15.029766</td>\n",
       "    </tr>\n",
       "  </tbody>\n",
       "</table>\n",
       "</div>"
      ],
      "text/plain": [
       "                   Date     center     border  outer_to_center  outer_to_shore\n",
       "0   2024-06-01_03-51-01   4.520500   1.951498         2.561332        4.002476\n",
       "6   2024-06-08_03-57-02   3.321633   4.095477         3.541550        3.681542\n",
       "11  2024-06-09_03-51-02   4.792011   3.756705         4.079714        4.229996\n",
       "1   2024-06-17_03-51-01   5.224757   5.850003         5.720397        2.777523\n",
       "7   2024-06-24_03-57-03   5.774143  -5.896985       -10.437600        6.457050\n",
       "12  2024-06-25_03-51-01   7.813267   7.668629         7.638352        6.997372\n",
       "17  2024-07-02_03-57-03   8.203812  10.102731        11.832303        9.407754\n",
       "8   2024-07-10_03-57-04  13.190748   6.763571       -74.970193       14.137582\n",
       "13  2024-07-11_03-51-03  14.575747  11.072802        11.854462       -0.208847\n",
       "18  2024-07-18_03-57-04  13.297364  12.726604        13.661868       13.654568\n",
       "3   2024-07-19_03-51-04  14.975774  14.530109        16.186250       16.043509\n",
       "14  2024-07-27_03-51-03   4.323536   8.543886        12.173585        7.984089\n",
       "4   2024-08-04_03-51-04  16.207748  17.633817        16.104117       19.934354\n",
       "9   2024-08-11_03-57-05  15.948249  19.801195        20.374671       20.442412\n",
       "20  2024-08-19_03-57-05  12.539448  17.628353        19.464076       19.498845\n",
       "10  2024-08-27_03-58-00  11.428485  12.148254        12.083295       16.848730\n",
       "16  2024-08-28_03-51-05   4.391926  11.442683        11.575415       15.029766"
      ]
     },
     "execution_count": 38,
     "metadata": {},
     "output_type": "execute_result"
    }
   ],
   "source": [
    "# upwelling_df = pd.DataFrame(columns=[\"Date\", \"center\", \"near\", \"far\", \"inner_border\", \"outer_border\", \"outer_near\", \"outer_far\", \"outer_shore\"])\n",
    "upwelling_df = pd.DataFrame(columns=[\"Date\", \"center\", \"border\", \"outer_to_center\", \"outer_to_shore\"])\n",
    "\n",
    "for image_n in range(0,total_image_n):\n",
    "   image = ee.Image(landsat_list.get(image_n))\n",
    "   # Map.addLayer(ee.Image(image).clip(baikal_shape), LST_sob_vis, str(get_time_LST_sob(image)))\n",
    "   date = str(get_time_LST_sob(image))\n",
    "   center_temp = image.reduceRegion(\n",
    "         reducer=ee.Reducer.mean(),\n",
    "         geometry=center\n",
    "      ).getInfo()['LST']\n",
    "   border_temp = image.reduceRegion(\n",
    "         reducer=ee.Reducer.mean(),\n",
    "         geometry=border,\n",
    "         maxPixels=35000000\n",
    "      ).getInfo()['LST']\n",
    "   outer_to_center_temp = image.reduceRegion(\n",
    "         reducer=ee.Reducer.mean(),\n",
    "         geometry=outer_to_center,\n",
    "         maxPixels=35000000\n",
    "      ).getInfo()['LST']\n",
    "   outer_to_shore_temp = image.reduceRegion(\n",
    "         reducer=ee.Reducer.mean(),\n",
    "         geometry=outer_to_shore,\n",
    "         maxPixels=35000000\n",
    "      ).getInfo()['LST']\n",
    "\n",
    "   upwelling_df.loc[image_n] = [date, \n",
    "                                 center_temp, \n",
    "                                 border_temp, \n",
    "                                 outer_to_center_temp,\n",
    "                                 outer_to_shore_temp]\n",
    "\n",
    "upwelling_df = upwelling_df[upwelling_df['center'] > 0]\n",
    "upwelling_df = upwelling_df.sort_values(\"Date\")\n",
    "upwelling_df\n"
   ]
  },
  {
   "cell_type": "code",
   "execution_count": 37,
   "id": "c1d01a02",
   "metadata": {},
   "outputs": [
    {
     "data": {
      "text/html": [
       "\n",
       "            <style>\n",
       "                .geemap-dark {\n",
       "                    --jp-widgets-color: white;\n",
       "                    --jp-widgets-label-color: white;\n",
       "                    --jp-ui-font-color1: white;\n",
       "                    --jp-layout-color2: #454545;\n",
       "                    background-color: #383838;\n",
       "                }\n",
       "\n",
       "                .geemap-dark .jupyter-button {\n",
       "                    --jp-layout-color3: #383838;\n",
       "                }\n",
       "\n",
       "                .geemap-colab {\n",
       "                    background-color: var(--colab-primary-surface-color, white);\n",
       "                }\n",
       "\n",
       "                .geemap-colab .jupyter-button {\n",
       "                    --jp-layout-color3: var(--colab-primary-surface-color, white);\n",
       "                }\n",
       "            </style>\n",
       "            "
      ],
      "text/plain": [
       "<IPython.core.display.HTML object>"
      ]
     },
     "metadata": {},
     "output_type": "display_data"
    },
    {
     "data": {
      "text/html": [
       "<div>\n",
       "<style scoped>\n",
       "    .dataframe tbody tr th:only-of-type {\n",
       "        vertical-align: middle;\n",
       "    }\n",
       "\n",
       "    .dataframe tbody tr th {\n",
       "        vertical-align: top;\n",
       "    }\n",
       "\n",
       "    .dataframe thead th {\n",
       "        text-align: right;\n",
       "    }\n",
       "</style>\n",
       "<table border=\"1\" class=\"dataframe\">\n",
       "  <thead>\n",
       "    <tr style=\"text-align: right;\">\n",
       "      <th></th>\n",
       "      <th>Date</th>\n",
       "      <th>center</th>\n",
       "      <th>border</th>\n",
       "      <th>outer_to_center</th>\n",
       "      <th>outer_to_shore</th>\n",
       "    </tr>\n",
       "  </thead>\n",
       "  <tbody>\n",
       "    <tr>\n",
       "      <th>0</th>\n",
       "      <td>2024-06-01_03-51-01</td>\n",
       "      <td>4.520500</td>\n",
       "      <td>1.951498</td>\n",
       "      <td>2.561332</td>\n",
       "      <td>4.002476</td>\n",
       "    </tr>\n",
       "    <tr>\n",
       "      <th>6</th>\n",
       "      <td>2024-06-08_03-57-02</td>\n",
       "      <td>3.321633</td>\n",
       "      <td>4.095477</td>\n",
       "      <td>3.541550</td>\n",
       "      <td>3.681542</td>\n",
       "    </tr>\n",
       "    <tr>\n",
       "      <th>11</th>\n",
       "      <td>2024-06-09_03-51-02</td>\n",
       "      <td>4.792011</td>\n",
       "      <td>3.756705</td>\n",
       "      <td>4.079714</td>\n",
       "      <td>4.229996</td>\n",
       "    </tr>\n",
       "    <tr>\n",
       "      <th>1</th>\n",
       "      <td>2024-06-17_03-51-01</td>\n",
       "      <td>5.224757</td>\n",
       "      <td>5.850003</td>\n",
       "      <td>5.720397</td>\n",
       "      <td>2.777523</td>\n",
       "    </tr>\n",
       "    <tr>\n",
       "      <th>7</th>\n",
       "      <td>2024-06-24_03-57-03</td>\n",
       "      <td>5.774143</td>\n",
       "      <td>-5.896985</td>\n",
       "      <td>-10.437600</td>\n",
       "      <td>6.457050</td>\n",
       "    </tr>\n",
       "    <tr>\n",
       "      <th>12</th>\n",
       "      <td>2024-06-25_03-51-01</td>\n",
       "      <td>7.813267</td>\n",
       "      <td>7.668629</td>\n",
       "      <td>7.638352</td>\n",
       "      <td>6.997372</td>\n",
       "    </tr>\n",
       "    <tr>\n",
       "      <th>17</th>\n",
       "      <td>2024-07-02_03-57-03</td>\n",
       "      <td>8.203812</td>\n",
       "      <td>10.102731</td>\n",
       "      <td>11.832303</td>\n",
       "      <td>9.407754</td>\n",
       "    </tr>\n",
       "    <tr>\n",
       "      <th>2</th>\n",
       "      <td>2024-07-03_03-51-02</td>\n",
       "      <td>-11.336029</td>\n",
       "      <td>-22.953146</td>\n",
       "      <td>-9.539739</td>\n",
       "      <td>-23.894347</td>\n",
       "    </tr>\n",
       "    <tr>\n",
       "      <th>8</th>\n",
       "      <td>2024-07-10_03-57-04</td>\n",
       "      <td>13.190748</td>\n",
       "      <td>6.763571</td>\n",
       "      <td>-74.970193</td>\n",
       "      <td>14.137582</td>\n",
       "    </tr>\n",
       "    <tr>\n",
       "      <th>13</th>\n",
       "      <td>2024-07-11_03-51-03</td>\n",
       "      <td>14.575747</td>\n",
       "      <td>11.072802</td>\n",
       "      <td>11.854462</td>\n",
       "      <td>-0.208847</td>\n",
       "    </tr>\n",
       "    <tr>\n",
       "      <th>18</th>\n",
       "      <td>2024-07-18_03-57-04</td>\n",
       "      <td>13.297364</td>\n",
       "      <td>12.726604</td>\n",
       "      <td>13.661868</td>\n",
       "      <td>13.654568</td>\n",
       "    </tr>\n",
       "    <tr>\n",
       "      <th>3</th>\n",
       "      <td>2024-07-19_03-51-04</td>\n",
       "      <td>14.975774</td>\n",
       "      <td>14.530109</td>\n",
       "      <td>16.186250</td>\n",
       "      <td>16.043509</td>\n",
       "    </tr>\n",
       "    <tr>\n",
       "      <th>14</th>\n",
       "      <td>2024-07-27_03-51-03</td>\n",
       "      <td>4.323536</td>\n",
       "      <td>8.543886</td>\n",
       "      <td>12.173585</td>\n",
       "      <td>7.984089</td>\n",
       "    </tr>\n",
       "    <tr>\n",
       "      <th>19</th>\n",
       "      <td>2024-08-03_03-57-04</td>\n",
       "      <td>-47.938982</td>\n",
       "      <td>1.528693</td>\n",
       "      <td>-15.150749</td>\n",
       "      <td>8.109226</td>\n",
       "    </tr>\n",
       "    <tr>\n",
       "      <th>4</th>\n",
       "      <td>2024-08-04_03-51-04</td>\n",
       "      <td>16.207748</td>\n",
       "      <td>17.633817</td>\n",
       "      <td>16.104117</td>\n",
       "      <td>19.934354</td>\n",
       "    </tr>\n",
       "    <tr>\n",
       "      <th>9</th>\n",
       "      <td>2024-08-11_03-57-05</td>\n",
       "      <td>15.948249</td>\n",
       "      <td>19.801195</td>\n",
       "      <td>20.374671</td>\n",
       "      <td>20.442412</td>\n",
       "    </tr>\n",
       "    <tr>\n",
       "      <th>15</th>\n",
       "      <td>2024-08-12_03-51-04</td>\n",
       "      <td>-21.325934</td>\n",
       "      <td>-25.997554</td>\n",
       "      <td>-53.191399</td>\n",
       "      <td>-19.618190</td>\n",
       "    </tr>\n",
       "    <tr>\n",
       "      <th>20</th>\n",
       "      <td>2024-08-19_03-57-05</td>\n",
       "      <td>12.539448</td>\n",
       "      <td>17.628353</td>\n",
       "      <td>19.464076</td>\n",
       "      <td>19.498845</td>\n",
       "    </tr>\n",
       "    <tr>\n",
       "      <th>5</th>\n",
       "      <td>2024-08-20_03-51-05</td>\n",
       "      <td>-16.822382</td>\n",
       "      <td>-24.866146</td>\n",
       "      <td>-8.767806</td>\n",
       "      <td>-34.974839</td>\n",
       "    </tr>\n",
       "    <tr>\n",
       "      <th>10</th>\n",
       "      <td>2024-08-27_03-58-00</td>\n",
       "      <td>11.428485</td>\n",
       "      <td>12.148254</td>\n",
       "      <td>12.083295</td>\n",
       "      <td>16.848730</td>\n",
       "    </tr>\n",
       "    <tr>\n",
       "      <th>16</th>\n",
       "      <td>2024-08-28_03-51-05</td>\n",
       "      <td>4.391926</td>\n",
       "      <td>11.442683</td>\n",
       "      <td>11.575415</td>\n",
       "      <td>15.029766</td>\n",
       "    </tr>\n",
       "  </tbody>\n",
       "</table>\n",
       "</div>"
      ],
      "text/plain": [
       "                   Date     center     border  outer_to_center  outer_to_shore\n",
       "0   2024-06-01_03-51-01   4.520500   1.951498         2.561332        4.002476\n",
       "6   2024-06-08_03-57-02   3.321633   4.095477         3.541550        3.681542\n",
       "11  2024-06-09_03-51-02   4.792011   3.756705         4.079714        4.229996\n",
       "1   2024-06-17_03-51-01   5.224757   5.850003         5.720397        2.777523\n",
       "7   2024-06-24_03-57-03   5.774143  -5.896985       -10.437600        6.457050\n",
       "12  2024-06-25_03-51-01   7.813267   7.668629         7.638352        6.997372\n",
       "17  2024-07-02_03-57-03   8.203812  10.102731        11.832303        9.407754\n",
       "2   2024-07-03_03-51-02 -11.336029 -22.953146        -9.539739      -23.894347\n",
       "8   2024-07-10_03-57-04  13.190748   6.763571       -74.970193       14.137582\n",
       "13  2024-07-11_03-51-03  14.575747  11.072802        11.854462       -0.208847\n",
       "18  2024-07-18_03-57-04  13.297364  12.726604        13.661868       13.654568\n",
       "3   2024-07-19_03-51-04  14.975774  14.530109        16.186250       16.043509\n",
       "14  2024-07-27_03-51-03   4.323536   8.543886        12.173585        7.984089\n",
       "19  2024-08-03_03-57-04 -47.938982   1.528693       -15.150749        8.109226\n",
       "4   2024-08-04_03-51-04  16.207748  17.633817        16.104117       19.934354\n",
       "9   2024-08-11_03-57-05  15.948249  19.801195        20.374671       20.442412\n",
       "15  2024-08-12_03-51-04 -21.325934 -25.997554       -53.191399      -19.618190\n",
       "20  2024-08-19_03-57-05  12.539448  17.628353        19.464076       19.498845\n",
       "5   2024-08-20_03-51-05 -16.822382 -24.866146        -8.767806      -34.974839\n",
       "10  2024-08-27_03-58-00  11.428485  12.148254        12.083295       16.848730\n",
       "16  2024-08-28_03-51-05   4.391926  11.442683        11.575415       15.029766"
      ]
     },
     "execution_count": 37,
     "metadata": {},
     "output_type": "execute_result"
    }
   ],
   "source": [
    "upwelling_df.sort_values(\"Date\")"
   ]
  },
  {
   "cell_type": "code",
   "execution_count": 40,
   "id": "bbff54d7",
   "metadata": {},
   "outputs": [
    {
     "data": {
      "text/html": [
       "\n",
       "            <style>\n",
       "                .geemap-dark {\n",
       "                    --jp-widgets-color: white;\n",
       "                    --jp-widgets-label-color: white;\n",
       "                    --jp-ui-font-color1: white;\n",
       "                    --jp-layout-color2: #454545;\n",
       "                    background-color: #383838;\n",
       "                }\n",
       "\n",
       "                .geemap-dark .jupyter-button {\n",
       "                    --jp-layout-color3: #383838;\n",
       "                }\n",
       "\n",
       "                .geemap-colab {\n",
       "                    background-color: var(--colab-primary-surface-color, white);\n",
       "                }\n",
       "\n",
       "                .geemap-colab .jupyter-button {\n",
       "                    --jp-layout-color3: var(--colab-primary-surface-color, white);\n",
       "                }\n",
       "            </style>\n",
       "            "
      ],
      "text/plain": [
       "<IPython.core.display.HTML object>"
      ]
     },
     "metadata": {},
     "output_type": "display_data"
    }
   ],
   "source": [
    "image_indices_for_export = [18, 3, 4, 9, 20, 10, 16]"
   ]
  },
  {
   "cell_type": "code",
   "execution_count": null,
   "id": "e1364a1d",
   "metadata": {},
   "outputs": [
    {
     "data": {
      "text/html": [
       "\n",
       "            <style>\n",
       "                .geemap-dark {\n",
       "                    --jp-widgets-color: white;\n",
       "                    --jp-widgets-label-color: white;\n",
       "                    --jp-ui-font-color1: white;\n",
       "                    --jp-layout-color2: #454545;\n",
       "                    background-color: #383838;\n",
       "                }\n",
       "\n",
       "                .geemap-dark .jupyter-button {\n",
       "                    --jp-layout-color3: #383838;\n",
       "                }\n",
       "\n",
       "                .geemap-colab {\n",
       "                    background-color: var(--colab-primary-surface-color, white);\n",
       "                }\n",
       "\n",
       "                .geemap-colab .jupyter-button {\n",
       "                    --jp-layout-color3: var(--colab-primary-surface-color, white);\n",
       "                }\n",
       "            </style>\n",
       "            "
      ],
      "text/plain": [
       "<IPython.core.display.HTML object>"
      ]
     },
     "metadata": {},
     "output_type": "display_data"
    }
   ],
   "source": [
    "for image_n in image_indices_for_export:\n",
    "   image = ee.Image(landsat_list.get(image_n))\n",
    "   # Map.addLayer(ee.Image(image).clip(baikal_shape), LST_sob_vis, str(get_time_LST_sob(image)))\n",
    "   date = str(get_time_LST_sob(image))\n",
    "   desc = \"lst_sob_\"+date\n",
    "   ee.batch.Export.image.toDrive(\n",
    "      image=image.clip(baikal_shape).select('LST').visualize(LST_sob_vis),\n",
    "      description=desc,\n",
    "      folder=\"upwelling_2024_aug\", \n",
    "      fileNamePrefix=desc, \n",
    "      region=baikal_shape, \n",
    "      crs='EPSG:4326', \n",
    "      maxPixels=50000000,\n",
    "      fileFormat=\"GeoTIFF\")"
   ]
  },
  {
   "cell_type": "markdown",
   "id": "a487a17c",
   "metadata": {},
   "source": [
    "Date center\tnear\tfar\tinner_border\touter_border\touter_near\touter_far\touter_shore\n",
    "0\t2024-08-19_03-57-05\t12.539448\t13.596312\t15.350255\t16.984626\t17.628353\t18.272412\t19.464076\t19.498845"
   ]
  },
  {
   "cell_type": "code",
   "execution_count": null,
   "id": "a90fb4c1",
   "metadata": {},
   "outputs": [],
   "source": [
    "\n",
    "   near_temp = image.reduceRegion(\n",
    "         reducer=ee.Reducer.mean(),\n",
    "         geometry=near\n",
    "      ).getInfo()['LST']\n",
    "   far_temp = image.reduceRegion(\n",
    "         reducer=ee.Reducer.mean(),\n",
    "         geometry=far,\n",
    "         maxPixels=35000000\n",
    "      ).getInfo()['LST']\n",
    "   inner_border_temp = image.reduceRegion(\n",
    "         reducer=ee.Reducer.mean(),\n",
    "         geometry=inner_border,\n",
    "         maxPixels=35000000\n",
    "      ).getInfo()['LST']\n",
    "outer_near_temp = image.reduceRegion(\n",
    "         reducer=ee.Reducer.mean(),\n",
    "         geometry=outer_near,\n",
    "         maxPixels=35000000\n",
    "      ).getInfo()['LST']"
   ]
  }
 ],
 "metadata": {
  "kernelspec": {
   "display_name": "Python 3",
   "language": "python",
   "name": "python3"
  },
  "language_info": {
   "codemirror_mode": {
    "name": "ipython",
    "version": 3
   },
   "file_extension": ".py",
   "mimetype": "text/x-python",
   "name": "python",
   "nbconvert_exporter": "python",
   "pygments_lexer": "ipython3",
   "version": "3.13.3"
  }
 },
 "nbformat": 4,
 "nbformat_minor": 5
}

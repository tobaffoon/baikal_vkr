{
 "cells": [
  {
   "cell_type": "code",
   "execution_count": 1,
   "metadata": {},
   "outputs": [],
   "source": [
    "import ee\n",
    "import geemap\n",
    "import datetime\n",
    "import numpy as np\n",
    "import matplotlib.pyplot as plt\n",
    "from dateutil import tz\n",
    "\n",
    "from sklearn.linear_model import LinearRegression"
   ]
  },
  {
   "cell_type": "code",
   "execution_count": 2,
   "metadata": {},
   "outputs": [
    {
     "data": {
      "text/html": [
       "\n",
       "            <style>\n",
       "                .geemap-dark {\n",
       "                    --jp-widgets-color: white;\n",
       "                    --jp-widgets-label-color: white;\n",
       "                    --jp-ui-font-color1: white;\n",
       "                    --jp-layout-color2: #454545;\n",
       "                    background-color: #383838;\n",
       "                }\n",
       "\n",
       "                .geemap-dark .jupyter-button {\n",
       "                    --jp-layout-color3: #383838;\n",
       "                }\n",
       "\n",
       "                .geemap-colab {\n",
       "                    background-color: var(--colab-primary-surface-color, white);\n",
       "                }\n",
       "\n",
       "                .geemap-colab .jupyter-button {\n",
       "                    --jp-layout-color3: var(--colab-primary-surface-color, white);\n",
       "                }\n",
       "            </style>\n",
       "            "
      ],
      "text/plain": [
       "<IPython.core.display.HTML object>"
      ]
     },
     "metadata": {},
     "output_type": "display_data"
    },
    {
     "name": "stderr",
     "output_type": "stream",
     "text": [
      "(node:5721) [DEP0040] DeprecationWarning: The `punycode` module is deprecated. Please use a userland alternative instead.\n",
      "(Use `node --trace-deprecation ...` to show where the warning was created)\n"
     ]
    },
    {
     "name": "stdout",
     "output_type": "stream",
     "text": [
      "!!!!! On 11-07-2022 this code has been updated to run with landsat collection 2 data !!!!!\n",
      "!!!!! On 11-07-2022 this code has been updated to run with landsat collection 2 data !!!!!\n",
      "!!!!! On 11-07-2022 this code has been updated to run with landsat collection 2 data !!!!!\n",
      "!!!!! On 11-07-2022 this code has been updated to run with landsat collection 2 data !!!!!\n",
      "!!!!! On 11-07-2022 this code has been updated to run with landsat collection 2 data !!!!!\n"
     ]
    }
   ],
   "source": [
    "geemap.ee_initialize()\n",
    "oeel = geemap.requireJS()\n",
    "ee.Authenticate()\n",
    "ee.Initialize(project='ee-amazyar-test1')"
   ]
  },
  {
   "cell_type": "code",
   "execution_count": 3,
   "metadata": {},
   "outputs": [
    {
     "data": {
      "text/html": [
       "\n",
       "            <style>\n",
       "                .geemap-dark {\n",
       "                    --jp-widgets-color: white;\n",
       "                    --jp-widgets-label-color: white;\n",
       "                    --jp-ui-font-color1: white;\n",
       "                    --jp-layout-color2: #454545;\n",
       "                    background-color: #383838;\n",
       "                }\n",
       "\n",
       "                .geemap-dark .jupyter-button {\n",
       "                    --jp-layout-color3: #383838;\n",
       "                }\n",
       "\n",
       "                .geemap-colab {\n",
       "                    background-color: var(--colab-primary-surface-color, white);\n",
       "                }\n",
       "\n",
       "                .geemap-colab .jupyter-button {\n",
       "                    --jp-layout-color3: var(--colab-primary-surface-color, white);\n",
       "                }\n",
       "            </style>\n",
       "            "
      ],
      "text/plain": [
       "<IPython.core.display.HTML object>"
      ]
     },
     "metadata": {},
     "output_type": "display_data"
    }
   ],
   "source": [
    "LandsatLST = geemap.requireJS(\"baikal_vkr_init/Landsat_LST.js\")"
   ]
  },
  {
   "cell_type": "code",
   "execution_count": 4,
   "metadata": {},
   "outputs": [
    {
     "data": {
      "text/html": [
       "\n",
       "            <style>\n",
       "                .geemap-dark {\n",
       "                    --jp-widgets-color: white;\n",
       "                    --jp-widgets-label-color: white;\n",
       "                    --jp-ui-font-color1: white;\n",
       "                    --jp-layout-color2: #454545;\n",
       "                    background-color: #383838;\n",
       "                }\n",
       "\n",
       "                .geemap-dark .jupyter-button {\n",
       "                    --jp-layout-color3: #383838;\n",
       "                }\n",
       "\n",
       "                .geemap-colab {\n",
       "                    background-color: var(--colab-primary-surface-color, white);\n",
       "                }\n",
       "\n",
       "                .geemap-colab .jupyter-button {\n",
       "                    --jp-layout-color3: var(--colab-primary-surface-color, white);\n",
       "                }\n",
       "            </style>\n",
       "            "
      ],
      "text/plain": [
       "<IPython.core.display.HTML object>"
      ]
     },
     "metadata": {},
     "output_type": "display_data"
    }
   ],
   "source": [
    "date_start = ee.Date(\"1982-08-22T14:19:55\") # начало работы Landsat-4\n",
    "date_end = datetime.datetime.now()\n",
    "baikal_shape = ee.FeatureCollection('projects/ee-amazyar-test/assets/baikal')\n",
    "use_ndvi = True\n",
    "\n",
    "def get_landsat_collection(satellite_name: str):\n",
    "   coll = LandsatLST.collection(satellite_name, date_start, date_end, baikal_shape, use_ndvi).filter(ee.Filter.lt('CLOUD_COVER', 30))\n",
    "   return coll.select(['LST'])"
   ]
  },
  {
   "cell_type": "code",
   "execution_count": 5,
   "metadata": {},
   "outputs": [
    {
     "data": {
      "text/html": [
       "\n",
       "            <style>\n",
       "                .geemap-dark {\n",
       "                    --jp-widgets-color: white;\n",
       "                    --jp-widgets-label-color: white;\n",
       "                    --jp-ui-font-color1: white;\n",
       "                    --jp-layout-color2: #454545;\n",
       "                    background-color: #383838;\n",
       "                }\n",
       "\n",
       "                .geemap-dark .jupyter-button {\n",
       "                    --jp-layout-color3: #383838;\n",
       "                }\n",
       "\n",
       "                .geemap-colab {\n",
       "                    background-color: var(--colab-primary-surface-color, white);\n",
       "                }\n",
       "\n",
       "                .geemap-colab .jupyter-button {\n",
       "                    --jp-layout-color3: var(--colab-primary-surface-color, white);\n",
       "                }\n",
       "            </style>\n",
       "            "
      ],
      "text/plain": [
       "<IPython.core.display.HTML object>"
      ]
     },
     "metadata": {},
     "output_type": "display_data"
    },
    {
     "name": "stdout",
     "output_type": "stream",
     "text": [
      "8 9\n",
      "7\n",
      "5\n",
      "4\n"
     ]
    },
    {
     "data": {
      "text/plain": [
       "<ee.imagecollection.ImageCollection at 0x7f06ee8a6330>"
      ]
     },
     "execution_count": 5,
     "metadata": {},
     "output_type": "execute_result"
    }
   ],
   "source": [
    "def get_average_lst_landsat(landsat_collection: ee.ImageCollection, start_time, end_time):\n",
    "   temp = landsat_collection.filterDate(start_time, end_time).mean().reduceRegion(reducer=ee.Reducer.median(), geometry=baikal_shape, scale=30, maxPixels=1000000000)\n",
    "   result_dict = temp.getInfo()\n",
    "   if(len(result_dict) == 0):\n",
    "      return None\n",
    "   return temp.getInfo()['LST']\n",
    "\n",
    "landsats_collection = ee.ImageCollection.merge(get_landsat_collection('L8'),get_landsat_collection('L9'))\n",
    "print(8, 9)\n",
    "landsats_collection = ee.ImageCollection.merge(landsats_collection, get_landsat_collection('L7'))\n",
    "print(7)\n",
    "landsats_collection = ee.ImageCollection.merge(landsats_collection, get_landsat_collection('L5'))\n",
    "print(5)\n",
    "landsats_collection = ee.ImageCollection.merge(landsats_collection, get_landsat_collection('L4'))\n",
    "print(4)\n",
    "landsats_collection"
   ]
  },
  {
   "cell_type": "code",
   "execution_count": null,
   "metadata": {},
   "outputs": [
    {
     "data": {
      "text/html": [
       "\n",
       "            <style>\n",
       "                .geemap-dark {\n",
       "                    --jp-widgets-color: white;\n",
       "                    --jp-widgets-label-color: white;\n",
       "                    --jp-ui-font-color1: white;\n",
       "                    --jp-layout-color2: #454545;\n",
       "                    background-color: #383838;\n",
       "                }\n",
       "\n",
       "                .geemap-dark .jupyter-button {\n",
       "                    --jp-layout-color3: #383838;\n",
       "                }\n",
       "\n",
       "                .geemap-colab {\n",
       "                    background-color: var(--colab-primary-surface-color, white);\n",
       "                }\n",
       "\n",
       "                .geemap-colab .jupyter-button {\n",
       "                    --jp-layout-color3: var(--colab-primary-surface-color, white);\n",
       "                }\n",
       "            </style>\n",
       "            "
      ],
      "text/plain": [
       "<IPython.core.display.HTML object>"
      ]
     },
     "metadata": {},
     "output_type": "display_data"
    },
    {
     "name": "stderr",
     "output_type": "stream",
     "text": [
      "/usr/lib64/python3.13/site-packages/numpy/core/fromnumeric.py:3504: RuntimeWarning: Mean of empty slice.\n",
      "  return _methods._mean(a, axis=axis, dtype=dtype,\n",
      "/usr/lib64/python3.13/site-packages/numpy/core/_methods.py:129: RuntimeWarning: invalid value encountered in scalar divide\n",
      "  ret = ret.dtype.type(ret / rcount)\n"
     ]
    },
    {
     "data": {
      "text/plain": [
       "{1983: nan,\n",
       " 1984: nan,\n",
       " 1985: nan,\n",
       " 1986: 7.386344357450185,\n",
       " 1987: 6.05719354886914,\n",
       " 1988: -1.8781739827112442,\n",
       " 1989: 9.08322909355249,\n",
       " 1990: 7.122635178451277,\n",
       " 1991: 6.153237217555906,\n",
       " 1992: 0.3924024233400591,\n",
       " 1993: 9.05932737354679,\n",
       " 1994: 7.123732266783874,\n",
       " 1995: 2.5788621701454457,\n",
       " 1996: 5.881469446816233,\n",
       " 1997: 5.277491189500572,\n",
       " 1998: 5.767688124317398,\n",
       " 1999: 6.023195092521955,\n",
       " 2000: 4.82593271851187,\n",
       " 2001: 5.656550599438131,\n",
       " 2002: 8.320521618972615,\n",
       " 2003: 6.091757048040242,\n",
       " 2004: 5.7732563052208645,\n",
       " 2005: 7.202113676953184,\n",
       " 2006: 4.677950240759549,\n",
       " 2007: 7.760961597024208,\n",
       " 2008: 6.6034717455909435,\n",
       " 2009: 4.557205862201402,\n",
       " 2010: 3.6924846642136773,\n",
       " 2011: 6.23094297749656,\n",
       " 2012: 7.301778716924498,\n",
       " 2013: 7.321033256423994,\n",
       " 2014: 8.591829676073154,\n",
       " 2015: 8.09153563179101,\n",
       " 2016: 6.304393132929087,\n",
       " 2017: 6.452240018513007,\n",
       " 2018: 7.163009362965876,\n",
       " 2019: 7.694713990514738,\n",
       " 2020: 8.664525261832267,\n",
       " 2021: 6.189892789413902,\n",
       " 2022: 6.144092465190949,\n",
       " 2023: 6.882291304703221,\n",
       " 2024: 7.6525632439371005}"
      ]
     },
     "execution_count": 6,
     "metadata": {},
     "output_type": "execute_result"
    }
   ],
   "source": [
    "lst = {}\n",
    "\n",
    "for year in range(1983, 2025):\n",
    "   lst[year] = {}\n",
    "   for month in range(5, 12):\n",
    "      start_date = ee.Date(f\"{year}-{month}-1\")\n",
    "      if month == 5:\n",
    "         end_date = ee.Date(f\"{year}-5-15\")\n",
    "      else:\n",
    "         end_date = ee.Date(f\"{year}-{(month+1)}-1\")\n",
    "      \n",
    "      result = get_average_lst_landsat(landsats_collection, start_date, end_date)\n",
    "      if(result is None):\n",
    "         continue\n",
    "      lst[year][month] = result\n",
    "   \n",
    "   lst[year] = np.mean(list(lst[year].values()))\n",
    "   if lst[year] is None:\n",
    "      del lst[year]\n",
    "\n",
    "lst"
   ]
  },
  {
   "cell_type": "code",
   "execution_count": 7,
   "metadata": {},
   "outputs": [
    {
     "data": {
      "text/html": [
       "\n",
       "            <style>\n",
       "                .geemap-dark {\n",
       "                    --jp-widgets-color: white;\n",
       "                    --jp-widgets-label-color: white;\n",
       "                    --jp-ui-font-color1: white;\n",
       "                    --jp-layout-color2: #454545;\n",
       "                    background-color: #383838;\n",
       "                }\n",
       "\n",
       "                .geemap-dark .jupyter-button {\n",
       "                    --jp-layout-color3: #383838;\n",
       "                }\n",
       "\n",
       "                .geemap-colab {\n",
       "                    background-color: var(--colab-primary-surface-color, white);\n",
       "                }\n",
       "\n",
       "                .geemap-colab .jupyter-button {\n",
       "                    --jp-layout-color3: var(--colab-primary-surface-color, white);\n",
       "                }\n",
       "            </style>\n",
       "            "
      ],
      "text/plain": [
       "<IPython.core.display.HTML object>"
      ]
     },
     "metadata": {},
     "output_type": "display_data"
    }
   ],
   "source": [
    "del lst[1983]\n",
    "del lst[1984]\n",
    "del lst[1985]"
   ]
  },
  {
   "cell_type": "code",
   "execution_count": null,
   "metadata": {},
   "outputs": [
    {
     "data": {
      "text/html": [
       "\n",
       "            <style>\n",
       "                .geemap-dark {\n",
       "                    --jp-widgets-color: white;\n",
       "                    --jp-widgets-label-color: white;\n",
       "                    --jp-ui-font-color1: white;\n",
       "                    --jp-layout-color2: #454545;\n",
       "                    background-color: #383838;\n",
       "                }\n",
       "\n",
       "                .geemap-dark .jupyter-button {\n",
       "                    --jp-layout-color3: #383838;\n",
       "                }\n",
       "\n",
       "                .geemap-colab {\n",
       "                    background-color: var(--colab-primary-surface-color, white);\n",
       "                }\n",
       "\n",
       "                .geemap-colab .jupyter-button {\n",
       "                    --jp-layout-color3: var(--colab-primary-surface-color, white);\n",
       "                }\n",
       "            </style>\n",
       "            "
      ],
      "text/plain": [
       "<IPython.core.display.HTML object>"
      ]
     },
     "metadata": {},
     "output_type": "display_data"
    }
   ],
   "source": [
    "lst = { 1986: 7.386344357450185,\n",
    " 1987: 6.05719354886914,\n",
    " 1988: -1.8781739827112442,\n",
    " 1989: 9.08322909355249,\n",
    " 1990: 7.122635178451277,\n",
    " 1991: 6.153237217555906,\n",
    " 1992: 0.3924024233400591,\n",
    " 1993: 9.05932737354679,\n",
    " 1994: 7.123732266783874,\n",
    " 1995: 2.5788621701454457,\n",
    " 1996: 5.881469446816233,\n",
    " 1997: 5.277491189500572,\n",
    " 1998: 5.767688124317398,\n",
    " 1999: 6.023195092521955,\n",
    " 2000: 4.82593271851187,\n",
    " 2001: 5.656550599438131,\n",
    " 2002: 8.320521618972615,\n",
    " 2003: 6.091757048040242,\n",
    " 2004: 5.7732563052208645,\n",
    " 2005: 7.202113676953184,\n",
    " 2006: 4.677950240759549,\n",
    " 2007: 7.760961597024208,\n",
    " 2008: 6.6034717455909435,\n",
    " 2009: 4.557205862201402,\n",
    " 2010: 3.6924846642136773,\n",
    " 2011: 6.23094297749656,\n",
    " 2012: 7.301778716924498,\n",
    " 2013: 7.321033256423994,\n",
    " 2014: 8.591829676073154,\n",
    " 2015: 8.09153563179101,\n",
    " 2016: 6.304393132929087,\n",
    " 2017: 6.452240018513007,\n",
    " 2018: 7.163009362965876,\n",
    " 2019: 7.694713990514738,\n",
    " 2020: 8.664525261832267,\n",
    " 2021: 6.189892789413902,\n",
    " 2022: 6.144092465190949,\n",
    " 2023: 6.882291304703221,\n",
    " 2024: 7.6525632439371005}"
   ]
  },
  {
   "cell_type": "code",
   "execution_count": 8,
   "metadata": {},
   "outputs": [
    {
     "data": {
      "text/html": [
       "\n",
       "            <style>\n",
       "                .geemap-dark {\n",
       "                    --jp-widgets-color: white;\n",
       "                    --jp-widgets-label-color: white;\n",
       "                    --jp-ui-font-color1: white;\n",
       "                    --jp-layout-color2: #454545;\n",
       "                    background-color: #383838;\n",
       "                }\n",
       "\n",
       "                .geemap-dark .jupyter-button {\n",
       "                    --jp-layout-color3: #383838;\n",
       "                }\n",
       "\n",
       "                .geemap-colab {\n",
       "                    background-color: var(--colab-primary-surface-color, white);\n",
       "                }\n",
       "\n",
       "                .geemap-colab .jupyter-button {\n",
       "                    --jp-layout-color3: var(--colab-primary-surface-color, white);\n",
       "                }\n",
       "            </style>\n",
       "            "
      ],
      "text/plain": [
       "<IPython.core.display.HTML object>"
      ]
     },
     "metadata": {},
     "output_type": "display_data"
    },
    {
     "data": {
      "text/plain": [
       "array([[1986],\n",
       "       [1987],\n",
       "       [1988],\n",
       "       [1989],\n",
       "       [1990],\n",
       "       [1991],\n",
       "       [1992],\n",
       "       [1993],\n",
       "       [1994],\n",
       "       [1995],\n",
       "       [1996],\n",
       "       [1997],\n",
       "       [1998],\n",
       "       [1999],\n",
       "       [2000],\n",
       "       [2001],\n",
       "       [2002],\n",
       "       [2003],\n",
       "       [2004],\n",
       "       [2005],\n",
       "       [2006],\n",
       "       [2007],\n",
       "       [2008],\n",
       "       [2009],\n",
       "       [2010],\n",
       "       [2011],\n",
       "       [2012],\n",
       "       [2013],\n",
       "       [2014],\n",
       "       [2015],\n",
       "       [2016],\n",
       "       [2017],\n",
       "       [2018],\n",
       "       [2019],\n",
       "       [2020],\n",
       "       [2021],\n",
       "       [2022],\n",
       "       [2023],\n",
       "       [2024]])"
      ]
     },
     "execution_count": 8,
     "metadata": {},
     "output_type": "execute_result"
    }
   ],
   "source": [
    "xs = np.array(list(lst.keys())).reshape(-1, 1)\n",
    "ys = np.array(list(lst.values())).reshape(-1, 1)\n",
    "\n",
    "xs"
   ]
  },
  {
   "cell_type": "code",
   "execution_count": 9,
   "metadata": {},
   "outputs": [
    {
     "data": {
      "text/html": [
       "\n",
       "            <style>\n",
       "                .geemap-dark {\n",
       "                    --jp-widgets-color: white;\n",
       "                    --jp-widgets-label-color: white;\n",
       "                    --jp-ui-font-color1: white;\n",
       "                    --jp-layout-color2: #454545;\n",
       "                    background-color: #383838;\n",
       "                }\n",
       "\n",
       "                .geemap-dark .jupyter-button {\n",
       "                    --jp-layout-color3: #383838;\n",
       "                }\n",
       "\n",
       "                .geemap-colab {\n",
       "                    background-color: var(--colab-primary-surface-color, white);\n",
       "                }\n",
       "\n",
       "                .geemap-colab .jupyter-button {\n",
       "                    --jp-layout-color3: var(--colab-primary-surface-color, white);\n",
       "                }\n",
       "            </style>\n",
       "            "
      ],
      "text/plain": [
       "<IPython.core.display.HTML object>"
      ]
     },
     "metadata": {},
     "output_type": "display_data"
    }
   ],
   "source": [
    "regressor = LinearRegression().fit(xs, ys)"
   ]
  },
  {
   "cell_type": "code",
   "execution_count": 10,
   "metadata": {},
   "outputs": [
    {
     "name": "stderr",
     "output_type": "stream",
     "text": [
      "<>:24: SyntaxWarning: invalid escape sequence '\\i'\n",
      "<>:24: SyntaxWarning: invalid escape sequence '\\d'\n",
      "<>:24: SyntaxWarning: invalid escape sequence '\\i'\n",
      "<>:24: SyntaxWarning: invalid escape sequence '\\d'\n"
     ]
    },
    {
     "data": {
      "text/html": [
       "\n",
       "            <style>\n",
       "                .geemap-dark {\n",
       "                    --jp-widgets-color: white;\n",
       "                    --jp-widgets-label-color: white;\n",
       "                    --jp-ui-font-color1: white;\n",
       "                    --jp-layout-color2: #454545;\n",
       "                    background-color: #383838;\n",
       "                }\n",
       "\n",
       "                .geemap-dark .jupyter-button {\n",
       "                    --jp-layout-color3: #383838;\n",
       "                }\n",
       "\n",
       "                .geemap-colab {\n",
       "                    background-color: var(--colab-primary-surface-color, white);\n",
       "                }\n",
       "\n",
       "                .geemap-colab .jupyter-button {\n",
       "                    --jp-layout-color3: var(--colab-primary-surface-color, white);\n",
       "                }\n",
       "            </style>\n",
       "            "
      ],
      "text/plain": [
       "<IPython.core.display.HTML object>"
      ]
     },
     "metadata": {},
     "output_type": "display_data"
    },
    {
     "name": "stderr",
     "output_type": "stream",
     "text": [
      "/tmp/ipykernel_5583/3012136392.py:24: SyntaxWarning: invalid escape sequence '\\i'\n",
      "  s=f\"$\\it{{Тренд = {regressor.coef_[0][0]:.2f}}}{{\\degree}}C/год$\",\n",
      "/tmp/ipykernel_5583/3012136392.py:24: SyntaxWarning: invalid escape sequence '\\d'\n",
      "  s=f\"$\\it{{Тренд = {regressor.coef_[0][0]:.2f}}}{{\\degree}}C/год$\",\n"
     ]
    },
    {
     "data": {
      "image/png": "[encoded data removed]",
      "text/plain": [
       "<Figure size 1000x480 with 1 Axes>"
      ]
     },
     "metadata": {},
     "output_type": "display_data"
    }
   ],
   "source": [
    "f, ax = plt.subplots()\n",
    "\n",
    "plt.plot(\n",
    "    xs,\n",
    "    ys,\n",
    "    linewidth=1.5,\n",
    "    color='black',\n",
    "    label=\"Данные\"\n",
    ")\n",
    "\n",
    "plt.plot(\n",
    "    xs,\n",
    "    regressor.predict(xs),\n",
    "    linewidth=0.5,\n",
    "    color='black',\n",
    "    label=\"Линейная регрессия\"\n",
    ")\n",
    "\n",
    "plt.xticks(list(lst.keys()), rotation=300, ha='left')\n",
    "\n",
    "plt.text(\n",
    "   x=0.815,\n",
    "   y=0.95,\n",
    "   s=f\"$\\it{{Тренд = {regressor.coef_[0][0]:.2f}}}{{\\degree}}C/год$\",\n",
    "   horizontalalignment='center',\n",
    "   verticalalignment='top',\n",
    "   transform = ax.transAxes, #\n",
    "   bbox=dict(facecolor='white', alpha=0.2))\n",
    "\n",
    "plt.xlabel(r\"Год\")\n",
    "plt.ylabel(r\"Температура поверхностного слоя, ${\\degree}C$\")\n",
    "\n",
    "plt.gcf().set_size_inches(10, plt.gcf().get_size_inches()[1])\n",
    "\n",
    "plt.show()"
   ]
  }
 ],
 "metadata": {
  "kernelspec": {
   "display_name": "Python 3",
   "language": "python",
   "name": "python3"
  },
  "language_info": {
   "codemirror_mode": {
    "name": "ipython",
    "version": 3
   },
   "file_extension": ".py",
   "mimetype": "text/x-python",
   "name": "python",
   "nbconvert_exporter": "python",
   "pygments_lexer": "ipython3",
   "version": "3.13.2"
  }
 },
 "nbformat": 4,
 "nbformat_minor": 2
}
